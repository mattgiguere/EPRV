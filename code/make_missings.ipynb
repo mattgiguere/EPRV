{
 "cells": [
  {
   "cell_type": "markdown",
   "metadata": {},
   "source": [
    "#manipulate_regonline_output\n",
    "\n",
    "This notebook reads the RegOnline output into a pandas DataFrame and reworks it to have each row contain the attendee, the Doppler Primer Session, the Monday Breakout session, and the Tuesday breakout session in each row."
   ]
  },
  {
   "cell_type": "code",
   "execution_count": 220,
   "metadata": {
    "collapsed": true
   },
   "outputs": [],
   "source": [
    "import re\n",
    "import numpy as np\n",
    "import pandas as pd\n",
    "import matplotlib.pyplot as plt\n",
    "import matplotlib.image as mpimg\n",
    "import matplotlib"
   ]
  },
  {
   "cell_type": "code",
   "execution_count": 2,
   "metadata": {
    "collapsed": true
   },
   "outputs": [],
   "source": [
    "#%matplotlib inline"
   ]
  },
  {
   "cell_type": "markdown",
   "metadata": {},
   "source": [
    "### Read the RegOnline output into a pandas DataFrame"
   ]
  },
  {
   "cell_type": "code",
   "execution_count": 221,
   "metadata": {
    "collapsed": true
   },
   "outputs": [],
   "source": [
    "df = pd.read_excel('/Users/matt/projects/EPRV/data/missings2.xls', encoding='utf-8')"
   ]
  },
  {
   "cell_type": "code",
   "execution_count": 222,
   "metadata": {
    "collapsed": false
   },
   "outputs": [
    {
     "data": {
      "text/plain": [
       "Index([u'AgendaItem', u'RegId', u'GroupId', u'FirstName', u'LastName', u'Company'], dtype='object')"
      ]
     },
     "execution_count": 222,
     "metadata": {},
     "output_type": "execute_result"
    }
   ],
   "source": [
    "df.columns"
   ]
  },
  {
   "cell_type": "code",
   "execution_count": 223,
   "metadata": {
    "collapsed": false
   },
   "outputs": [
    {
     "data": {
      "text/html": [
       "<div style=\"max-height:1000px;max-width:1500px;overflow:auto;\">\n",
       "<table border=\"1\" class=\"dataframe\">\n",
       "  <thead>\n",
       "    <tr style=\"text-align: right;\">\n",
       "      <th></th>\n",
       "      <th>AgendaItem</th>\n",
       "      <th>RegId</th>\n",
       "      <th>GroupId</th>\n",
       "      <th>FirstName</th>\n",
       "      <th>LastName</th>\n",
       "      <th>Company</th>\n",
       "    </tr>\n",
       "  </thead>\n",
       "  <tbody>\n",
       "  </tbody>\n",
       "</table>\n",
       "</div>"
      ],
      "text/plain": [
       "Empty DataFrame\n",
       "Columns: [AgendaItem, RegId, GroupId, FirstName, LastName, Company]\n",
       "Index: []"
      ]
     },
     "execution_count": 223,
     "metadata": {},
     "output_type": "execute_result"
    }
   ],
   "source": [
    "df.loc[16:17]"
   ]
  },
  {
   "cell_type": "markdown",
   "metadata": {},
   "source": [
    "### Extract the Sunday Sessions\n",
    "\n",
    "RegOnline outputs multiple entries for each person, and each entry differs by the `AgendaItem`. `AgendaItem`s exist for all sessions happening on all days. In this section, we extract the sessions happening on Sunday, which are all prefixed by \"Doppler Primer: \"."
   ]
  },
  {
   "cell_type": "code",
   "execution_count": 224,
   "metadata": {
    "collapsed": false,
    "scrolled": false
   },
   "outputs": [],
   "source": [
    "#df['AgendaItem'].str.contains('Doppler Primer:')"
   ]
  },
  {
   "cell_type": "code",
   "execution_count": 225,
   "metadata": {
    "collapsed": false
   },
   "outputs": [
    {
     "data": {
      "text/plain": [
       "3"
      ]
     },
     "execution_count": 225,
     "metadata": {},
     "output_type": "execute_result"
    }
   ],
   "source": [
    "sundf = df[df['AgendaItem'].str.contains('Doppler Primer:')].copy()\n",
    "len(sundf)"
   ]
  },
  {
   "cell_type": "markdown",
   "metadata": {},
   "source": [
    "Let's create two new columns in our DataFrame: the `Primer`, and the `PrimerID`. The `Primer` column will contain the name of the Doppler Primer session (minus the `Doppler Primer: ` prefix), and the `PrimerID` will be a session identifier that will later be used in plotting."
   ]
  },
  {
   "cell_type": "code",
   "execution_count": 226,
   "metadata": {
    "collapsed": false
   },
   "outputs": [],
   "source": [
    "sundf['PrimerID'] = 0"
   ]
  },
  {
   "cell_type": "code",
   "execution_count": 227,
   "metadata": {
    "collapsed": false
   },
   "outputs": [],
   "source": [
    "sundf['Primer'] = [re.search(r'(.*):\\s(.*)$', item).group(2) for item in sundf['AgendaItem']]"
   ]
  },
  {
   "cell_type": "code",
   "execution_count": 228,
   "metadata": {
    "collapsed": false
   },
   "outputs": [
    {
     "data": {
      "text/html": [
       "<div style=\"max-height:1000px;max-width:1500px;overflow:auto;\">\n",
       "<table border=\"1\" class=\"dataframe\">\n",
       "  <thead>\n",
       "    <tr style=\"text-align: right;\">\n",
       "      <th></th>\n",
       "      <th>AgendaItem</th>\n",
       "      <th>Primer</th>\n",
       "    </tr>\n",
       "  </thead>\n",
       "  <tbody>\n",
       "    <tr>\n",
       "      <th>0</th>\n",
       "      <td>Doppler Primer: Not Attending</td>\n",
       "      <td>Not Attending</td>\n",
       "    </tr>\n",
       "    <tr>\n",
       "      <th>1</th>\n",
       "      <td>Doppler Primer: Not Attending</td>\n",
       "      <td>Not Attending</td>\n",
       "    </tr>\n",
       "    <tr>\n",
       "      <th>2</th>\n",
       "      <td>Doppler Primer: Not Attending</td>\n",
       "      <td>Not Attending</td>\n",
       "    </tr>\n",
       "  </tbody>\n",
       "</table>\n",
       "</div>"
      ],
      "text/plain": [
       "                      AgendaItem         Primer\n",
       "0  Doppler Primer: Not Attending  Not Attending\n",
       "1  Doppler Primer: Not Attending  Not Attending\n",
       "2  Doppler Primer: Not Attending  Not Attending"
      ]
     },
     "execution_count": 228,
     "metadata": {},
     "output_type": "execute_result"
    }
   ],
   "source": [
    "sundf[['AgendaItem', 'Primer']].head(3)"
   ]
  },
  {
   "cell_type": "code",
   "execution_count": 229,
   "metadata": {
    "collapsed": false
   },
   "outputs": [
    {
     "data": {
      "text/plain": [
       "array([u'Not Attending'], dtype=object)"
      ]
     },
     "execution_count": 229,
     "metadata": {},
     "output_type": "execute_result"
    }
   ],
   "source": [
    "sundf['Primer'].unique()"
   ]
  },
  {
   "cell_type": "markdown",
   "metadata": {
    "collapsed": false
   },
   "source": [
    "Now loop through the five unique sessions, updating the `PrimerID` column for each participant:"
   ]
  },
  {
   "cell_type": "code",
   "execution_count": 230,
   "metadata": {
    "collapsed": false
   },
   "outputs": [],
   "source": [
    "dopID = 0\n",
    "for agItem in sundf['Primer'].unique():\n",
    "    sundf.loc[sundf['Primer'] == agItem, 'PrimerID'] = dopID\n",
    "    dopID += 1"
   ]
  },
  {
   "cell_type": "markdown",
   "metadata": {},
   "source": [
    "Create an abbreviated code for each session. This will be added to the nametag to spark conversation among participants."
   ]
  },
  {
   "cell_type": "code",
   "execution_count": 231,
   "metadata": {
    "collapsed": true
   },
   "outputs": [],
   "source": [
    "sun_ses = ['NA', 'SA', 'IC', 'DC', 'SM']"
   ]
  },
  {
   "cell_type": "markdown",
   "metadata": {},
   "source": [
    "A quick preview of the first few rows to see the result:"
   ]
  },
  {
   "cell_type": "code",
   "execution_count": 232,
   "metadata": {
    "collapsed": false
   },
   "outputs": [
    {
     "data": {
      "text/html": [
       "<div style=\"max-height:1000px;max-width:1500px;overflow:auto;\">\n",
       "<table border=\"1\" class=\"dataframe\">\n",
       "  <thead>\n",
       "    <tr style=\"text-align: right;\">\n",
       "      <th></th>\n",
       "      <th>AgendaItem</th>\n",
       "      <th>Primer</th>\n",
       "      <th>PrimerID</th>\n",
       "    </tr>\n",
       "  </thead>\n",
       "  <tbody>\n",
       "    <tr>\n",
       "      <th>0</th>\n",
       "      <td>Doppler Primer: Not Attending</td>\n",
       "      <td>Not Attending</td>\n",
       "      <td>0</td>\n",
       "    </tr>\n",
       "    <tr>\n",
       "      <th>1</th>\n",
       "      <td>Doppler Primer: Not Attending</td>\n",
       "      <td>Not Attending</td>\n",
       "      <td>0</td>\n",
       "    </tr>\n",
       "    <tr>\n",
       "      <th>2</th>\n",
       "      <td>Doppler Primer: Not Attending</td>\n",
       "      <td>Not Attending</td>\n",
       "      <td>0</td>\n",
       "    </tr>\n",
       "  </tbody>\n",
       "</table>\n",
       "</div>"
      ],
      "text/plain": [
       "                      AgendaItem         Primer  PrimerID\n",
       "0  Doppler Primer: Not Attending  Not Attending         0\n",
       "1  Doppler Primer: Not Attending  Not Attending         0\n",
       "2  Doppler Primer: Not Attending  Not Attending         0"
      ]
     },
     "execution_count": 232,
     "metadata": {},
     "output_type": "execute_result"
    }
   ],
   "source": [
    "sundf[['AgendaItem', 'Primer', 'PrimerID']].head(4)"
   ]
  },
  {
   "cell_type": "markdown",
   "metadata": {},
   "source": [
    "### Extract the Monday Sessions\n",
    "\n",
    "Now to do the same for the Monday sessions."
   ]
  },
  {
   "cell_type": "code",
   "execution_count": 233,
   "metadata": {
    "collapsed": false
   },
   "outputs": [
    {
     "data": {
      "text/plain": [
       "3"
      ]
     },
     "execution_count": 233,
     "metadata": {},
     "output_type": "execute_result"
    }
   ],
   "source": [
    "mondf = df[df['AgendaItem'].str.contains('Monday Break-out:')].copy()\n",
    "len(mondf)"
   ]
  },
  {
   "cell_type": "code",
   "execution_count": 234,
   "metadata": {
    "collapsed": false
   },
   "outputs": [],
   "source": [
    "mondf['MonID'] = 0\n",
    "\n",
    "mondf['Monday'] = [re.search(r'(.*):\\s(.*)$', item).group(2) for item in mondf['AgendaItem']]\n",
    "\n",
    "mondf['Monday'].unique()\n",
    "\n",
    "monID = 0\n",
    "for agItem in mondf['Monday'].unique():\n",
    "    mondf.loc[mondf['Monday'] == agItem, 'MonID'] = monID\n",
    "    monID += 1"
   ]
  },
  {
   "cell_type": "code",
   "execution_count": 235,
   "metadata": {
    "collapsed": false
   },
   "outputs": [
    {
     "data": {
      "text/plain": [
       "array([u'Not attending'], dtype=object)"
      ]
     },
     "execution_count": 235,
     "metadata": {},
     "output_type": "execute_result"
    }
   ],
   "source": [
    "mondf['Monday'].unique()"
   ]
  },
  {
   "cell_type": "code",
   "execution_count": 236,
   "metadata": {
    "collapsed": true
   },
   "outputs": [],
   "source": [
    "mon_ses = ['NA', 'FS', 'TC', 'BC', 'FC']"
   ]
  },
  {
   "cell_type": "code",
   "execution_count": 237,
   "metadata": {
    "collapsed": false
   },
   "outputs": [
    {
     "data": {
      "text/html": [
       "<div style=\"max-height:1000px;max-width:1500px;overflow:auto;\">\n",
       "<table border=\"1\" class=\"dataframe\">\n",
       "  <thead>\n",
       "    <tr style=\"text-align: right;\">\n",
       "      <th></th>\n",
       "      <th>AgendaItem</th>\n",
       "      <th>Monday</th>\n",
       "      <th>MonID</th>\n",
       "    </tr>\n",
       "  </thead>\n",
       "  <tbody>\n",
       "    <tr>\n",
       "      <th>3</th>\n",
       "      <td>Monday Break-out: Not attending</td>\n",
       "      <td>Not attending</td>\n",
       "      <td>0</td>\n",
       "    </tr>\n",
       "    <tr>\n",
       "      <th>4</th>\n",
       "      <td>Monday Break-out: Not attending</td>\n",
       "      <td>Not attending</td>\n",
       "      <td>0</td>\n",
       "    </tr>\n",
       "    <tr>\n",
       "      <th>5</th>\n",
       "      <td>Monday Break-out: Not attending</td>\n",
       "      <td>Not attending</td>\n",
       "      <td>0</td>\n",
       "    </tr>\n",
       "  </tbody>\n",
       "</table>\n",
       "</div>"
      ],
      "text/plain": [
       "                        AgendaItem         Monday  MonID\n",
       "3  Monday Break-out: Not attending  Not attending      0\n",
       "4  Monday Break-out: Not attending  Not attending      0\n",
       "5  Monday Break-out: Not attending  Not attending      0"
      ]
     },
     "execution_count": 237,
     "metadata": {},
     "output_type": "execute_result"
    }
   ],
   "source": [
    "mondf[['AgendaItem', 'Monday', 'MonID']].head(4)"
   ]
  },
  {
   "cell_type": "markdown",
   "metadata": {},
   "source": [
    "### Extract Tuesday Sessions"
   ]
  },
  {
   "cell_type": "code",
   "execution_count": 238,
   "metadata": {
    "collapsed": false
   },
   "outputs": [
    {
     "data": {
      "text/plain": [
       "3"
      ]
     },
     "execution_count": 238,
     "metadata": {},
     "output_type": "execute_result"
    }
   ],
   "source": [
    "tuedf = df[df['AgendaItem'].str.contains('Tuesday Break-out:')].copy()\n",
    "len(tuedf)"
   ]
  },
  {
   "cell_type": "code",
   "execution_count": 239,
   "metadata": {
    "collapsed": true
   },
   "outputs": [],
   "source": [
    "tuedf['TueID'] = 0\n",
    "\n",
    "tuedf['Tuesday'] = [re.search(r'(.*):\\s(.*)$', item).group(2) for item in tuedf['AgendaItem']]\n",
    "\n",
    "tuedf['Tuesday'].unique()\n",
    "\n",
    "tuesID = 0\n",
    "for agItem in tuedf['Tuesday'].unique():\n",
    "    tuedf.loc[tuedf['Tuesday'] == agItem, 'TueID'] = tuesID\n",
    "    tuesID += 1"
   ]
  },
  {
   "cell_type": "code",
   "execution_count": 240,
   "metadata": {
    "collapsed": false
   },
   "outputs": [
    {
     "data": {
      "text/plain": [
       "array([u'Not attending'], dtype=object)"
      ]
     },
     "execution_count": 240,
     "metadata": {},
     "output_type": "execute_result"
    }
   ],
   "source": [
    "tuedf['Tuesday'].unique()"
   ]
  },
  {
   "cell_type": "code",
   "execution_count": 241,
   "metadata": {
    "collapsed": true
   },
   "outputs": [],
   "source": [
    "tue_ses = ['NA', 'ST', 'DC', 'LB', 'PS']"
   ]
  },
  {
   "cell_type": "code",
   "execution_count": 242,
   "metadata": {
    "collapsed": false
   },
   "outputs": [
    {
     "data": {
      "text/html": [
       "<div style=\"max-height:1000px;max-width:1500px;overflow:auto;\">\n",
       "<table border=\"1\" class=\"dataframe\">\n",
       "  <thead>\n",
       "    <tr style=\"text-align: right;\">\n",
       "      <th></th>\n",
       "      <th>AgendaItem</th>\n",
       "      <th>Tuesday</th>\n",
       "      <th>TueID</th>\n",
       "    </tr>\n",
       "  </thead>\n",
       "  <tbody>\n",
       "    <tr>\n",
       "      <th>6</th>\n",
       "      <td>Tuesday Break-out: Not attending</td>\n",
       "      <td>Not attending</td>\n",
       "      <td>0</td>\n",
       "    </tr>\n",
       "    <tr>\n",
       "      <th>7</th>\n",
       "      <td>Tuesday Break-out: Not attending</td>\n",
       "      <td>Not attending</td>\n",
       "      <td>0</td>\n",
       "    </tr>\n",
       "    <tr>\n",
       "      <th>8</th>\n",
       "      <td>Tuesday Break-out: Not attending</td>\n",
       "      <td>Not attending</td>\n",
       "      <td>0</td>\n",
       "    </tr>\n",
       "  </tbody>\n",
       "</table>\n",
       "</div>"
      ],
      "text/plain": [
       "                         AgendaItem        Tuesday  TueID\n",
       "6  Tuesday Break-out: Not attending  Not attending      0\n",
       "7  Tuesday Break-out: Not attending  Not attending      0\n",
       "8  Tuesday Break-out: Not attending  Not attending      0"
      ]
     },
     "execution_count": 242,
     "metadata": {},
     "output_type": "execute_result"
    }
   ],
   "source": [
    "tuedf[['AgendaItem', 'Tuesday', 'TueID']].head(4)"
   ]
  },
  {
   "cell_type": "markdown",
   "metadata": {},
   "source": [
    "### Combine the DataFrames\n",
    "\n",
    "We only need to join on one field. However, pandas does something weird, where it creates multiple `GroupId_x` columns when joining multiple times. The simple solution is just to join on multiple columns since we know they're all consistent."
   ]
  },
  {
   "cell_type": "code",
   "execution_count": 243,
   "metadata": {
    "collapsed": true
   },
   "outputs": [],
   "source": [
    "fulldf = df[['RegId', 'GroupId', 'FirstName', 'LastName', 'Company']]"
   ]
  },
  {
   "cell_type": "code",
   "execution_count": 244,
   "metadata": {
    "collapsed": false
   },
   "outputs": [
    {
     "name": "stdout",
     "output_type": "stream",
     "text": [
      "9\n",
      "3\n",
      "3\n",
      "3\n",
      "3\n"
     ]
    }
   ],
   "source": [
    "print(len(fulldf))\n",
    "fulldf = fulldf.drop_duplicates()\n",
    "print(len(fulldf))\n",
    "print(len(sundf))\n",
    "print(len(mondf))\n",
    "print(len(tuedf))"
   ]
  },
  {
   "cell_type": "code",
   "execution_count": 245,
   "metadata": {
    "collapsed": false
   },
   "outputs": [
    {
     "data": {
      "text/plain": [
       "Index([u'RegId', u'GroupId', u'FirstName', u'LastName', u'Company'], dtype='object')"
      ]
     },
     "execution_count": 245,
     "metadata": {},
     "output_type": "execute_result"
    }
   ],
   "source": [
    "fulldf.columns"
   ]
  },
  {
   "cell_type": "code",
   "execution_count": 246,
   "metadata": {
    "collapsed": false
   },
   "outputs": [
    {
     "data": {
      "text/plain": [
       "Index([u'AgendaItem', u'RegId', u'GroupId', u'FirstName', u'LastName', u'Company', u'PrimerID', u'Primer'], dtype='object')"
      ]
     },
     "execution_count": 246,
     "metadata": {},
     "output_type": "execute_result"
    }
   ],
   "source": [
    "sundf.columns"
   ]
  },
  {
   "cell_type": "code",
   "execution_count": 247,
   "metadata": {
    "collapsed": false
   },
   "outputs": [
    {
     "name": "stdout",
     "output_type": "stream",
     "text": [
      "3\n",
      "3\n",
      "3\n"
     ]
    }
   ],
   "source": [
    "newdf = pd.merge(fulldf, sundf, on=['RegId', 'GroupId', 'FirstName', 'LastName', 'Company'], how='left')\n",
    "print(len(newdf))\n",
    "\n",
    "newdf = pd.merge(newdf, mondf, on=['RegId', 'GroupId', 'FirstName', 'LastName', 'Company'], how='left')\n",
    "print(len(newdf))\n",
    "\n",
    "newdf = pd.merge(newdf, tuedf, on=['RegId', 'GroupId', 'FirstName', 'LastName', 'Company'], how='left')\n",
    "print(len(newdf))"
   ]
  },
  {
   "cell_type": "code",
   "execution_count": 248,
   "metadata": {
    "collapsed": false
   },
   "outputs": [
    {
     "data": {
      "text/html": [
       "<div style=\"max-height:1000px;max-width:1500px;overflow:auto;\">\n",
       "<table border=\"1\" class=\"dataframe\">\n",
       "  <thead>\n",
       "    <tr style=\"text-align: right;\">\n",
       "      <th></th>\n",
       "      <th>RegId</th>\n",
       "      <th>GroupId</th>\n",
       "      <th>FirstName</th>\n",
       "      <th>LastName</th>\n",
       "      <th>Company</th>\n",
       "      <th>AgendaItem_x</th>\n",
       "      <th>PrimerID</th>\n",
       "      <th>Primer</th>\n",
       "      <th>AgendaItem_y</th>\n",
       "      <th>MonID</th>\n",
       "      <th>Monday</th>\n",
       "      <th>AgendaItem</th>\n",
       "      <th>TueID</th>\n",
       "      <th>Tuesday</th>\n",
       "    </tr>\n",
       "  </thead>\n",
       "  <tbody>\n",
       "    <tr>\n",
       "      <th>0</th>\n",
       "      <td>79762587</td>\n",
       "      <td>79762587</td>\n",
       "      <td>Cheryl</td>\n",
       "      <td>Provost</td>\n",
       "      <td>FiberTech Optica</td>\n",
       "      <td>Doppler Primer: Not Attending</td>\n",
       "      <td>0</td>\n",
       "      <td>Not Attending</td>\n",
       "      <td>Monday Break-out: Not attending</td>\n",
       "      <td>0</td>\n",
       "      <td>Not attending</td>\n",
       "      <td>Tuesday Break-out: Not attending</td>\n",
       "      <td>0</td>\n",
       "      <td>Not attending</td>\n",
       "    </tr>\n",
       "    <tr>\n",
       "      <th>1</th>\n",
       "      <td>79762588</td>\n",
       "      <td>79762588</td>\n",
       "      <td>Abhijit</td>\n",
       "      <td>Chakroborty</td>\n",
       "      <td>Physical Research Lab</td>\n",
       "      <td>Doppler Primer: Not Attending</td>\n",
       "      <td>0</td>\n",
       "      <td>Not Attending</td>\n",
       "      <td>Monday Break-out: Not attending</td>\n",
       "      <td>0</td>\n",
       "      <td>Not attending</td>\n",
       "      <td>Tuesday Break-out: Not attending</td>\n",
       "      <td>0</td>\n",
       "      <td>Not attending</td>\n",
       "    </tr>\n",
       "    <tr>\n",
       "      <th>2</th>\n",
       "      <td>79762589</td>\n",
       "      <td>79762589</td>\n",
       "      <td>Jose</td>\n",
       "      <td>Dias Do Nascimento</td>\n",
       "      <td>CfA</td>\n",
       "      <td>Doppler Primer: Not Attending</td>\n",
       "      <td>0</td>\n",
       "      <td>Not Attending</td>\n",
       "      <td>Monday Break-out: Not attending</td>\n",
       "      <td>0</td>\n",
       "      <td>Not attending</td>\n",
       "      <td>Tuesday Break-out: Not attending</td>\n",
       "      <td>0</td>\n",
       "      <td>Not attending</td>\n",
       "    </tr>\n",
       "  </tbody>\n",
       "</table>\n",
       "</div>"
      ],
      "text/plain": [
       "      RegId   GroupId FirstName            LastName                Company  \\\n",
       "0  79762587  79762587    Cheryl             Provost       FiberTech Optica   \n",
       "1  79762588  79762588   Abhijit         Chakroborty  Physical Research Lab   \n",
       "2  79762589  79762589      Jose  Dias Do Nascimento                    CfA   \n",
       "\n",
       "                    AgendaItem_x  PrimerID         Primer  \\\n",
       "0  Doppler Primer: Not Attending         0  Not Attending   \n",
       "1  Doppler Primer: Not Attending         0  Not Attending   \n",
       "2  Doppler Primer: Not Attending         0  Not Attending   \n",
       "\n",
       "                      AgendaItem_y  MonID         Monday  \\\n",
       "0  Monday Break-out: Not attending      0  Not attending   \n",
       "1  Monday Break-out: Not attending      0  Not attending   \n",
       "2  Monday Break-out: Not attending      0  Not attending   \n",
       "\n",
       "                         AgendaItem  TueID        Tuesday  \n",
       "0  Tuesday Break-out: Not attending      0  Not attending  \n",
       "1  Tuesday Break-out: Not attending      0  Not attending  \n",
       "2  Tuesday Break-out: Not attending      0  Not attending  "
      ]
     },
     "execution_count": 248,
     "metadata": {},
     "output_type": "execute_result"
    }
   ],
   "source": [
    "newdf.head(5)"
   ]
  },
  {
   "cell_type": "code",
   "execution_count": 249,
   "metadata": {
    "collapsed": false
   },
   "outputs": [
    {
     "data": {
      "text/plain": [
       "Index([u'RegId', u'GroupId', u'FirstName', u'LastName', u'Company', u'AgendaItem_x', u'PrimerID', u'Primer', u'AgendaItem_y', u'MonID', u'Monday', u'AgendaItem', u'TueID', u'Tuesday'], dtype='object')"
      ]
     },
     "execution_count": 249,
     "metadata": {},
     "output_type": "execute_result"
    }
   ],
   "source": [
    "newdf.columns"
   ]
  },
  {
   "cell_type": "markdown",
   "metadata": {},
   "source": [
    "Now create a new DataFrame that is a subset of the `newdf` with only the columns of interest. Also, make sure the DataFrame is sorted by lastname, the index is reset, and it's a copy of `newdf` instead of a pointer to `newdf`."
   ]
  },
  {
   "cell_type": "code",
   "execution_count": 250,
   "metadata": {
    "collapsed": false
   },
   "outputs": [],
   "source": [
    "finaldf = newdf[['FirstName', 'LastName', 'Company', 'Primer', 'PrimerID', 'Monday', 'MonID', 'Tuesday', 'TueID']].sort('LastName').reset_index().copy()"
   ]
  },
  {
   "cell_type": "code",
   "execution_count": 251,
   "metadata": {
    "collapsed": false
   },
   "outputs": [
    {
     "data": {
      "text/html": [
       "<div style=\"max-height:1000px;max-width:1500px;overflow:auto;\">\n",
       "<table border=\"1\" class=\"dataframe\">\n",
       "  <thead>\n",
       "    <tr style=\"text-align: right;\">\n",
       "      <th></th>\n",
       "      <th>index</th>\n",
       "      <th>FirstName</th>\n",
       "      <th>LastName</th>\n",
       "      <th>Company</th>\n",
       "      <th>Primer</th>\n",
       "      <th>PrimerID</th>\n",
       "      <th>Monday</th>\n",
       "      <th>MonID</th>\n",
       "      <th>Tuesday</th>\n",
       "      <th>TueID</th>\n",
       "    </tr>\n",
       "  </thead>\n",
       "  <tbody>\n",
       "    <tr>\n",
       "      <th>0</th>\n",
       "      <td>1</td>\n",
       "      <td>Abhijit</td>\n",
       "      <td>Chakroborty</td>\n",
       "      <td>Physical Research Lab</td>\n",
       "      <td>Not Attending</td>\n",
       "      <td>0</td>\n",
       "      <td>Not attending</td>\n",
       "      <td>0</td>\n",
       "      <td>Not attending</td>\n",
       "      <td>0</td>\n",
       "    </tr>\n",
       "    <tr>\n",
       "      <th>1</th>\n",
       "      <td>2</td>\n",
       "      <td>Jose</td>\n",
       "      <td>Dias Do Nascimento</td>\n",
       "      <td>CfA</td>\n",
       "      <td>Not Attending</td>\n",
       "      <td>0</td>\n",
       "      <td>Not attending</td>\n",
       "      <td>0</td>\n",
       "      <td>Not attending</td>\n",
       "      <td>0</td>\n",
       "    </tr>\n",
       "    <tr>\n",
       "      <th>2</th>\n",
       "      <td>0</td>\n",
       "      <td>Cheryl</td>\n",
       "      <td>Provost</td>\n",
       "      <td>FiberTech Optica</td>\n",
       "      <td>Not Attending</td>\n",
       "      <td>0</td>\n",
       "      <td>Not attending</td>\n",
       "      <td>0</td>\n",
       "      <td>Not attending</td>\n",
       "      <td>0</td>\n",
       "    </tr>\n",
       "  </tbody>\n",
       "</table>\n",
       "</div>"
      ],
      "text/plain": [
       "   index FirstName            LastName                Company         Primer  \\\n",
       "0      1   Abhijit         Chakroborty  Physical Research Lab  Not Attending   \n",
       "1      2      Jose  Dias Do Nascimento                    CfA  Not Attending   \n",
       "2      0    Cheryl             Provost       FiberTech Optica  Not Attending   \n",
       "\n",
       "   PrimerID         Monday  MonID        Tuesday  TueID  \n",
       "0         0  Not attending      0  Not attending      0  \n",
       "1         0  Not attending      0  Not attending      0  \n",
       "2         0  Not attending      0  Not attending      0  "
      ]
     },
     "execution_count": 251,
     "metadata": {},
     "output_type": "execute_result"
    }
   ],
   "source": [
    "finaldf.head(5)"
   ]
  },
  {
   "cell_type": "code",
   "execution_count": 252,
   "metadata": {
    "collapsed": false
   },
   "outputs": [
    {
     "data": {
      "text/plain": [
       "3"
      ]
     },
     "execution_count": 252,
     "metadata": {},
     "output_type": "execute_result"
    }
   ],
   "source": [
    "len(finaldf)"
   ]
  },
  {
   "cell_type": "code",
   "execution_count": 253,
   "metadata": {
    "collapsed": false
   },
   "outputs": [
    {
     "data": {
      "text/plain": [
       "Index([u'index', u'FirstName', u'LastName', u'Company', u'Primer', u'PrimerID', u'Monday', u'MonID', u'Tuesday', u'TueID'], dtype='object')"
      ]
     },
     "execution_count": 253,
     "metadata": {},
     "output_type": "execute_result"
    }
   ],
   "source": [
    "finaldf.columns"
   ]
  },
  {
   "cell_type": "markdown",
   "metadata": {},
   "source": [
    "Now replace all empty cells for \"Company\" to a very general location:"
   ]
  },
  {
   "cell_type": "code",
   "execution_count": 254,
   "metadata": {
    "collapsed": false
   },
   "outputs": [],
   "source": [
    "finaldf.Company = ['Earth' if pd.isnull(company_el) else company_el for company_el in finaldf.Company]"
   ]
  },
  {
   "cell_type": "markdown",
   "metadata": {},
   "source": [
    "Replace NaNs for PrimerID with the \"Not Attending\" ID:"
   ]
  },
  {
   "cell_type": "code",
   "execution_count": 255,
   "metadata": {
    "collapsed": true
   },
   "outputs": [],
   "source": [
    "finaldf.PrimerID = [4 if pd.isnull(primerid_el) else primerid_el for primerid_el in finaldf.PrimerID]"
   ]
  },
  {
   "cell_type": "markdown",
   "metadata": {},
   "source": [
    "Check for NaNs in the Monday ID:"
   ]
  },
  {
   "cell_type": "code",
   "execution_count": 256,
   "metadata": {
    "collapsed": false
   },
   "outputs": [
    {
     "data": {
      "text/plain": [
       "0"
      ]
     },
     "execution_count": 256,
     "metadata": {},
     "output_type": "execute_result"
    }
   ],
   "source": [
    "len(finaldf[pd.isnull(finaldf['MonID'])])"
   ]
  },
  {
   "cell_type": "markdown",
   "metadata": {},
   "source": [
    "Replace NaNs for the MonID with the \"Not Attending\" ID:"
   ]
  },
  {
   "cell_type": "code",
   "execution_count": 257,
   "metadata": {
    "collapsed": true
   },
   "outputs": [],
   "source": [
    "finaldf.MonID = [4 if pd.isnull(monid_el) else monid_el for monid_el in finaldf.MonID]"
   ]
  },
  {
   "cell_type": "code",
   "execution_count": 258,
   "metadata": {
    "collapsed": false
   },
   "outputs": [
    {
     "data": {
      "text/plain": [
       "0"
      ]
     },
     "execution_count": 258,
     "metadata": {},
     "output_type": "execute_result"
    }
   ],
   "source": [
    "len(finaldf[pd.isnull(finaldf['MonID'])])"
   ]
  },
  {
   "cell_type": "markdown",
   "metadata": {},
   "source": [
    "Replace NaNs for the TueID with the \"Not Attending\" ID:"
   ]
  },
  {
   "cell_type": "code",
   "execution_count": 259,
   "metadata": {
    "collapsed": false
   },
   "outputs": [
    {
     "data": {
      "text/plain": [
       "0"
      ]
     },
     "execution_count": 259,
     "metadata": {},
     "output_type": "execute_result"
    }
   ],
   "source": [
    "len(finaldf[pd.isnull(finaldf['TueID'])])"
   ]
  },
  {
   "cell_type": "code",
   "execution_count": 260,
   "metadata": {
    "collapsed": true
   },
   "outputs": [],
   "source": [
    "finaldf.TueID = [4 if pd.isnull(tueid_el) else tueid_el for tueid_el in finaldf.TueID]"
   ]
  },
  {
   "cell_type": "code",
   "execution_count": 261,
   "metadata": {
    "collapsed": false
   },
   "outputs": [
    {
     "data": {
      "text/plain": [
       "0"
      ]
     },
     "execution_count": 261,
     "metadata": {},
     "output_type": "execute_result"
    }
   ],
   "source": [
    "len(finaldf[pd.isnull(finaldf['TueID'])])"
   ]
  },
  {
   "cell_type": "markdown",
   "metadata": {},
   "source": [
    "Test out the wrap-around text for institute for participants that have long institution names. This regular expression will look for institutions (or Companies, as RegOnline refers to them), and find items that have a '/', and if no '/', either a '-', ',', or 'at' in the text. If so, add a newline character to make the text wrap around to the next line.\n",
    "\n",
    "We'll first test the output on a participant's institution that contains both a '/' and a '-':"
   ]
  },
  {
   "cell_type": "code",
   "execution_count": 262,
   "metadata": {
    "collapsed": false
   },
   "outputs": [
    {
     "data": {
      "text/plain": [
       "u'FiberTech Optica'"
      ]
     },
     "execution_count": 262,
     "metadata": {},
     "output_type": "execute_result"
    }
   ],
   "source": [
    "p = re.compile ('(/|^(?!.*/).*-|^(?!.*/).*,|^(?!.*/).*\\sat\\s)')\n",
    "p.subn(r'\\1\\n', finaldf.loc[2].Company)[0]"
   ]
  },
  {
   "cell_type": "markdown",
   "metadata": {},
   "source": [
    "And test a cell that is long, contains `at`, but `at` is part of a longer word:"
   ]
  },
  {
   "cell_type": "code",
   "execution_count": 263,
   "metadata": {
    "collapsed": false
   },
   "outputs": [],
   "source": [
    "#p.subn(r'\\1\\n', finaldf.loc[53].Company)[0]"
   ]
  },
  {
   "cell_type": "markdown",
   "metadata": {},
   "source": [
    "And a quick test on a few more institutions:"
   ]
  },
  {
   "cell_type": "code",
   "execution_count": 264,
   "metadata": {
    "collapsed": false,
    "scrolled": true
   },
   "outputs": [
    {
     "data": {
      "text/plain": [
       "[u'Physical Research Lab', u'CfA', u'FiberTech Optica']"
      ]
     },
     "execution_count": 264,
     "metadata": {},
     "output_type": "execute_result"
    }
   ],
   "source": [
    "[p.sub(r'\\1\\n', company_el) if len(company_el) > 30 else company_el for company_el in finaldf.head(5).Company.values]"
   ]
  },
  {
   "cell_type": "markdown",
   "metadata": {},
   "source": [
    "Now update the full `Company` column of the DataFrame:"
   ]
  },
  {
   "cell_type": "code",
   "execution_count": 265,
   "metadata": {
    "collapsed": false
   },
   "outputs": [],
   "source": [
    "finaldf.Company = [p.sub(r'\\1\\n', company_el) if len(company_el) > 30 else company_el for company_el in finaldf.Company.values]"
   ]
  },
  {
   "cell_type": "markdown",
   "metadata": {},
   "source": [
    "## Plot Labels\n",
    "\n",
    "Now that we have our DataFrame cleaned up the way we want it we can print the data to the Avery 5392 format. This format contains 6 4\"x3\" nametags per sheet."
   ]
  },
  {
   "cell_type": "code",
   "execution_count": 266,
   "metadata": {
    "collapsed": true
   },
   "outputs": [],
   "source": [
    "png = mpimg.imread('/Users/matt/projects/EPRV/images/NameTag2.png')"
   ]
  },
  {
   "cell_type": "code",
   "execution_count": 267,
   "metadata": {
    "collapsed": false
   },
   "outputs": [
    {
     "data": {
      "text/plain": [
       "(900, 1200, 4)"
      ]
     },
     "execution_count": 267,
     "metadata": {},
     "output_type": "execute_result"
    }
   ],
   "source": [
    "png.shape"
   ]
  },
  {
   "cell_type": "code",
   "execution_count": 268,
   "metadata": {
    "collapsed": false,
    "scrolled": true
   },
   "outputs": [],
   "source": [
    "import matplotlib.font_manager as mfm\n",
    "fontpaths = fontpaths=['/System/Library/Fonts/',\n",
    "                       '/Library/Fonts',\n",
    "                       '/Library/Fonts/Microsoft',\n",
    "                       '/usr/X11/lib/X11/fonts',\n",
    "                       '/opt/X11/share/fonts',\n",
    "                       '/Users/matt/Library/Fonts']\n",
    "\n",
    "blaa = mfm.findSystemFonts(fontpaths=fontpaths)"
   ]
  },
  {
   "cell_type": "code",
   "execution_count": 269,
   "metadata": {
    "collapsed": false,
    "scrolled": true
   },
   "outputs": [
    {
     "name": "stdout",
     "output_type": "stream",
     "text": [
      "Now on page: 0\n",
      "Now making name tag for: Abhijit Chakroborty\n",
      "Now making name tag for: Jose Dias Do Nascimento\n",
      "Now making name tag for: Cheryl Provost\n"
     ]
    }
   ],
   "source": [
    "colors = ['#FFE2A9', '#4BA4D8', '#768085', '#BF5338', '#335B8F']\n",
    "colors2 = ['#335B8F', '#BF5338', '#768085',  '#4BA4D8', '#FFE2A9']\n",
    "colors3 = ['#4BA4D8', '#FFE2A9', '#BF5338', '#768085', '#335B8F']\n",
    "\n",
    "circ_ypos = 775\n",
    "name_dict = {'family': 'YaleNew-Roman',\n",
    "             'color': '#D6E8E1',\n",
    "             'weight': 'bold',\n",
    "             'size': 28\n",
    "             }\n",
    "\n",
    "company_dict = {'family': 'YaleNew-Roman',\n",
    "                'color': '#D6E8E1',\n",
    "                'weight': 'bold',\n",
    "                'size': 16\n",
    "                }\n",
    "\n",
    "circle_dict = {'family': 'YaleNew-Roman',\n",
    "               'color': '#1D2523',\n",
    "               'weight': 'normal',\n",
    "               'size': 20\n",
    "               }\n",
    "\n",
    "\n",
    "def change_name_size(name, name_dict):\n",
    "    if len(name) < 16:\n",
    "        name_dict['size'] = 28\n",
    "    elif ((len(name) >= 16) and (len(name) < 19)):\n",
    "        name_dict['size'] = 24\n",
    "    elif ((len(name) >= 19) and (len(name) < 24)):\n",
    "        name_dict['size'] = 20\n",
    "    elif ((len(name) >= 24) and (len(name) < 30)):\n",
    "        name_dict['size'] = 17\n",
    "    else:\n",
    "        name_dict['size'] = 16\n",
    "    return name_dict\n",
    "        \n",
    "\n",
    "def change_company_size(company, company_dict):\n",
    "    newlines = len(re.findall(r'\\n', finaldf.loc[0].Company))\n",
    "    if newlines == 0:\n",
    "        if len(company) < 15:\n",
    "            company_dict['size'] = 18\n",
    "        elif ((len(company) >= 15) and (len(company) < 30)):\n",
    "            company_dict['size'] = 14\n",
    "        elif ((len(company) >= 30) and (len(company) < 40)):\n",
    "            company_dict['size'] = 12\n",
    "        elif ((len(company) >= 40) and (len(company) < 50)):\n",
    "            company_dict['size'] = 10\n",
    "        else:\n",
    "            company_dict['size'] = 8\n",
    "    else:\n",
    "        if len(company) < 15:\n",
    "            company_dict['size'] = 18\n",
    "        elif ((len(company) >= 15) and (len(company) < 40)):\n",
    "            company_dict['size'] = 14\n",
    "        elif ((len(company) >= 40) and (len(company) < 50)):\n",
    "            company_dict['size'] = 12\n",
    "        else:\n",
    "            company_dict['size'] = 10\n",
    "    return company_dict\n",
    "    \n",
    "\n",
    "# The HP Color LaserJet CP4020 offsets things by 1/16th of an inch left-to-right.\n",
    "# This fudge factor should fix that:\n",
    "hrz_fdg = 1. / 16./ 8.5\n",
    "leftarr = np.array([0.0294, 0.5, 0.0294, 0.5, 0.0294, 0.5]) + hrz_fdg\n",
    "bottomarr = [0.091, 0.091, 0.364,  0.364, 0.637, 0.637]\n",
    "width = 0.4706\n",
    "height = 0.273\n",
    "\n",
    "# loop through the total number of pages:\n",
    "for page in range(int(np.ceil((len(finaldf))/6.))):\n",
    "    print('Now on page: {}'.format(page))\n",
    "    fig = plt.figure(figsize=(8.5, 11))\n",
    "    for indx in range(6):\n",
    "        # add an if statement to handle the last page if there are less than\n",
    "        # six participants remaining:\n",
    "        if ((page*6 + indx) < len(finaldf)):\n",
    "            rect = [leftarr[indx], bottomarr[indx], width, height]\n",
    "            ax = fig.add_axes(rect)\n",
    "            ax.imshow(png)\n",
    "            ax.get_xaxis().set_visible(False)\n",
    "            ax.get_yaxis().set_visible(False)\n",
    "\n",
    "            print(u'Now making name tag for: {} {}'.format(finaldf.loc[page*6 + indx].FirstName, finaldf.loc[page*6 + indx].LastName))\n",
    "            \n",
    "            #add name text:\n",
    "            name = finaldf.loc[page*6 + indx].FirstName + ' ' + finaldf.loc[page*6 + indx].LastName \n",
    "            this_name_dict = change_name_size(name, name_dict)\n",
    "            ax.text(600, 500, name, fontdict=this_name_dict, horizontalalignment='center')\n",
    "\n",
    "            #add company text:\n",
    "            company = finaldf.loc[page*6 + indx].Company\n",
    "            this_co_dict = change_company_size(company, company_dict)\n",
    "            ax.text(600, 625, company, fontdict=this_co_dict, horizontalalignment='center')\n",
    "\n",
    "            #add circles for sessions:\n",
    "            circ1 = plt.Circle((750, circ_ypos), 70, color=colors[int(finaldf.loc[page*6 + indx].PrimerID)])\n",
    "            fig.gca().add_artist(circ1)\n",
    "            ax.text(750, circ_ypos + 27.5, sun_ses[int(finaldf.loc[page*6 + indx].PrimerID)], fontdict=circle_dict, horizontalalignment='center')\n",
    "\n",
    "            circ2 = plt.Circle((925, circ_ypos), 70, color=colors2[int(finaldf.loc[page*6 + indx].MonID)])\n",
    "            fig.gca().add_artist(circ2)\n",
    "            ax.text(925, circ_ypos + 27.5, mon_ses[int(finaldf.loc[page*6 + indx].MonID)], fontdict=circle_dict, horizontalalignment='center')\n",
    "\n",
    "            circ3 = plt.Circle((1100, circ_ypos), 70, color=colors3[int(finaldf.loc[page*6 + indx].TueID)])\n",
    "            fig.gca().add_artist(circ3)\n",
    "            ax.text(1100, circ_ypos + 27.5, tue_ses[int(finaldf.loc[page*6 + indx].TueID)], fontdict=circle_dict, horizontalalignment='center')\n",
    "\n",
    "    plt.savefig('../nametags/more_missing_nameTags_bold_p'+str(page)+'.png', dpi=300)\n"
   ]
  },
  {
   "cell_type": "code",
   "execution_count": 270,
   "metadata": {
    "collapsed": false
   },
   "outputs": [
    {
     "data": {
      "text/plain": [
       "Index([u'index', u'FirstName', u'LastName', u'Company', u'Primer', u'PrimerID', u'Monday', u'MonID', u'Tuesday', u'TueID'], dtype='object')"
      ]
     },
     "execution_count": 270,
     "metadata": {},
     "output_type": "execute_result"
    }
   ],
   "source": [
    "finaldf.columns"
   ]
  },
  {
   "cell_type": "code",
   "execution_count": 271,
   "metadata": {
    "collapsed": false
   },
   "outputs": [
    {
     "data": {
      "text/plain": [
       "array([u'Abhijit', u'Jose', u'Cheryl'], dtype=object)"
      ]
     },
     "execution_count": 271,
     "metadata": {},
     "output_type": "execute_result"
    }
   ],
   "source": [
    "finaldf.FirstName.values"
   ]
  },
  {
   "cell_type": "code",
   "execution_count": 272,
   "metadata": {
    "collapsed": false
   },
   "outputs": [
    {
     "data": {
      "text/plain": [
       "array([u'Chakroborty', u'Dias Do Nascimento', u'Provost'], dtype=object)"
      ]
     },
     "execution_count": 272,
     "metadata": {},
     "output_type": "execute_result"
    }
   ],
   "source": [
    "finaldf.LastName.values"
   ]
  },
  {
   "cell_type": "code",
   "execution_count": 273,
   "metadata": {
    "collapsed": false
   },
   "outputs": [],
   "source": [
    "hrz_fdg = 1. / 16./ 8.5\n",
    "leftarr = np.array([0.0294, 0.5, 0.0294, 0.5, 0.0294, 0.5])\n"
   ]
  },
  {
   "cell_type": "code",
   "execution_count": 274,
   "metadata": {
    "collapsed": false
   },
   "outputs": [
    {
     "data": {
      "text/plain": [
       "array([ 0.03675294,  0.50735294,  0.03675294,  0.50735294,  0.03675294,\n",
       "        0.50735294])"
      ]
     },
     "execution_count": 274,
     "metadata": {},
     "output_type": "execute_result"
    }
   ],
   "source": [
    "leftarr + hrz_fdg"
   ]
  },
  {
   "cell_type": "code",
   "execution_count": null,
   "metadata": {
    "collapsed": true
   },
   "outputs": [],
   "source": []
  }
 ],
 "metadata": {
  "kernelspec": {
   "display_name": "Python 2",
   "language": "python",
   "name": "python2"
  },
  "language_info": {
   "codemirror_mode": {
    "name": "ipython",
    "version": 2
   },
   "file_extension": ".py",
   "mimetype": "text/x-python",
   "name": "python",
   "nbconvert_exporter": "python",
   "pygments_lexer": "ipython2",
   "version": "2.7.9"
  }
 },
 "nbformat": 4,
 "nbformat_minor": 0
}
