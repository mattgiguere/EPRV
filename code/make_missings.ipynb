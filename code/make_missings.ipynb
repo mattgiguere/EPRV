{
 "cells": [
  {
   "cell_type": "markdown",
   "metadata": {},
   "source": [
    "#manipulate_regonline_output\n",
    "\n",
    "This notebook reads the RegOnline output into a pandas DataFrame and reworks it to have each row contain the attendee, the Doppler Primer Session, the Monday Breakout session, and the Tuesday breakout session in each row."
   ]
  },
  {
   "cell_type": "code",
   "execution_count": 1,
   "metadata": {
    "collapsed": true
   },
   "outputs": [],
   "source": [
    "import re\n",
    "import numpy as np\n",
    "import pandas as pd\n",
    "import matplotlib.pyplot as plt\n",
    "import matplotlib.image as mpimg\n",
    "import matplotlib"
   ]
  },
  {
   "cell_type": "code",
   "execution_count": 2,
   "metadata": {
    "collapsed": true
   },
   "outputs": [],
   "source": [
    "#%matplotlib inline"
   ]
  },
  {
   "cell_type": "markdown",
   "metadata": {},
   "source": [
    "### Read the RegOnline output into a pandas DataFrame"
   ]
  },
  {
   "cell_type": "code",
   "execution_count": 8,
   "metadata": {
    "collapsed": true
   },
   "outputs": [],
   "source": [
    "df = pd.read_excel('/Users/matt/projects/EPRV/data/missings.xls', encoding='utf-8')"
   ]
  },
  {
   "cell_type": "code",
   "execution_count": 9,
   "metadata": {
    "collapsed": false
   },
   "outputs": [
    {
     "data": {
      "text/plain": [
       "Index([u'AgendaItem', u'RegId', u'GroupId', u'FirstName', u'LastName', u'Company'], dtype='object')"
      ]
     },
     "execution_count": 9,
     "metadata": {},
     "output_type": "execute_result"
    }
   ],
   "source": [
    "df.columns"
   ]
  },
  {
   "cell_type": "code",
   "execution_count": 11,
   "metadata": {
    "collapsed": false
   },
   "outputs": [
    {
     "data": {
      "text/html": [
       "<div style=\"max-height:1000px;max-width:1500px;overflow:auto;\">\n",
       "<table border=\"1\" class=\"dataframe\">\n",
       "  <thead>\n",
       "    <tr style=\"text-align: right;\">\n",
       "      <th></th>\n",
       "      <th>AgendaItem</th>\n",
       "      <th>RegId</th>\n",
       "      <th>GroupId</th>\n",
       "      <th>FirstName</th>\n",
       "      <th>LastName</th>\n",
       "      <th>Company</th>\n",
       "    </tr>\n",
       "  </thead>\n",
       "  <tbody>\n",
       "    <tr>\n",
       "      <th>16</th>\n",
       "      <td>Monday Break-out: Not attending</td>\n",
       "      <td>80253874</td>\n",
       "      <td>80253874</td>\n",
       "      <td>Jason</td>\n",
       "      <td>Steffen</td>\n",
       "      <td>Fermilab</td>\n",
       "    </tr>\n",
       "    <tr>\n",
       "      <th>17</th>\n",
       "      <td>Monday Break-out: Not attending</td>\n",
       "      <td>80253875</td>\n",
       "      <td>80253875</td>\n",
       "      <td>Lori</td>\n",
       "      <td>Allen</td>\n",
       "      <td>NOAO</td>\n",
       "    </tr>\n",
       "  </tbody>\n",
       "</table>\n",
       "</div>"
      ],
      "text/plain": [
       "                         AgendaItem     RegId   GroupId FirstName LastName  \\\n",
       "16  Monday Break-out: Not attending  80253874  80253874     Jason  Steffen   \n",
       "17  Monday Break-out: Not attending  80253875  80253875      Lori    Allen   \n",
       "\n",
       "     Company  \n",
       "16  Fermilab  \n",
       "17      NOAO  "
      ]
     },
     "execution_count": 11,
     "metadata": {},
     "output_type": "execute_result"
    }
   ],
   "source": [
    "df.loc[16:17]"
   ]
  },
  {
   "cell_type": "markdown",
   "metadata": {},
   "source": [
    "### Extract the Sunday Sessions\n",
    "\n",
    "RegOnline outputs multiple entries for each person, and each entry differs by the `AgendaItem`. `AgendaItem`s exist for all sessions happening on all days. In this section, we extract the sessions happening on Sunday, which are all prefixed by \"Doppler Primer: \"."
   ]
  },
  {
   "cell_type": "code",
   "execution_count": 13,
   "metadata": {
    "collapsed": false,
    "scrolled": false
   },
   "outputs": [],
   "source": [
    "#df['AgendaItem'].str.contains('Doppler Primer:')"
   ]
  },
  {
   "cell_type": "code",
   "execution_count": 14,
   "metadata": {
    "collapsed": false
   },
   "outputs": [
    {
     "data": {
      "text/plain": [
       "12"
      ]
     },
     "execution_count": 14,
     "metadata": {},
     "output_type": "execute_result"
    }
   ],
   "source": [
    "sundf = df[df['AgendaItem'].str.contains('Doppler Primer:')].copy()\n",
    "len(sundf)"
   ]
  },
  {
   "cell_type": "markdown",
   "metadata": {},
   "source": [
    "Let's create two new columns in our DataFrame: the `Primer`, and the `PrimerID`. The `Primer` column will contain the name of the Doppler Primer session (minus the `Doppler Primer: ` prefix), and the `PrimerID` will be a session identifier that will later be used in plotting."
   ]
  },
  {
   "cell_type": "code",
   "execution_count": 15,
   "metadata": {
    "collapsed": false
   },
   "outputs": [],
   "source": [
    "sundf['PrimerID'] = 0"
   ]
  },
  {
   "cell_type": "code",
   "execution_count": 16,
   "metadata": {
    "collapsed": false
   },
   "outputs": [],
   "source": [
    "sundf['Primer'] = [re.search(r'(.*):\\s(.*)$', item).group(2) for item in sundf['AgendaItem']]"
   ]
  },
  {
   "cell_type": "code",
   "execution_count": 17,
   "metadata": {
    "collapsed": false
   },
   "outputs": [
    {
     "data": {
      "text/html": [
       "<div style=\"max-height:1000px;max-width:1500px;overflow:auto;\">\n",
       "<table border=\"1\" class=\"dataframe\">\n",
       "  <thead>\n",
       "    <tr style=\"text-align: right;\">\n",
       "      <th></th>\n",
       "      <th>AgendaItem</th>\n",
       "      <th>Primer</th>\n",
       "    </tr>\n",
       "  </thead>\n",
       "  <tbody>\n",
       "    <tr>\n",
       "      <th>0</th>\n",
       "      <td>Doppler Primer: Not Attending</td>\n",
       "      <td>Not Attending</td>\n",
       "    </tr>\n",
       "    <tr>\n",
       "      <th>1</th>\n",
       "      <td>Doppler Primer: Not Attending</td>\n",
       "      <td>Not Attending</td>\n",
       "    </tr>\n",
       "    <tr>\n",
       "      <th>2</th>\n",
       "      <td>Doppler Primer: Statistical Analysis</td>\n",
       "      <td>Statistical Analysis</td>\n",
       "    </tr>\n",
       "  </tbody>\n",
       "</table>\n",
       "</div>"
      ],
      "text/plain": [
       "                             AgendaItem                Primer\n",
       "0         Doppler Primer: Not Attending         Not Attending\n",
       "1         Doppler Primer: Not Attending         Not Attending\n",
       "2  Doppler Primer: Statistical Analysis  Statistical Analysis"
      ]
     },
     "execution_count": 17,
     "metadata": {},
     "output_type": "execute_result"
    }
   ],
   "source": [
    "sundf[['AgendaItem', 'Primer']].head(3)"
   ]
  },
  {
   "cell_type": "code",
   "execution_count": 18,
   "metadata": {
    "collapsed": false
   },
   "outputs": [
    {
     "data": {
      "text/plain": [
       "array([u'Not Attending', u'Statistical Analysis'], dtype=object)"
      ]
     },
     "execution_count": 18,
     "metadata": {},
     "output_type": "execute_result"
    }
   ],
   "source": [
    "sundf['Primer'].unique()"
   ]
  },
  {
   "cell_type": "markdown",
   "metadata": {
    "collapsed": false
   },
   "source": [
    "Now loop through the five unique sessions, updating the `PrimerID` column for each participant:"
   ]
  },
  {
   "cell_type": "code",
   "execution_count": 19,
   "metadata": {
    "collapsed": false
   },
   "outputs": [],
   "source": [
    "dopID = 0\n",
    "for agItem in sundf['Primer'].unique():\n",
    "    sundf.loc[sundf['Primer'] == agItem, 'PrimerID'] = dopID\n",
    "    dopID += 1"
   ]
  },
  {
   "cell_type": "markdown",
   "metadata": {},
   "source": [
    "Create an abbreviated code for each session. This will be added to the nametag to spark conversation among participants."
   ]
  },
  {
   "cell_type": "code",
   "execution_count": 26,
   "metadata": {
    "collapsed": true
   },
   "outputs": [],
   "source": [
    "sun_ses = ['NA', 'SA', 'IC', 'DC', 'SM']"
   ]
  },
  {
   "cell_type": "markdown",
   "metadata": {},
   "source": [
    "A quick preview of the first few rows to see the result:"
   ]
  },
  {
   "cell_type": "code",
   "execution_count": 27,
   "metadata": {
    "collapsed": false
   },
   "outputs": [
    {
     "data": {
      "text/html": [
       "<div style=\"max-height:1000px;max-width:1500px;overflow:auto;\">\n",
       "<table border=\"1\" class=\"dataframe\">\n",
       "  <thead>\n",
       "    <tr style=\"text-align: right;\">\n",
       "      <th></th>\n",
       "      <th>AgendaItem</th>\n",
       "      <th>Primer</th>\n",
       "      <th>PrimerID</th>\n",
       "    </tr>\n",
       "  </thead>\n",
       "  <tbody>\n",
       "    <tr>\n",
       "      <th>0</th>\n",
       "      <td>Doppler Primer: Not Attending</td>\n",
       "      <td>Not Attending</td>\n",
       "      <td>0</td>\n",
       "    </tr>\n",
       "    <tr>\n",
       "      <th>1</th>\n",
       "      <td>Doppler Primer: Not Attending</td>\n",
       "      <td>Not Attending</td>\n",
       "      <td>0</td>\n",
       "    </tr>\n",
       "    <tr>\n",
       "      <th>2</th>\n",
       "      <td>Doppler Primer: Statistical Analysis</td>\n",
       "      <td>Statistical Analysis</td>\n",
       "      <td>1</td>\n",
       "    </tr>\n",
       "    <tr>\n",
       "      <th>3</th>\n",
       "      <td>Doppler Primer: Statistical Analysis</td>\n",
       "      <td>Statistical Analysis</td>\n",
       "      <td>1</td>\n",
       "    </tr>\n",
       "  </tbody>\n",
       "</table>\n",
       "</div>"
      ],
      "text/plain": [
       "                             AgendaItem                Primer  PrimerID\n",
       "0         Doppler Primer: Not Attending         Not Attending         0\n",
       "1         Doppler Primer: Not Attending         Not Attending         0\n",
       "2  Doppler Primer: Statistical Analysis  Statistical Analysis         1\n",
       "3  Doppler Primer: Statistical Analysis  Statistical Analysis         1"
      ]
     },
     "execution_count": 27,
     "metadata": {},
     "output_type": "execute_result"
    }
   ],
   "source": [
    "sundf[['AgendaItem', 'Primer', 'PrimerID']].head(4)"
   ]
  },
  {
   "cell_type": "markdown",
   "metadata": {},
   "source": [
    "### Extract the Monday Sessions\n",
    "\n",
    "Now to do the same for the Monday sessions."
   ]
  },
  {
   "cell_type": "code",
   "execution_count": 28,
   "metadata": {
    "collapsed": false
   },
   "outputs": [
    {
     "data": {
      "text/plain": [
       "12"
      ]
     },
     "execution_count": 28,
     "metadata": {},
     "output_type": "execute_result"
    }
   ],
   "source": [
    "mondf = df[df['AgendaItem'].str.contains('Monday Break-out:')].copy()\n",
    "len(mondf)"
   ]
  },
  {
   "cell_type": "code",
   "execution_count": 29,
   "metadata": {
    "collapsed": false
   },
   "outputs": [],
   "source": [
    "mondf['MonID'] = 0\n",
    "\n",
    "mondf['Monday'] = [re.search(r'(.*):\\s(.*)$', item).group(2) for item in mondf['AgendaItem']]\n",
    "\n",
    "mondf['Monday'].unique()\n",
    "\n",
    "monID = 0\n",
    "for agItem in mondf['Monday'].unique():\n",
    "    mondf.loc[mondf['Monday'] == agItem, 'MonID'] = monID\n",
    "    monID += 1"
   ]
  },
  {
   "cell_type": "code",
   "execution_count": 30,
   "metadata": {
    "collapsed": false
   },
   "outputs": [
    {
     "data": {
      "text/plain": [
       "array([u'Not attending'], dtype=object)"
      ]
     },
     "execution_count": 30,
     "metadata": {},
     "output_type": "execute_result"
    }
   ],
   "source": [
    "mondf['Monday'].unique()"
   ]
  },
  {
   "cell_type": "code",
   "execution_count": 31,
   "metadata": {
    "collapsed": true
   },
   "outputs": [],
   "source": [
    "mon_ses = ['NA', 'FS', 'TC', 'BC', 'FC']"
   ]
  },
  {
   "cell_type": "code",
   "execution_count": 32,
   "metadata": {
    "collapsed": false
   },
   "outputs": [
    {
     "data": {
      "text/html": [
       "<div style=\"max-height:1000px;max-width:1500px;overflow:auto;\">\n",
       "<table border=\"1\" class=\"dataframe\">\n",
       "  <thead>\n",
       "    <tr style=\"text-align: right;\">\n",
       "      <th></th>\n",
       "      <th>AgendaItem</th>\n",
       "      <th>Monday</th>\n",
       "      <th>MonID</th>\n",
       "    </tr>\n",
       "  </thead>\n",
       "  <tbody>\n",
       "    <tr>\n",
       "      <th>12</th>\n",
       "      <td>Monday Break-out: Not attending</td>\n",
       "      <td>Not attending</td>\n",
       "      <td>0</td>\n",
       "    </tr>\n",
       "    <tr>\n",
       "      <th>13</th>\n",
       "      <td>Monday Break-out: Not attending</td>\n",
       "      <td>Not attending</td>\n",
       "      <td>0</td>\n",
       "    </tr>\n",
       "    <tr>\n",
       "      <th>14</th>\n",
       "      <td>Monday Break-out: Not attending</td>\n",
       "      <td>Not attending</td>\n",
       "      <td>0</td>\n",
       "    </tr>\n",
       "    <tr>\n",
       "      <th>15</th>\n",
       "      <td>Monday Break-out: Not attending</td>\n",
       "      <td>Not attending</td>\n",
       "      <td>0</td>\n",
       "    </tr>\n",
       "  </tbody>\n",
       "</table>\n",
       "</div>"
      ],
      "text/plain": [
       "                         AgendaItem         Monday  MonID\n",
       "12  Monday Break-out: Not attending  Not attending      0\n",
       "13  Monday Break-out: Not attending  Not attending      0\n",
       "14  Monday Break-out: Not attending  Not attending      0\n",
       "15  Monday Break-out: Not attending  Not attending      0"
      ]
     },
     "execution_count": 32,
     "metadata": {},
     "output_type": "execute_result"
    }
   ],
   "source": [
    "mondf[['AgendaItem', 'Monday', 'MonID']].head(4)"
   ]
  },
  {
   "cell_type": "markdown",
   "metadata": {},
   "source": [
    "### Extract Tuesday Sessions"
   ]
  },
  {
   "cell_type": "code",
   "execution_count": 33,
   "metadata": {
    "collapsed": false
   },
   "outputs": [
    {
     "data": {
      "text/plain": [
       "12"
      ]
     },
     "execution_count": 33,
     "metadata": {},
     "output_type": "execute_result"
    }
   ],
   "source": [
    "tuedf = df[df['AgendaItem'].str.contains('Tuesday Break-out:')].copy()\n",
    "len(tuedf)"
   ]
  },
  {
   "cell_type": "code",
   "execution_count": 34,
   "metadata": {
    "collapsed": true
   },
   "outputs": [],
   "source": [
    "tuedf['TueID'] = 0\n",
    "\n",
    "tuedf['Tuesday'] = [re.search(r'(.*):\\s(.*)$', item).group(2) for item in tuedf['AgendaItem']]\n",
    "\n",
    "tuedf['Tuesday'].unique()\n",
    "\n",
    "tuesID = 0\n",
    "for agItem in tuedf['Tuesday'].unique():\n",
    "    tuedf.loc[tuedf['Tuesday'] == agItem, 'TueID'] = tuesID\n",
    "    tuesID += 1"
   ]
  },
  {
   "cell_type": "code",
   "execution_count": 35,
   "metadata": {
    "collapsed": false
   },
   "outputs": [
    {
     "data": {
      "text/plain": [
       "array([u'Not attending'], dtype=object)"
      ]
     },
     "execution_count": 35,
     "metadata": {},
     "output_type": "execute_result"
    }
   ],
   "source": [
    "tuedf['Tuesday'].unique()"
   ]
  },
  {
   "cell_type": "code",
   "execution_count": 36,
   "metadata": {
    "collapsed": true
   },
   "outputs": [],
   "source": [
    "tue_ses = ['NA', 'ST', 'DC', 'LB', 'PS']"
   ]
  },
  {
   "cell_type": "code",
   "execution_count": 37,
   "metadata": {
    "collapsed": false
   },
   "outputs": [
    {
     "data": {
      "text/html": [
       "<div style=\"max-height:1000px;max-width:1500px;overflow:auto;\">\n",
       "<table border=\"1\" class=\"dataframe\">\n",
       "  <thead>\n",
       "    <tr style=\"text-align: right;\">\n",
       "      <th></th>\n",
       "      <th>AgendaItem</th>\n",
       "      <th>Tuesday</th>\n",
       "      <th>TueID</th>\n",
       "    </tr>\n",
       "  </thead>\n",
       "  <tbody>\n",
       "    <tr>\n",
       "      <th>24</th>\n",
       "      <td>Tuesday Break-out: Not attending</td>\n",
       "      <td>Not attending</td>\n",
       "      <td>0</td>\n",
       "    </tr>\n",
       "    <tr>\n",
       "      <th>25</th>\n",
       "      <td>Tuesday Break-out: Not attending</td>\n",
       "      <td>Not attending</td>\n",
       "      <td>0</td>\n",
       "    </tr>\n",
       "    <tr>\n",
       "      <th>26</th>\n",
       "      <td>Tuesday Break-out: Not attending</td>\n",
       "      <td>Not attending</td>\n",
       "      <td>0</td>\n",
       "    </tr>\n",
       "    <tr>\n",
       "      <th>27</th>\n",
       "      <td>Tuesday Break-out: Not attending</td>\n",
       "      <td>Not attending</td>\n",
       "      <td>0</td>\n",
       "    </tr>\n",
       "  </tbody>\n",
       "</table>\n",
       "</div>"
      ],
      "text/plain": [
       "                          AgendaItem        Tuesday  TueID\n",
       "24  Tuesday Break-out: Not attending  Not attending      0\n",
       "25  Tuesday Break-out: Not attending  Not attending      0\n",
       "26  Tuesday Break-out: Not attending  Not attending      0\n",
       "27  Tuesday Break-out: Not attending  Not attending      0"
      ]
     },
     "execution_count": 37,
     "metadata": {},
     "output_type": "execute_result"
    }
   ],
   "source": [
    "tuedf[['AgendaItem', 'Tuesday', 'TueID']].head(4)"
   ]
  },
  {
   "cell_type": "markdown",
   "metadata": {},
   "source": [
    "### Combine the DataFrames\n",
    "\n",
    "We only need to join on one field. However, pandas does something weird, where it creates multiple `GroupId_x` columns when joining multiple times. The simple solution is just to join on multiple columns since we know they're all consistent."
   ]
  },
  {
   "cell_type": "code",
   "execution_count": 38,
   "metadata": {
    "collapsed": true
   },
   "outputs": [],
   "source": [
    "fulldf = df[['RegId', 'GroupId', 'FirstName', 'LastName', 'Company']]"
   ]
  },
  {
   "cell_type": "code",
   "execution_count": 39,
   "metadata": {
    "collapsed": false
   },
   "outputs": [
    {
     "name": "stdout",
     "output_type": "stream",
     "text": [
      "36\n",
      "12\n",
      "12\n",
      "12\n",
      "12\n"
     ]
    }
   ],
   "source": [
    "print(len(fulldf))\n",
    "fulldf = fulldf.drop_duplicates()\n",
    "print(len(fulldf))\n",
    "print(len(sundf))\n",
    "print(len(mondf))\n",
    "print(len(tuedf))"
   ]
  },
  {
   "cell_type": "code",
   "execution_count": 40,
   "metadata": {
    "collapsed": false
   },
   "outputs": [
    {
     "data": {
      "text/plain": [
       "Index([u'RegId', u'GroupId', u'FirstName', u'LastName', u'Company'], dtype='object')"
      ]
     },
     "execution_count": 40,
     "metadata": {},
     "output_type": "execute_result"
    }
   ],
   "source": [
    "fulldf.columns"
   ]
  },
  {
   "cell_type": "code",
   "execution_count": 41,
   "metadata": {
    "collapsed": false
   },
   "outputs": [
    {
     "data": {
      "text/plain": [
       "Index([u'AgendaItem', u'RegId', u'GroupId', u'FirstName', u'LastName', u'Company', u'PrimerID', u'Primer'], dtype='object')"
      ]
     },
     "execution_count": 41,
     "metadata": {},
     "output_type": "execute_result"
    }
   ],
   "source": [
    "sundf.columns"
   ]
  },
  {
   "cell_type": "code",
   "execution_count": 42,
   "metadata": {
    "collapsed": false
   },
   "outputs": [
    {
     "name": "stdout",
     "output_type": "stream",
     "text": [
      "12\n",
      "12\n",
      "12\n"
     ]
    }
   ],
   "source": [
    "newdf = pd.merge(fulldf, sundf, on=['RegId', 'GroupId', 'FirstName', 'LastName', 'Company'], how='left')\n",
    "print(len(newdf))\n",
    "\n",
    "newdf = pd.merge(newdf, mondf, on=['RegId', 'GroupId', 'FirstName', 'LastName', 'Company'], how='left')\n",
    "print(len(newdf))\n",
    "\n",
    "newdf = pd.merge(newdf, tuedf, on=['RegId', 'GroupId', 'FirstName', 'LastName', 'Company'], how='left')\n",
    "print(len(newdf))"
   ]
  },
  {
   "cell_type": "code",
   "execution_count": 43,
   "metadata": {
    "collapsed": false
   },
   "outputs": [
    {
     "data": {
      "text/html": [
       "<div style=\"max-height:1000px;max-width:1500px;overflow:auto;\">\n",
       "<table border=\"1\" class=\"dataframe\">\n",
       "  <thead>\n",
       "    <tr style=\"text-align: right;\">\n",
       "      <th></th>\n",
       "      <th>RegId</th>\n",
       "      <th>GroupId</th>\n",
       "      <th>FirstName</th>\n",
       "      <th>LastName</th>\n",
       "      <th>Company</th>\n",
       "      <th>AgendaItem_x</th>\n",
       "      <th>PrimerID</th>\n",
       "      <th>Primer</th>\n",
       "      <th>AgendaItem_y</th>\n",
       "      <th>MonID</th>\n",
       "      <th>Monday</th>\n",
       "      <th>AgendaItem</th>\n",
       "      <th>TueID</th>\n",
       "      <th>Tuesday</th>\n",
       "    </tr>\n",
       "  </thead>\n",
       "  <tbody>\n",
       "    <tr>\n",
       "      <th>0</th>\n",
       "      <td>79762584</td>\n",
       "      <td>79762584</td>\n",
       "      <td>Paul</td>\n",
       "      <td>Fournier</td>\n",
       "      <td>FiberTech Optica</td>\n",
       "      <td>Doppler Primer: Not Attending</td>\n",
       "      <td>0</td>\n",
       "      <td>Not Attending</td>\n",
       "      <td>Monday Break-out: Not attending</td>\n",
       "      <td>0</td>\n",
       "      <td>Not attending</td>\n",
       "      <td>Tuesday Break-out: Not attending</td>\n",
       "      <td>0</td>\n",
       "      <td>Not attending</td>\n",
       "    </tr>\n",
       "    <tr>\n",
       "      <th>1</th>\n",
       "      <td>79809320</td>\n",
       "      <td>79809320</td>\n",
       "      <td>Stephen</td>\n",
       "      <td>Shectman</td>\n",
       "      <td>Carnegie Observatories</td>\n",
       "      <td>Doppler Primer: Not Attending</td>\n",
       "      <td>0</td>\n",
       "      <td>Not Attending</td>\n",
       "      <td>Monday Break-out: Not attending</td>\n",
       "      <td>0</td>\n",
       "      <td>Not attending</td>\n",
       "      <td>Tuesday Break-out: Not attending</td>\n",
       "      <td>0</td>\n",
       "      <td>Not attending</td>\n",
       "    </tr>\n",
       "    <tr>\n",
       "      <th>2</th>\n",
       "      <td>80253872</td>\n",
       "      <td>80253872</td>\n",
       "      <td>Thorsten</td>\n",
       "      <td>Carroll</td>\n",
       "      <td>Leibniz-Institute for Astrophysics Potsdam</td>\n",
       "      <td>Doppler Primer: Statistical Analysis</td>\n",
       "      <td>1</td>\n",
       "      <td>Statistical Analysis</td>\n",
       "      <td>Monday Break-out: Not attending</td>\n",
       "      <td>0</td>\n",
       "      <td>Not attending</td>\n",
       "      <td>Tuesday Break-out: Not attending</td>\n",
       "      <td>0</td>\n",
       "      <td>Not attending</td>\n",
       "    </tr>\n",
       "    <tr>\n",
       "      <th>3</th>\n",
       "      <td>80253873</td>\n",
       "      <td>80253873</td>\n",
       "      <td>Phi</td>\n",
       "      <td>Gregory</td>\n",
       "      <td>UBC</td>\n",
       "      <td>Doppler Primer: Statistical Analysis</td>\n",
       "      <td>1</td>\n",
       "      <td>Statistical Analysis</td>\n",
       "      <td>Monday Break-out: Not attending</td>\n",
       "      <td>0</td>\n",
       "      <td>Not attending</td>\n",
       "      <td>Tuesday Break-out: Not attending</td>\n",
       "      <td>0</td>\n",
       "      <td>Not attending</td>\n",
       "    </tr>\n",
       "    <tr>\n",
       "      <th>4</th>\n",
       "      <td>80253874</td>\n",
       "      <td>80253874</td>\n",
       "      <td>Jason</td>\n",
       "      <td>Steffen</td>\n",
       "      <td>Fermilab</td>\n",
       "      <td>Doppler Primer: Not Attending</td>\n",
       "      <td>0</td>\n",
       "      <td>Not Attending</td>\n",
       "      <td>Monday Break-out: Not attending</td>\n",
       "      <td>0</td>\n",
       "      <td>Not attending</td>\n",
       "      <td>Tuesday Break-out: Not attending</td>\n",
       "      <td>0</td>\n",
       "      <td>Not attending</td>\n",
       "    </tr>\n",
       "  </tbody>\n",
       "</table>\n",
       "</div>"
      ],
      "text/plain": [
       "      RegId   GroupId FirstName  LastName  \\\n",
       "0  79762584  79762584      Paul  Fournier   \n",
       "1  79809320  79809320   Stephen  Shectman   \n",
       "2  80253872  80253872  Thorsten   Carroll   \n",
       "3  80253873  80253873       Phi   Gregory   \n",
       "4  80253874  80253874     Jason   Steffen   \n",
       "\n",
       "                                      Company  \\\n",
       "0                            FiberTech Optica   \n",
       "1                      Carnegie Observatories   \n",
       "2  Leibniz-Institute for Astrophysics Potsdam   \n",
       "3                                         UBC   \n",
       "4                                    Fermilab   \n",
       "\n",
       "                           AgendaItem_x  PrimerID                Primer  \\\n",
       "0         Doppler Primer: Not Attending         0         Not Attending   \n",
       "1         Doppler Primer: Not Attending         0         Not Attending   \n",
       "2  Doppler Primer: Statistical Analysis         1  Statistical Analysis   \n",
       "3  Doppler Primer: Statistical Analysis         1  Statistical Analysis   \n",
       "4         Doppler Primer: Not Attending         0         Not Attending   \n",
       "\n",
       "                      AgendaItem_y  MonID         Monday  \\\n",
       "0  Monday Break-out: Not attending      0  Not attending   \n",
       "1  Monday Break-out: Not attending      0  Not attending   \n",
       "2  Monday Break-out: Not attending      0  Not attending   \n",
       "3  Monday Break-out: Not attending      0  Not attending   \n",
       "4  Monday Break-out: Not attending      0  Not attending   \n",
       "\n",
       "                         AgendaItem  TueID        Tuesday  \n",
       "0  Tuesday Break-out: Not attending      0  Not attending  \n",
       "1  Tuesday Break-out: Not attending      0  Not attending  \n",
       "2  Tuesday Break-out: Not attending      0  Not attending  \n",
       "3  Tuesday Break-out: Not attending      0  Not attending  \n",
       "4  Tuesday Break-out: Not attending      0  Not attending  "
      ]
     },
     "execution_count": 43,
     "metadata": {},
     "output_type": "execute_result"
    }
   ],
   "source": [
    "newdf.head(5)"
   ]
  },
  {
   "cell_type": "code",
   "execution_count": 44,
   "metadata": {
    "collapsed": false
   },
   "outputs": [
    {
     "data": {
      "text/plain": [
       "Index([u'RegId', u'GroupId', u'FirstName', u'LastName', u'Company', u'AgendaItem_x', u'PrimerID', u'Primer', u'AgendaItem_y', u'MonID', u'Monday', u'AgendaItem', u'TueID', u'Tuesday'], dtype='object')"
      ]
     },
     "execution_count": 44,
     "metadata": {},
     "output_type": "execute_result"
    }
   ],
   "source": [
    "newdf.columns"
   ]
  },
  {
   "cell_type": "markdown",
   "metadata": {},
   "source": [
    "Now create a new DataFrame that is a subset of the `newdf` with only the columns of interest. Also, make sure the DataFrame is sorted by lastname, the index is reset, and it's a copy of `newdf` instead of a pointer to `newdf`."
   ]
  },
  {
   "cell_type": "code",
   "execution_count": 45,
   "metadata": {
    "collapsed": false
   },
   "outputs": [],
   "source": [
    "finaldf = newdf[['FirstName', 'LastName', 'Company', 'Primer', 'PrimerID', 'Monday', 'MonID', 'Tuesday', 'TueID']].sort('LastName').reset_index().copy()"
   ]
  },
  {
   "cell_type": "code",
   "execution_count": 46,
   "metadata": {
    "collapsed": false
   },
   "outputs": [
    {
     "data": {
      "text/html": [
       "<div style=\"max-height:1000px;max-width:1500px;overflow:auto;\">\n",
       "<table border=\"1\" class=\"dataframe\">\n",
       "  <thead>\n",
       "    <tr style=\"text-align: right;\">\n",
       "      <th></th>\n",
       "      <th>index</th>\n",
       "      <th>FirstName</th>\n",
       "      <th>LastName</th>\n",
       "      <th>Company</th>\n",
       "      <th>Primer</th>\n",
       "      <th>PrimerID</th>\n",
       "      <th>Monday</th>\n",
       "      <th>MonID</th>\n",
       "      <th>Tuesday</th>\n",
       "      <th>TueID</th>\n",
       "    </tr>\n",
       "  </thead>\n",
       "  <tbody>\n",
       "    <tr>\n",
       "      <th>0</th>\n",
       "      <td>5</td>\n",
       "      <td>Lori</td>\n",
       "      <td>Allen</td>\n",
       "      <td>NOAO</td>\n",
       "      <td>Not Attending</td>\n",
       "      <td>0</td>\n",
       "      <td>Not attending</td>\n",
       "      <td>0</td>\n",
       "      <td>Not attending</td>\n",
       "      <td>0</td>\n",
       "    </tr>\n",
       "    <tr>\n",
       "      <th>1</th>\n",
       "      <td>6</td>\n",
       "      <td>Stuart</td>\n",
       "      <td>Barnes</td>\n",
       "      <td>Leibniz-Institute for Astrophysics Potsdam</td>\n",
       "      <td>Not Attending</td>\n",
       "      <td>0</td>\n",
       "      <td>Not attending</td>\n",
       "      <td>0</td>\n",
       "      <td>Not attending</td>\n",
       "      <td>0</td>\n",
       "    </tr>\n",
       "    <tr>\n",
       "      <th>2</th>\n",
       "      <td>2</td>\n",
       "      <td>Thorsten</td>\n",
       "      <td>Carroll</td>\n",
       "      <td>Leibniz-Institute for Astrophysics Potsdam</td>\n",
       "      <td>Statistical Analysis</td>\n",
       "      <td>1</td>\n",
       "      <td>Not attending</td>\n",
       "      <td>0</td>\n",
       "      <td>Not attending</td>\n",
       "      <td>0</td>\n",
       "    </tr>\n",
       "    <tr>\n",
       "      <th>3</th>\n",
       "      <td>7</td>\n",
       "      <td>Ed</td>\n",
       "      <td>Fischer</td>\n",
       "      <td>NaN</td>\n",
       "      <td>Not Attending</td>\n",
       "      <td>0</td>\n",
       "      <td>Not attending</td>\n",
       "      <td>0</td>\n",
       "      <td>Not attending</td>\n",
       "      <td>0</td>\n",
       "    </tr>\n",
       "    <tr>\n",
       "      <th>4</th>\n",
       "      <td>0</td>\n",
       "      <td>Paul</td>\n",
       "      <td>Fournier</td>\n",
       "      <td>FiberTech Optica</td>\n",
       "      <td>Not Attending</td>\n",
       "      <td>0</td>\n",
       "      <td>Not attending</td>\n",
       "      <td>0</td>\n",
       "      <td>Not attending</td>\n",
       "      <td>0</td>\n",
       "    </tr>\n",
       "  </tbody>\n",
       "</table>\n",
       "</div>"
      ],
      "text/plain": [
       "   index FirstName  LastName                                     Company  \\\n",
       "0      5      Lori     Allen                                        NOAO   \n",
       "1      6    Stuart    Barnes  Leibniz-Institute for Astrophysics Potsdam   \n",
       "2      2  Thorsten   Carroll  Leibniz-Institute for Astrophysics Potsdam   \n",
       "3      7        Ed   Fischer                                         NaN   \n",
       "4      0      Paul  Fournier                            FiberTech Optica   \n",
       "\n",
       "                 Primer  PrimerID         Monday  MonID        Tuesday  TueID  \n",
       "0         Not Attending         0  Not attending      0  Not attending      0  \n",
       "1         Not Attending         0  Not attending      0  Not attending      0  \n",
       "2  Statistical Analysis         1  Not attending      0  Not attending      0  \n",
       "3         Not Attending         0  Not attending      0  Not attending      0  \n",
       "4         Not Attending         0  Not attending      0  Not attending      0  "
      ]
     },
     "execution_count": 46,
     "metadata": {},
     "output_type": "execute_result"
    }
   ],
   "source": [
    "finaldf.head(5)"
   ]
  },
  {
   "cell_type": "code",
   "execution_count": 47,
   "metadata": {
    "collapsed": false
   },
   "outputs": [
    {
     "data": {
      "text/plain": [
       "12"
      ]
     },
     "execution_count": 47,
     "metadata": {},
     "output_type": "execute_result"
    }
   ],
   "source": [
    "len(finaldf)"
   ]
  },
  {
   "cell_type": "code",
   "execution_count": 48,
   "metadata": {
    "collapsed": false
   },
   "outputs": [
    {
     "data": {
      "text/plain": [
       "Index([u'index', u'FirstName', u'LastName', u'Company', u'Primer', u'PrimerID', u'Monday', u'MonID', u'Tuesday', u'TueID'], dtype='object')"
      ]
     },
     "execution_count": 48,
     "metadata": {},
     "output_type": "execute_result"
    }
   ],
   "source": [
    "finaldf.columns"
   ]
  },
  {
   "cell_type": "markdown",
   "metadata": {},
   "source": [
    "Now replace all empty cells for \"Company\" to a very general location:"
   ]
  },
  {
   "cell_type": "code",
   "execution_count": 49,
   "metadata": {
    "collapsed": false
   },
   "outputs": [],
   "source": [
    "finaldf.Company = ['Earth' if pd.isnull(company_el) else company_el for company_el in finaldf.Company]"
   ]
  },
  {
   "cell_type": "markdown",
   "metadata": {},
   "source": [
    "Replace NaNs for PrimerID with the \"Not Attending\" ID:"
   ]
  },
  {
   "cell_type": "code",
   "execution_count": 50,
   "metadata": {
    "collapsed": true
   },
   "outputs": [],
   "source": [
    "finaldf.PrimerID = [4 if pd.isnull(primerid_el) else primerid_el for primerid_el in finaldf.PrimerID]"
   ]
  },
  {
   "cell_type": "markdown",
   "metadata": {},
   "source": [
    "Check for NaNs in the Monday ID:"
   ]
  },
  {
   "cell_type": "code",
   "execution_count": 51,
   "metadata": {
    "collapsed": false
   },
   "outputs": [
    {
     "data": {
      "text/plain": [
       "0"
      ]
     },
     "execution_count": 51,
     "metadata": {},
     "output_type": "execute_result"
    }
   ],
   "source": [
    "len(finaldf[pd.isnull(finaldf['MonID'])])"
   ]
  },
  {
   "cell_type": "markdown",
   "metadata": {},
   "source": [
    "Replace NaNs for the MonID with the \"Not Attending\" ID:"
   ]
  },
  {
   "cell_type": "code",
   "execution_count": 52,
   "metadata": {
    "collapsed": true
   },
   "outputs": [],
   "source": [
    "finaldf.MonID = [4 if pd.isnull(monid_el) else monid_el for monid_el in finaldf.MonID]"
   ]
  },
  {
   "cell_type": "code",
   "execution_count": 53,
   "metadata": {
    "collapsed": false
   },
   "outputs": [
    {
     "data": {
      "text/plain": [
       "0"
      ]
     },
     "execution_count": 53,
     "metadata": {},
     "output_type": "execute_result"
    }
   ],
   "source": [
    "len(finaldf[pd.isnull(finaldf['MonID'])])"
   ]
  },
  {
   "cell_type": "markdown",
   "metadata": {},
   "source": [
    "Replace NaNs for the TueID with the \"Not Attending\" ID:"
   ]
  },
  {
   "cell_type": "code",
   "execution_count": 54,
   "metadata": {
    "collapsed": false
   },
   "outputs": [
    {
     "data": {
      "text/plain": [
       "0"
      ]
     },
     "execution_count": 54,
     "metadata": {},
     "output_type": "execute_result"
    }
   ],
   "source": [
    "len(finaldf[pd.isnull(finaldf['TueID'])])"
   ]
  },
  {
   "cell_type": "code",
   "execution_count": 55,
   "metadata": {
    "collapsed": true
   },
   "outputs": [],
   "source": [
    "finaldf.TueID = [4 if pd.isnull(tueid_el) else tueid_el for tueid_el in finaldf.TueID]"
   ]
  },
  {
   "cell_type": "code",
   "execution_count": 56,
   "metadata": {
    "collapsed": false
   },
   "outputs": [
    {
     "data": {
      "text/plain": [
       "0"
      ]
     },
     "execution_count": 56,
     "metadata": {},
     "output_type": "execute_result"
    }
   ],
   "source": [
    "len(finaldf[pd.isnull(finaldf['TueID'])])"
   ]
  },
  {
   "cell_type": "markdown",
   "metadata": {},
   "source": [
    "Test out the wrap-around text for institute for participants that have long institution names. This regular expression will look for institutions (or Companies, as RegOnline refers to them), and find items that have a '/', and if no '/', either a '-', ',', or 'at' in the text. If so, add a newline character to make the text wrap around to the next line.\n",
    "\n",
    "We'll first test the output on a participant's institution that contains both a '/' and a '-':"
   ]
  },
  {
   "cell_type": "code",
   "execution_count": 57,
   "metadata": {
    "collapsed": false
   },
   "outputs": [
    {
     "data": {
      "text/plain": [
       "u'Leibniz-\\nInstitute for Astrophysics Potsdam'"
      ]
     },
     "execution_count": 57,
     "metadata": {},
     "output_type": "execute_result"
    }
   ],
   "source": [
    "p = re.compile ('(/|^(?!.*/).*-|^(?!.*/).*,|^(?!.*/).*\\sat\\s)')\n",
    "p.subn(r'\\1\\n', finaldf.loc[2].Company)[0]"
   ]
  },
  {
   "cell_type": "markdown",
   "metadata": {},
   "source": [
    "And test a cell that is long, contains `at`, but `at` is part of a longer word:"
   ]
  },
  {
   "cell_type": "code",
   "execution_count": 59,
   "metadata": {
    "collapsed": false
   },
   "outputs": [],
   "source": [
    "#p.subn(r'\\1\\n', finaldf.loc[53].Company)[0]"
   ]
  },
  {
   "cell_type": "markdown",
   "metadata": {},
   "source": [
    "And a quick test on a few more institutions:"
   ]
  },
  {
   "cell_type": "code",
   "execution_count": 60,
   "metadata": {
    "collapsed": false,
    "scrolled": true
   },
   "outputs": [
    {
     "data": {
      "text/plain": [
       "[u'NOAO',\n",
       " u'Leibniz-\\nInstitute for Astrophysics Potsdam',\n",
       " u'Leibniz-\\nInstitute for Astrophysics Potsdam',\n",
       " 'Earth',\n",
       " u'FiberTech Optica']"
      ]
     },
     "execution_count": 60,
     "metadata": {},
     "output_type": "execute_result"
    }
   ],
   "source": [
    "[p.sub(r'\\1\\n', company_el) if len(company_el) > 30 else company_el for company_el in finaldf.head(5).Company.values]"
   ]
  },
  {
   "cell_type": "markdown",
   "metadata": {},
   "source": [
    "Now update the full `Company` column of the DataFrame:"
   ]
  },
  {
   "cell_type": "code",
   "execution_count": 61,
   "metadata": {
    "collapsed": false
   },
   "outputs": [],
   "source": [
    "finaldf.Company = [p.sub(r'\\1\\n', company_el) if len(company_el) > 30 else company_el for company_el in finaldf.Company.values]"
   ]
  },
  {
   "cell_type": "markdown",
   "metadata": {},
   "source": [
    "## Plot Labels\n",
    "\n",
    "Now that we have our DataFrame cleaned up the way we want it we can print the data to the Avery 5392 format. This format contains 6 4\"x3\" nametags per sheet."
   ]
  },
  {
   "cell_type": "code",
   "execution_count": 62,
   "metadata": {
    "collapsed": true
   },
   "outputs": [],
   "source": [
    "png = mpimg.imread('/Users/matt/projects/EPRV/images/NameTag2.png')"
   ]
  },
  {
   "cell_type": "code",
   "execution_count": 63,
   "metadata": {
    "collapsed": false
   },
   "outputs": [
    {
     "data": {
      "text/plain": [
       "(900, 1200, 4)"
      ]
     },
     "execution_count": 63,
     "metadata": {},
     "output_type": "execute_result"
    }
   ],
   "source": [
    "png.shape"
   ]
  },
  {
   "cell_type": "code",
   "execution_count": 64,
   "metadata": {
    "collapsed": false,
    "scrolled": true
   },
   "outputs": [],
   "source": [
    "import matplotlib.font_manager as mfm\n",
    "fontpaths = fontpaths=['/System/Library/Fonts/',\n",
    "                       '/Library/Fonts',\n",
    "                       '/Library/Fonts/Microsoft',\n",
    "                       '/usr/X11/lib/X11/fonts',\n",
    "                       '/opt/X11/share/fonts',\n",
    "                       '/Users/matt/Library/Fonts']\n",
    "\n",
    "blaa = mfm.findSystemFonts(fontpaths=fontpaths)"
   ]
  },
  {
   "cell_type": "code",
   "execution_count": 65,
   "metadata": {
    "collapsed": false,
    "scrolled": true
   },
   "outputs": [
    {
     "name": "stdout",
     "output_type": "stream",
     "text": [
      "Now on page: 0\n",
      "Now making name tag for: Lori Allen\n",
      "Now making name tag for: Stuart Barnes\n",
      "Now making name tag for: Thorsten Carroll\n",
      "Now making name tag for: Ed Fischer\n",
      "Now making name tag for: Paul Fournier\n",
      "Now making name tag for: Pratik Gandhi\n",
      "Now on page: 1\n",
      "Now making name tag for: Phi Gregory\n",
      "Now making name tag for: Thomas Loredo\n",
      "Now making name tag for: Chris McRaven\n",
      "Now making name tag for: Stephen Shectman\n",
      "Now making name tag for: Jason Steffen\n",
      "Now making name tag for: Tilo  Steinmetz\n"
     ]
    },
    {
     "name": "stderr",
     "output_type": "stream",
     "text": [
      "/Applications/anaconda/lib/python2.7/site-packages/matplotlib/font_manager.py:1282: UserWarning: findfont: Font family [u'YaleNew-Roman'] not found. Falling back to Bitstream Vera Sans\n",
      "  (prop.get_family(), self.defaultFamily[fontext]))\n"
     ]
    }
   ],
   "source": [
    "colors = ['#FFE2A9', '#4BA4D8', '#768085', '#BF5338', '#335B8F']\n",
    "colors2 = ['#335B8F', '#BF5338', '#768085',  '#4BA4D8', '#FFE2A9']\n",
    "colors3 = ['#4BA4D8', '#FFE2A9', '#BF5338', '#768085', '#335B8F']\n",
    "\n",
    "circ_ypos = 775\n",
    "name_dict = {'family': 'YaleNew-Roman',\n",
    "             'color': '#D6E8E1',\n",
    "             'weight': 'bold',\n",
    "             'size': 28\n",
    "             }\n",
    "\n",
    "company_dict = {'family': 'YaleNew-Roman',\n",
    "                'color': '#D6E8E1',\n",
    "                'weight': 'bold',\n",
    "                'size': 16\n",
    "                }\n",
    "\n",
    "circle_dict = {'family': 'YaleNew-Roman',\n",
    "               'color': '#1D2523',\n",
    "               'weight': 'normal',\n",
    "               'size': 20\n",
    "               }\n",
    "\n",
    "\n",
    "def change_name_size(name, name_dict):\n",
    "    if len(name) < 16:\n",
    "        name_dict['size'] = 28\n",
    "    elif ((len(name) >= 16) and (len(name) < 19)):\n",
    "        name_dict['size'] = 24\n",
    "    elif ((len(name) >= 19) and (len(name) < 24)):\n",
    "        name_dict['size'] = 20\n",
    "    elif ((len(name) >= 24) and (len(name) < 30)):\n",
    "        name_dict['size'] = 17\n",
    "    else:\n",
    "        name_dict['size'] = 16\n",
    "    return name_dict\n",
    "        \n",
    "\n",
    "def change_company_size(company, company_dict):\n",
    "    newlines = len(re.findall(r'\\n', finaldf.loc[0].Company))\n",
    "    if newlines == 0:\n",
    "        if len(company) < 15:\n",
    "            company_dict['size'] = 18\n",
    "        elif ((len(company) >= 15) and (len(company) < 30)):\n",
    "            company_dict['size'] = 14\n",
    "        elif ((len(company) >= 30) and (len(company) < 40)):\n",
    "            company_dict['size'] = 12\n",
    "        elif ((len(company) >= 40) and (len(company) < 50)):\n",
    "            company_dict['size'] = 10\n",
    "        else:\n",
    "            company_dict['size'] = 8\n",
    "    else:\n",
    "        if len(company) < 15:\n",
    "            company_dict['size'] = 18\n",
    "        elif ((len(company) >= 15) and (len(company) < 40)):\n",
    "            company_dict['size'] = 14\n",
    "        elif ((len(company) >= 40) and (len(company) < 50)):\n",
    "            company_dict['size'] = 12\n",
    "        else:\n",
    "            company_dict['size'] = 10\n",
    "    return company_dict\n",
    "    \n",
    "\n",
    "# The HP Color LaserJet CP4020 offsets things by 1/16th of an inch left-to-right.\n",
    "# This fudge factor should fix that:\n",
    "hrz_fdg = 1. / 16./ 8.5\n",
    "leftarr = np.array([0.0294, 0.5, 0.0294, 0.5, 0.0294, 0.5]) + hrz_fdg\n",
    "bottomarr = [0.091, 0.091, 0.364,  0.364, 0.637, 0.637]\n",
    "width = 0.4706\n",
    "height = 0.273\n",
    "\n",
    "# loop through the total number of pages:\n",
    "for page in range(int(np.ceil((len(finaldf))/6.))):\n",
    "    print('Now on page: {}'.format(page))\n",
    "    fig = plt.figure(figsize=(8.5, 11))\n",
    "    for indx in range(6):\n",
    "        # add an if statement to handle the last page if there are less than\n",
    "        # six participants remaining:\n",
    "        if ((page*6 + indx) < len(finaldf)):\n",
    "            rect = [leftarr[indx], bottomarr[indx], width, height]\n",
    "            ax = fig.add_axes(rect)\n",
    "            ax.imshow(png)\n",
    "            ax.get_xaxis().set_visible(False)\n",
    "            ax.get_yaxis().set_visible(False)\n",
    "\n",
    "            print(u'Now making name tag for: {} {}'.format(finaldf.loc[page*6 + indx].FirstName, finaldf.loc[page*6 + indx].LastName))\n",
    "            \n",
    "            #add name text:\n",
    "            name = finaldf.loc[page*6 + indx].FirstName + ' ' + finaldf.loc[page*6 + indx].LastName \n",
    "            this_name_dict = change_name_size(name, name_dict)\n",
    "            ax.text(600, 500, name, fontdict=this_name_dict, horizontalalignment='center')\n",
    "\n",
    "            #add company text:\n",
    "            company = finaldf.loc[page*6 + indx].Company\n",
    "            this_co_dict = change_company_size(company, company_dict)\n",
    "            ax.text(600, 625, company, fontdict=this_co_dict, horizontalalignment='center')\n",
    "\n",
    "            #add circles for sessions:\n",
    "            circ1 = plt.Circle((750, circ_ypos), 70, color=colors[int(finaldf.loc[page*6 + indx].PrimerID)])\n",
    "            fig.gca().add_artist(circ1)\n",
    "            ax.text(750, circ_ypos + 27.5, sun_ses[int(finaldf.loc[page*6 + indx].PrimerID)], fontdict=circle_dict, horizontalalignment='center')\n",
    "\n",
    "            circ2 = plt.Circle((925, circ_ypos), 70, color=colors2[int(finaldf.loc[page*6 + indx].MonID)])\n",
    "            fig.gca().add_artist(circ2)\n",
    "            ax.text(925, circ_ypos + 27.5, mon_ses[int(finaldf.loc[page*6 + indx].MonID)], fontdict=circle_dict, horizontalalignment='center')\n",
    "\n",
    "            circ3 = plt.Circle((1100, circ_ypos), 70, color=colors3[int(finaldf.loc[page*6 + indx].TueID)])\n",
    "            fig.gca().add_artist(circ3)\n",
    "            ax.text(1100, circ_ypos + 27.5, tue_ses[int(finaldf.loc[page*6 + indx].TueID)], fontdict=circle_dict, horizontalalignment='center')\n",
    "\n",
    "    plt.savefig('../nametags/missing_nameTags_bold_p'+str(page)+'.png', dpi=300)\n"
   ]
  },
  {
   "cell_type": "code",
   "execution_count": 52,
   "metadata": {
    "collapsed": false
   },
   "outputs": [
    {
     "data": {
      "text/plain": [
       "Index([u'index', u'FirstName', u'LastName', u'Company', u'Primer', u'PrimerID', u'Monday', u'MonID', u'Tuesday', u'TueID'], dtype='object')"
      ]
     },
     "execution_count": 52,
     "metadata": {},
     "output_type": "execute_result"
    }
   ],
   "source": [
    "finaldf.columns"
   ]
  },
  {
   "cell_type": "code",
   "execution_count": 54,
   "metadata": {
    "collapsed": false
   },
   "outputs": [
    {
     "data": {
      "text/plain": [
       "array([u'Arthur', u'Rachel', u'Guillem', u'Ruth', u'Pamela', u'Mariona',\n",
       "       u'Roman', u'Fabienne', u'Ozgur', u'Sarbani', u'Florian', u'Jacob',\n",
       "       u'Thomas', u'Eric', u'Megan', u'Sagi', u'Cullen', u'Andreas',\n",
       "       u'Adam', u'Francesco', u'Francois', u'Brendan', u'Tabetha', u'John',\n",
       "       u'Lars A.', u'Jennifer', u'Richard', u'Maria Federica', u'Abhijit',\n",
       "       u'Jessi', u'William', u'Uriel', u'Matthew', u'Justin', u'Mario',\n",
       "       u'Allen', u'Rebekah', u'Fabio', u'Rodrigo', u'Scott', u'Courtney',\n",
       "       u'Xavier', u'Jason', u'Michael', u'Jo\\xe3o', u'Tobias', u'Pedro',\n",
       "       u'Debra', u'Eric', u'Daniel', u'BJ', u'Gabor', u'Peter', u'Bernard',\n",
       "       u'Matteo', u'Paolo', u'Matt', u'Steve', u'Steve', u'Erica',\n",
       "       u'Frank', u'Guillaume', u'Sam', u'Artie', u'Raphaelle',\n",
       "       u'Guillaume', u'Enrique', u'David', u'Joshua', u'Andrew', u'John',\n",
       "       u'Paul', u'Colby', u'Marco', u'Antonino Francesco', u'David',\n",
       "       u'Gregory', u'Christophe', u'Zaira', u'Bo', u'Gregory', u'Suvrath',\n",
       "       u'Luca', u'Rosemary', u'Tyler', u'Nate', u'Michael', u'Ati',\n",
       "       u'Claire', u'Benjamin', u'Grzegorz', u'Nikhil', u'Hannu',\n",
       "       u'Francesco', u'Mario', u'David', u'Peter', u'Lisa', u'Sam',\n",
       "       u'Andreas', u'Jayadev', u'Vinesh', u'Gert', u'Ansgar', u'Paul',\n",
       "       u'Albert', u'Arpita', u'Nuno', u'Luis Fernando', u\"Bun'ei\",\n",
       "       u'David', u'Joseph', u'Christian', u'Andreas', u'Evan', u'David',\n",
       "       u'Scott', u'Alessandro', u'Gudmundur', u'Klaus', u'Julian',\n",
       "       u'Andrew', u'Damien', u'Angelle', u'Ryan', u'Ren\\xe9', u'Stephane',\n",
       "       u'Jeffrey', u'Sharon Xuesong', u'Ji', u'Michael', u'Lauren',\n",
       "       u'Robert', u'Jason', u'Mesut', u'Xu', u'Mesut', u'Mathias'], dtype=object)"
      ]
     },
     "execution_count": 54,
     "metadata": {},
     "output_type": "execute_result"
    }
   ],
   "source": [
    "finaldf.FirstName.values"
   ]
  },
  {
   "cell_type": "code",
   "execution_count": 62,
   "metadata": {
    "collapsed": false
   },
   "outputs": [
    {
     "data": {
      "text/plain": [
       "array([u'Adams', u'Akeson', u'Anglada-Escude', u'Angus', u'Arriagada',\n",
       "       u'Badenas', u'Baluev', u'Bastien', u'Basturk', u'Basu', u'Bauer',\n",
       "       u'Bean', u'Beatty', u'Bechter', u'Bedell', u'Ben-Ami', u'Blake',\n",
       "       u'Boesch', u'Bolton', u'Borsa', u'Bouchy', u'Bowler', u'Boyajian',\n",
       "       u'Brewer', u'Buchhave', u'Burt', u'Capps', u'Cersullo',\n",
       "       u'Chakraborty', u'Cisewski', u'Cochran', u'Conod', u'Cornachione',\n",
       "       u'Crepp', u'Damasso', u'Davis', u'Dawson', u'Del Sordo', u'Diaz',\n",
       "       u'Diddams', u'Dressing', u'Dumusque', u'Eastman', u'Endl', u'Faria',\n",
       "       u'Feger', u'Figueira', u'Fischer', u'Ford', u'Foreman-Mackey',\n",
       "       u'Fulton', u'Furesz', u'Gao', u'Gaudi', u'Genoni', u'Giacobbe',\n",
       "       u'Giguere', u'Girvin', u'Girvin', u'Gonzales', u'Grundahl',\n",
       "       u'HEBRARD', u'Halverson', u'Hatzes', u'Haywood', u'Hebrard',\n",
       "       u'Herrero', u'Hogg', u'Hopgood', u'Howard', u'Johnson', u'Jorden',\n",
       "       u'Jurgenson', u'Landoni', u'Lanza', u'Latham', u'Laughlin',\n",
       "       u'Lovis', u'M. Berdi\\xf1as', u'Ma', u'Mace', u'Mahadevan',\n",
       "       u'Malavolta', u'Mardling', u'McCracken', u'McCrady', u'Mossman',\n",
       "       u'Motalebi', u'Moutou', u'Nelson', u'Nowak', u'Padmanabhan',\n",
       "       u'Parviainen', u'Pepe', u'Perez', u'Phillips', u'Plavchan',\n",
       "       u'Prato', u'Quinn', u'Quirrenbach', u'Rajagopal', u'Rajpaul',\n",
       "       u'Raskin', u'Reiners', u'Robertson', u'Rosich', u'Roy', u'Santos',\n",
       "       u'Sarmiento', u'Sato', u'Sawyer', u'Schmitt', u'Schwab',\n",
       "       u'Seifahrt', u'Sinukoff', u'Sliski', u'Smith', u'Sozzetti',\n",
       "       u'Stefansson', u'Strassmeier', u'Stuermer', u'Szentgyorgyi',\n",
       "       u'S\\xe9gransan', u'Tanner', u'Terrien', u'Tronsgaard Rasmussen',\n",
       "       u'Udry', u'Valenti', u'Wang', u'Wang', u'Weber', u'Weiss',\n",
       "       u'Wittenmyer', u'Wright', u'YILMAZ', u'Yi', u'Yilmaz',\n",
       "       u'Zechmeister'], dtype=object)"
      ]
     },
     "execution_count": 62,
     "metadata": {},
     "output_type": "execute_result"
    }
   ],
   "source": [
    "finaldf.LastName.values"
   ]
  },
  {
   "cell_type": "code",
   "execution_count": 59,
   "metadata": {
    "collapsed": false
   },
   "outputs": [],
   "source": [
    "hrz_fdg = 1. / 16./ 8.5\n",
    "leftarr = np.array([0.0294, 0.5, 0.0294, 0.5, 0.0294, 0.5])\n"
   ]
  },
  {
   "cell_type": "code",
   "execution_count": 60,
   "metadata": {
    "collapsed": false
   },
   "outputs": [
    {
     "data": {
      "text/plain": [
       "array([ 0.03675294,  0.50735294,  0.03675294,  0.50735294,  0.03675294,\n",
       "        0.50735294])"
      ]
     },
     "execution_count": 60,
     "metadata": {},
     "output_type": "execute_result"
    }
   ],
   "source": [
    "leftarr + hrz_fdg"
   ]
  },
  {
   "cell_type": "code",
   "execution_count": null,
   "metadata": {
    "collapsed": true
   },
   "outputs": [],
   "source": []
  }
 ],
 "metadata": {
  "kernelspec": {
   "display_name": "Python 2",
   "language": "python",
   "name": "python2"
  },
  "language_info": {
   "codemirror_mode": {
    "name": "ipython",
    "version": 2
   },
   "file_extension": ".py",
   "mimetype": "text/x-python",
   "name": "python",
   "nbconvert_exporter": "python",
   "pygments_lexer": "ipython2",
   "version": "2.7.9"
  }
 },
 "nbformat": 4,
 "nbformat_minor": 0
}
