{
 "cells": [
  {
   "cell_type": "markdown",
   "metadata": {},
   "source": [
    "#manipulate_regonline_output\n",
    "\n",
    "This notebook reads the RegOnline output into a pandas DataFrame and reworks it to have each row contain the attendee, the Doppler Primer Session, the Monday Breakout session, and the Tuesday breakout session in each row."
   ]
  },
  {
   "cell_type": "code",
   "execution_count": 1,
   "metadata": {
    "collapsed": true
   },
   "outputs": [],
   "source": [
    "import re\n",
    "import numpy as np\n",
    "import pandas as pd\n",
    "import matplotlib.pyplot as plt\n",
    "import matplotlib.image as mpimg\n",
    "import matplotlib"
   ]
  },
  {
   "cell_type": "code",
   "execution_count": 2,
   "metadata": {
    "collapsed": true
   },
   "outputs": [],
   "source": [
    "#%matplotlib inline"
   ]
  },
  {
   "cell_type": "markdown",
   "metadata": {},
   "source": [
    "### Read the RegOnline output into a pandas DataFrame"
   ]
  },
  {
   "cell_type": "code",
   "execution_count": 112,
   "metadata": {
    "collapsed": true
   },
   "outputs": [],
   "source": [
    "df = pd.read_excel('/Users/matt/projects/EPRV/data/AttendeeReportCrop_20150703.xls', encoding='utf-8')"
   ]
  },
  {
   "cell_type": "code",
   "execution_count": 113,
   "metadata": {
    "collapsed": false
   },
   "outputs": [
    {
     "data": {
      "text/plain": [
       "Index([u'AgendaItem', u'RegId', u'GroupId', u'FirstName', u'LastName', u'Company'], dtype='object')"
      ]
     },
     "execution_count": 113,
     "metadata": {},
     "output_type": "execute_result"
    }
   ],
   "source": [
    "df.columns"
   ]
  },
  {
   "cell_type": "code",
   "execution_count": 114,
   "metadata": {
    "collapsed": false
   },
   "outputs": [
    {
     "data": {
      "text/html": [
       "<div style=\"max-height:1000px;max-width:1500px;overflow:auto;\">\n",
       "<table border=\"1\" class=\"dataframe\">\n",
       "  <thead>\n",
       "    <tr style=\"text-align: right;\">\n",
       "      <th></th>\n",
       "      <th>AgendaItem</th>\n",
       "      <th>RegId</th>\n",
       "      <th>GroupId</th>\n",
       "      <th>FirstName</th>\n",
       "      <th>LastName</th>\n",
       "      <th>Company</th>\n",
       "    </tr>\n",
       "  </thead>\n",
       "  <tbody>\n",
       "    <tr>\n",
       "      <th>36</th>\n",
       "      <td>Doppler Primer: Instrumentation Challenges</td>\n",
       "      <td>78650013</td>\n",
       "      <td>78650013</td>\n",
       "      <td>Rebekah</td>\n",
       "      <td>Dawson</td>\n",
       "      <td>UC Berkeley</td>\n",
       "    </tr>\n",
       "    <tr>\n",
       "      <th>37</th>\n",
       "      <td>Doppler Primer: Spot Modeling</td>\n",
       "      <td>78698289</td>\n",
       "      <td>78698289</td>\n",
       "      <td>Fabio</td>\n",
       "      <td>Del Sordo</td>\n",
       "      <td>Yale / NORDITA</td>\n",
       "    </tr>\n",
       "  </tbody>\n",
       "</table>\n",
       "</div>"
      ],
      "text/plain": [
       "                                    AgendaItem     RegId   GroupId FirstName  \\\n",
       "36  Doppler Primer: Instrumentation Challenges  78650013  78650013   Rebekah   \n",
       "37               Doppler Primer: Spot Modeling  78698289  78698289     Fabio   \n",
       "\n",
       "     LastName         Company  \n",
       "36     Dawson     UC Berkeley  \n",
       "37  Del Sordo  Yale / NORDITA  "
      ]
     },
     "execution_count": 114,
     "metadata": {},
     "output_type": "execute_result"
    }
   ],
   "source": [
    "df.loc[36:37]"
   ]
  },
  {
   "cell_type": "markdown",
   "metadata": {},
   "source": [
    "### Extract the Sunday Sessions\n",
    "\n",
    "RegOnline outputs multiple entries for each person, and each entry differs by the `AgendaItem`. `AgendaItem`s exist for all sessions happening on all days. In this section, we extract the sessions happening on Sunday, which are all prefixed by \"Doppler Primer: \"."
   ]
  },
  {
   "cell_type": "code",
   "execution_count": 115,
   "metadata": {
    "collapsed": false
   },
   "outputs": [
    {
     "data": {
      "text/plain": [
       "126"
      ]
     },
     "execution_count": 115,
     "metadata": {},
     "output_type": "execute_result"
    }
   ],
   "source": [
    "sundf = df[df['AgendaItem'].str.contains('Doppler Primer:')].copy()\n",
    "len(sundf)"
   ]
  },
  {
   "cell_type": "markdown",
   "metadata": {},
   "source": [
    "Let's create two new columns in our DataFrame: the `Primer`, and the `PrimerID`. The `Primer` column will contain the name of the Doppler Primer session (minus the `Doppler Primer: ` prefix), and the `PrimerID` will be a session identifier that will later be used in plotting."
   ]
  },
  {
   "cell_type": "code",
   "execution_count": 116,
   "metadata": {
    "collapsed": false
   },
   "outputs": [],
   "source": [
    "sundf['PrimerID'] = 0"
   ]
  },
  {
   "cell_type": "code",
   "execution_count": 117,
   "metadata": {
    "collapsed": false
   },
   "outputs": [],
   "source": [
    "sundf['Primer'] = [re.search(r'(.*):\\s(.*)$', item).group(2) for item in sundf['AgendaItem']]"
   ]
  },
  {
   "cell_type": "code",
   "execution_count": 118,
   "metadata": {
    "collapsed": false
   },
   "outputs": [
    {
     "data": {
      "text/html": [
       "<div style=\"max-height:1000px;max-width:1500px;overflow:auto;\">\n",
       "<table border=\"1\" class=\"dataframe\">\n",
       "  <thead>\n",
       "    <tr style=\"text-align: right;\">\n",
       "      <th></th>\n",
       "      <th>AgendaItem</th>\n",
       "      <th>Primer</th>\n",
       "    </tr>\n",
       "  </thead>\n",
       "  <tbody>\n",
       "    <tr>\n",
       "      <th>0</th>\n",
       "      <td>Doppler Primer: Instrumentation Challenges</td>\n",
       "      <td>Instrumentation Challenges</td>\n",
       "    </tr>\n",
       "    <tr>\n",
       "      <th>1</th>\n",
       "      <td>Doppler Primer: Doppler code</td>\n",
       "      <td>Doppler code</td>\n",
       "    </tr>\n",
       "    <tr>\n",
       "      <th>2</th>\n",
       "      <td>Doppler Primer: Spot Modeling</td>\n",
       "      <td>Spot Modeling</td>\n",
       "    </tr>\n",
       "  </tbody>\n",
       "</table>\n",
       "</div>"
      ],
      "text/plain": [
       "                                   AgendaItem                      Primer\n",
       "0  Doppler Primer: Instrumentation Challenges  Instrumentation Challenges\n",
       "1                Doppler Primer: Doppler code                Doppler code\n",
       "2               Doppler Primer: Spot Modeling               Spot Modeling"
      ]
     },
     "execution_count": 118,
     "metadata": {},
     "output_type": "execute_result"
    }
   ],
   "source": [
    "sundf[['AgendaItem', 'Primer']].head(3)"
   ]
  },
  {
   "cell_type": "code",
   "execution_count": 119,
   "metadata": {
    "collapsed": false
   },
   "outputs": [
    {
     "data": {
      "text/plain": [
       "array([u'Instrumentation Challenges', u'Doppler code', u'Spot Modeling',\n",
       "       u'Statistical Analysis', u'Not Attending'], dtype=object)"
      ]
     },
     "execution_count": 119,
     "metadata": {},
     "output_type": "execute_result"
    }
   ],
   "source": [
    "sundf['Primer'].unique()"
   ]
  },
  {
   "cell_type": "markdown",
   "metadata": {
    "collapsed": false
   },
   "source": [
    "Now loop through the five unique sessions, updating the `PrimerID` column for each participant:"
   ]
  },
  {
   "cell_type": "code",
   "execution_count": 120,
   "metadata": {
    "collapsed": false
   },
   "outputs": [],
   "source": [
    "dopID = 0\n",
    "for agItem in sundf['Primer'].unique():\n",
    "    sundf.loc[sundf['Primer'] == agItem, 'PrimerID'] = dopID\n",
    "    dopID += 1"
   ]
  },
  {
   "cell_type": "markdown",
   "metadata": {},
   "source": [
    "Create an abbreviated code for each session. This will be added to the nametag to spark conversation among participants."
   ]
  },
  {
   "cell_type": "code",
   "execution_count": 121,
   "metadata": {
    "collapsed": true
   },
   "outputs": [],
   "source": [
    "sun_ses = ['IC', 'DC', 'SM', 'SA', 'NA']"
   ]
  },
  {
   "cell_type": "markdown",
   "metadata": {},
   "source": [
    "A quick preview of the first few rows to see the result:"
   ]
  },
  {
   "cell_type": "code",
   "execution_count": 122,
   "metadata": {
    "collapsed": false
   },
   "outputs": [
    {
     "data": {
      "text/html": [
       "<div style=\"max-height:1000px;max-width:1500px;overflow:auto;\">\n",
       "<table border=\"1\" class=\"dataframe\">\n",
       "  <thead>\n",
       "    <tr style=\"text-align: right;\">\n",
       "      <th></th>\n",
       "      <th>AgendaItem</th>\n",
       "      <th>Primer</th>\n",
       "      <th>PrimerID</th>\n",
       "    </tr>\n",
       "  </thead>\n",
       "  <tbody>\n",
       "    <tr>\n",
       "      <th>0</th>\n",
       "      <td>Doppler Primer: Instrumentation Challenges</td>\n",
       "      <td>Instrumentation Challenges</td>\n",
       "      <td>0</td>\n",
       "    </tr>\n",
       "    <tr>\n",
       "      <th>1</th>\n",
       "      <td>Doppler Primer: Doppler code</td>\n",
       "      <td>Doppler code</td>\n",
       "      <td>1</td>\n",
       "    </tr>\n",
       "    <tr>\n",
       "      <th>2</th>\n",
       "      <td>Doppler Primer: Spot Modeling</td>\n",
       "      <td>Spot Modeling</td>\n",
       "      <td>2</td>\n",
       "    </tr>\n",
       "    <tr>\n",
       "      <th>3</th>\n",
       "      <td>Doppler Primer: Spot Modeling</td>\n",
       "      <td>Spot Modeling</td>\n",
       "      <td>2</td>\n",
       "    </tr>\n",
       "  </tbody>\n",
       "</table>\n",
       "</div>"
      ],
      "text/plain": [
       "                                   AgendaItem                      Primer  \\\n",
       "0  Doppler Primer: Instrumentation Challenges  Instrumentation Challenges   \n",
       "1                Doppler Primer: Doppler code                Doppler code   \n",
       "2               Doppler Primer: Spot Modeling               Spot Modeling   \n",
       "3               Doppler Primer: Spot Modeling               Spot Modeling   \n",
       "\n",
       "   PrimerID  \n",
       "0         0  \n",
       "1         1  \n",
       "2         2  \n",
       "3         2  "
      ]
     },
     "execution_count": 122,
     "metadata": {},
     "output_type": "execute_result"
    }
   ],
   "source": [
    "sundf[['AgendaItem', 'Primer', 'PrimerID']].head(4)"
   ]
  },
  {
   "cell_type": "markdown",
   "metadata": {},
   "source": [
    "### Extract the Monday Sessions\n",
    "\n",
    "Now to do the same for the Monday sessions."
   ]
  },
  {
   "cell_type": "code",
   "execution_count": 123,
   "metadata": {
    "collapsed": false
   },
   "outputs": [
    {
     "data": {
      "text/plain": [
       "135"
      ]
     },
     "execution_count": 123,
     "metadata": {},
     "output_type": "execute_result"
    }
   ],
   "source": [
    "mondf = df[df['AgendaItem'].str.contains('Monday Break-out:')].copy()\n",
    "len(mondf)"
   ]
  },
  {
   "cell_type": "code",
   "execution_count": 124,
   "metadata": {
    "collapsed": false
   },
   "outputs": [],
   "source": [
    "mondf['MonID'] = 0\n",
    "\n",
    "mondf['Monday'] = [re.search(r'(.*):\\s(.*)$', item).group(2) for item in mondf['AgendaItem']]\n",
    "\n",
    "mondf['Monday'].unique()\n",
    "\n",
    "monID = 0\n",
    "for agItem in mondf['Monday'].unique():\n",
    "    mondf.loc[mondf['Monday'] == agItem, 'MonID'] = monID\n",
    "    monID += 1"
   ]
  },
  {
   "cell_type": "code",
   "execution_count": 125,
   "metadata": {
    "collapsed": false
   },
   "outputs": [
    {
     "data": {
      "text/plain": [
       "array([u'Fiber Optic Scrambling', u'Not attending',\n",
       "       u'Telluric Contamination', u'Barycentric Corrections',\n",
       "       u'Frequency Comb Calibrators'], dtype=object)"
      ]
     },
     "execution_count": 125,
     "metadata": {},
     "output_type": "execute_result"
    }
   ],
   "source": [
    "mondf['Monday'].unique()"
   ]
  },
  {
   "cell_type": "code",
   "execution_count": 126,
   "metadata": {
    "collapsed": true
   },
   "outputs": [],
   "source": [
    "mon_ses = ['FS', 'NA', 'TC', 'BC', 'FC']"
   ]
  },
  {
   "cell_type": "code",
   "execution_count": 127,
   "metadata": {
    "collapsed": false
   },
   "outputs": [
    {
     "data": {
      "text/html": [
       "<div style=\"max-height:1000px;max-width:1500px;overflow:auto;\">\n",
       "<table border=\"1\" class=\"dataframe\">\n",
       "  <thead>\n",
       "    <tr style=\"text-align: right;\">\n",
       "      <th></th>\n",
       "      <th>AgendaItem</th>\n",
       "      <th>Monday</th>\n",
       "      <th>MonID</th>\n",
       "    </tr>\n",
       "  </thead>\n",
       "  <tbody>\n",
       "    <tr>\n",
       "      <th>126</th>\n",
       "      <td>Monday Break-out: Fiber Optic Scrambling</td>\n",
       "      <td>Fiber Optic Scrambling</td>\n",
       "      <td>0</td>\n",
       "    </tr>\n",
       "    <tr>\n",
       "      <th>127</th>\n",
       "      <td>Monday Break-out: Not attending</td>\n",
       "      <td>Not attending</td>\n",
       "      <td>1</td>\n",
       "    </tr>\n",
       "    <tr>\n",
       "      <th>128</th>\n",
       "      <td>Monday Break-out: Fiber Optic Scrambling</td>\n",
       "      <td>Fiber Optic Scrambling</td>\n",
       "      <td>0</td>\n",
       "    </tr>\n",
       "    <tr>\n",
       "      <th>129</th>\n",
       "      <td>Monday Break-out: Telluric Contamination</td>\n",
       "      <td>Telluric Contamination</td>\n",
       "      <td>2</td>\n",
       "    </tr>\n",
       "  </tbody>\n",
       "</table>\n",
       "</div>"
      ],
      "text/plain": [
       "                                   AgendaItem                  Monday  MonID\n",
       "126  Monday Break-out: Fiber Optic Scrambling  Fiber Optic Scrambling      0\n",
       "127           Monday Break-out: Not attending           Not attending      1\n",
       "128  Monday Break-out: Fiber Optic Scrambling  Fiber Optic Scrambling      0\n",
       "129  Monday Break-out: Telluric Contamination  Telluric Contamination      2"
      ]
     },
     "execution_count": 127,
     "metadata": {},
     "output_type": "execute_result"
    }
   ],
   "source": [
    "mondf[['AgendaItem', 'Monday', 'MonID']].head(4)"
   ]
  },
  {
   "cell_type": "markdown",
   "metadata": {},
   "source": [
    "### Extract Tuesday Sessions"
   ]
  },
  {
   "cell_type": "code",
   "execution_count": 128,
   "metadata": {
    "collapsed": false
   },
   "outputs": [
    {
     "data": {
      "text/plain": [
       "135"
      ]
     },
     "execution_count": 128,
     "metadata": {},
     "output_type": "execute_result"
    }
   ],
   "source": [
    "tuedf = df[df['AgendaItem'].str.contains('Tuesday Break-out:')].copy()\n",
    "len(tuedf)"
   ]
  },
  {
   "cell_type": "code",
   "execution_count": 129,
   "metadata": {
    "collapsed": true
   },
   "outputs": [],
   "source": [
    "tuedf['TueID'] = 0\n",
    "\n",
    "tuedf['Tuesday'] = [re.search(r'(.*):\\s(.*)$', item).group(2) for item in tuedf['AgendaItem']]\n",
    "\n",
    "tuedf['Tuesday'].unique()\n",
    "\n",
    "tuesID = 0\n",
    "for agItem in tuedf['Tuesday'].unique():\n",
    "    tuedf.loc[tuedf['Tuesday'] == agItem, 'TueID'] = tuesID\n",
    "    tuesID += 1"
   ]
  },
  {
   "cell_type": "code",
   "execution_count": 130,
   "metadata": {
    "collapsed": false
   },
   "outputs": [
    {
     "data": {
      "text/plain": [
       "array([u'Statistical techniques', u'Detection Threshold Criteria',\n",
       "       u'Line Bisectors and decorrelatio', u'Photospheric Signals',\n",
       "       u'Not attending'], dtype=object)"
      ]
     },
     "execution_count": 130,
     "metadata": {},
     "output_type": "execute_result"
    }
   ],
   "source": [
    "tuedf['Tuesday'].unique()"
   ]
  },
  {
   "cell_type": "code",
   "execution_count": 131,
   "metadata": {
    "collapsed": true
   },
   "outputs": [],
   "source": [
    "tue_ses = ['ST', 'DC', 'LB', 'PS', 'NA']"
   ]
  },
  {
   "cell_type": "code",
   "execution_count": 132,
   "metadata": {
    "collapsed": false
   },
   "outputs": [
    {
     "data": {
      "text/html": [
       "<div style=\"max-height:1000px;max-width:1500px;overflow:auto;\">\n",
       "<table border=\"1\" class=\"dataframe\">\n",
       "  <thead>\n",
       "    <tr style=\"text-align: right;\">\n",
       "      <th></th>\n",
       "      <th>AgendaItem</th>\n",
       "      <th>Tuesday</th>\n",
       "      <th>TueID</th>\n",
       "    </tr>\n",
       "  </thead>\n",
       "  <tbody>\n",
       "    <tr>\n",
       "      <th>261</th>\n",
       "      <td>Tuesday Break-out: Statistical techniques</td>\n",
       "      <td>Statistical techniques</td>\n",
       "      <td>0</td>\n",
       "    </tr>\n",
       "    <tr>\n",
       "      <th>262</th>\n",
       "      <td>Tuesday Break-out: Statistical techniques</td>\n",
       "      <td>Statistical techniques</td>\n",
       "      <td>0</td>\n",
       "    </tr>\n",
       "    <tr>\n",
       "      <th>263</th>\n",
       "      <td>Tuesday Break-out: Detection Threshold Criteria</td>\n",
       "      <td>Detection Threshold Criteria</td>\n",
       "      <td>1</td>\n",
       "    </tr>\n",
       "    <tr>\n",
       "      <th>264</th>\n",
       "      <td>Tuesday Break-out: Detection Threshold Criteria</td>\n",
       "      <td>Detection Threshold Criteria</td>\n",
       "      <td>1</td>\n",
       "    </tr>\n",
       "  </tbody>\n",
       "</table>\n",
       "</div>"
      ],
      "text/plain": [
       "                                          AgendaItem  \\\n",
       "261        Tuesday Break-out: Statistical techniques   \n",
       "262        Tuesday Break-out: Statistical techniques   \n",
       "263  Tuesday Break-out: Detection Threshold Criteria   \n",
       "264  Tuesday Break-out: Detection Threshold Criteria   \n",
       "\n",
       "                          Tuesday  TueID  \n",
       "261        Statistical techniques      0  \n",
       "262        Statistical techniques      0  \n",
       "263  Detection Threshold Criteria      1  \n",
       "264  Detection Threshold Criteria      1  "
      ]
     },
     "execution_count": 132,
     "metadata": {},
     "output_type": "execute_result"
    }
   ],
   "source": [
    "tuedf[['AgendaItem', 'Tuesday', 'TueID']].head(4)"
   ]
  },
  {
   "cell_type": "markdown",
   "metadata": {},
   "source": [
    "### Combine the DataFrames\n",
    "\n",
    "We only need to join on one field. However, pandas does something weird, where it creates multiple `GroupId_x` columns when joining multiple times. The simple solution is just to join on multiple columns since we know they're all consistent."
   ]
  },
  {
   "cell_type": "code",
   "execution_count": 133,
   "metadata": {
    "collapsed": true
   },
   "outputs": [],
   "source": [
    "fulldf = df[['RegId', 'GroupId', 'FirstName', 'LastName', 'Company']]"
   ]
  },
  {
   "cell_type": "code",
   "execution_count": 134,
   "metadata": {
    "collapsed": false
   },
   "outputs": [
    {
     "name": "stdout",
     "output_type": "stream",
     "text": [
      "396\n",
      "137\n",
      "126\n",
      "135\n",
      "135\n"
     ]
    }
   ],
   "source": [
    "print(len(fulldf))\n",
    "fulldf = fulldf.drop_duplicates()\n",
    "print(len(fulldf))\n",
    "print(len(sundf))\n",
    "print(len(mondf))\n",
    "print(len(tuedf))"
   ]
  },
  {
   "cell_type": "code",
   "execution_count": 135,
   "metadata": {
    "collapsed": false
   },
   "outputs": [
    {
     "data": {
      "text/plain": [
       "Index([u'RegId', u'GroupId', u'FirstName', u'LastName', u'Company'], dtype='object')"
      ]
     },
     "execution_count": 135,
     "metadata": {},
     "output_type": "execute_result"
    }
   ],
   "source": [
    "fulldf.columns"
   ]
  },
  {
   "cell_type": "code",
   "execution_count": 136,
   "metadata": {
    "collapsed": false
   },
   "outputs": [
    {
     "data": {
      "text/plain": [
       "Index([u'AgendaItem', u'RegId', u'GroupId', u'FirstName', u'LastName', u'Company', u'PrimerID', u'Primer'], dtype='object')"
      ]
     },
     "execution_count": 136,
     "metadata": {},
     "output_type": "execute_result"
    }
   ],
   "source": [
    "sundf.columns"
   ]
  },
  {
   "cell_type": "code",
   "execution_count": 137,
   "metadata": {
    "collapsed": false
   },
   "outputs": [
    {
     "name": "stdout",
     "output_type": "stream",
     "text": [
      "137\n",
      "137\n",
      "137\n"
     ]
    }
   ],
   "source": [
    "newdf = pd.merge(fulldf, sundf, on=['RegId', 'GroupId', 'FirstName', 'LastName', 'Company'], how='left')\n",
    "print(len(newdf))\n",
    "\n",
    "newdf = pd.merge(newdf, mondf, on=['RegId', 'GroupId', 'FirstName', 'LastName', 'Company'], how='left')\n",
    "print(len(newdf))\n",
    "\n",
    "newdf = pd.merge(newdf, tuedf, on=['RegId', 'GroupId', 'FirstName', 'LastName', 'Company'], how='left')\n",
    "print(len(newdf))"
   ]
  },
  {
   "cell_type": "code",
   "execution_count": 138,
   "metadata": {
    "collapsed": false
   },
   "outputs": [
    {
     "data": {
      "text/html": [
       "<div style=\"max-height:1000px;max-width:1500px;overflow:auto;\">\n",
       "<table border=\"1\" class=\"dataframe\">\n",
       "  <thead>\n",
       "    <tr style=\"text-align: right;\">\n",
       "      <th></th>\n",
       "      <th>RegId</th>\n",
       "      <th>GroupId</th>\n",
       "      <th>FirstName</th>\n",
       "      <th>LastName</th>\n",
       "      <th>Company</th>\n",
       "      <th>AgendaItem_x</th>\n",
       "      <th>PrimerID</th>\n",
       "      <th>Primer</th>\n",
       "      <th>AgendaItem_y</th>\n",
       "      <th>MonID</th>\n",
       "      <th>Monday</th>\n",
       "      <th>AgendaItem</th>\n",
       "      <th>TueID</th>\n",
       "      <th>Tuesday</th>\n",
       "    </tr>\n",
       "  </thead>\n",
       "  <tbody>\n",
       "    <tr>\n",
       "      <th>0</th>\n",
       "      <td>79762584</td>\n",
       "      <td>79762584</td>\n",
       "      <td>Arthur</td>\n",
       "      <td>Adams</td>\n",
       "      <td>Yale University</td>\n",
       "      <td>Doppler Primer: Instrumentation Challenges</td>\n",
       "      <td>0</td>\n",
       "      <td>Instrumentation Challenges</td>\n",
       "      <td>Monday Break-out: Fiber Optic Scrambling</td>\n",
       "      <td>0</td>\n",
       "      <td>Fiber Optic Scrambling</td>\n",
       "      <td>Tuesday Break-out: Statistical techniques</td>\n",
       "      <td>0</td>\n",
       "      <td>Statistical techniques</td>\n",
       "    </tr>\n",
       "    <tr>\n",
       "      <th>1</th>\n",
       "      <td>79809320</td>\n",
       "      <td>79809320</td>\n",
       "      <td>Guillem</td>\n",
       "      <td>Anglada-Escude</td>\n",
       "      <td>Queen Mary University of London/University of ...</td>\n",
       "      <td>Doppler Primer: Doppler code</td>\n",
       "      <td>1</td>\n",
       "      <td>Doppler code</td>\n",
       "      <td>Monday Break-out: Fiber Optic Scrambling</td>\n",
       "      <td>0</td>\n",
       "      <td>Fiber Optic Scrambling</td>\n",
       "      <td>Tuesday Break-out: Detection Threshold Criteria</td>\n",
       "      <td>1</td>\n",
       "      <td>Detection Threshold Criteria</td>\n",
       "    </tr>\n",
       "    <tr>\n",
       "      <th>2</th>\n",
       "      <td>80253872</td>\n",
       "      <td>80253872</td>\n",
       "      <td>Ruth</td>\n",
       "      <td>Angus</td>\n",
       "      <td>University of Oxford/Harvard-Smithsonian Cente...</td>\n",
       "      <td>Doppler Primer: Spot Modeling</td>\n",
       "      <td>2</td>\n",
       "      <td>Spot Modeling</td>\n",
       "      <td>Monday Break-out: Telluric Contamination</td>\n",
       "      <td>2</td>\n",
       "      <td>Telluric Contamination</td>\n",
       "      <td>Tuesday Break-out: Detection Threshold Criteria</td>\n",
       "      <td>1</td>\n",
       "      <td>Detection Threshold Criteria</td>\n",
       "    </tr>\n",
       "    <tr>\n",
       "      <th>3</th>\n",
       "      <td>78665380</td>\n",
       "      <td>78665380</td>\n",
       "      <td>Pamela</td>\n",
       "      <td>Arriagada</td>\n",
       "      <td>DTM, CIW</td>\n",
       "      <td>Doppler Primer: Spot Modeling</td>\n",
       "      <td>2</td>\n",
       "      <td>Spot Modeling</td>\n",
       "      <td>Monday Break-out: Barycentric Corrections</td>\n",
       "      <td>3</td>\n",
       "      <td>Barycentric Corrections</td>\n",
       "      <td>Tuesday Break-out: Line Bisectors and decorrel...</td>\n",
       "      <td>2</td>\n",
       "      <td>Line Bisectors and decorrelatio</td>\n",
       "    </tr>\n",
       "    <tr>\n",
       "      <th>4</th>\n",
       "      <td>78665381</td>\n",
       "      <td>78665381</td>\n",
       "      <td>Mariona</td>\n",
       "      <td>Badenas</td>\n",
       "      <td>Yale University</td>\n",
       "      <td>Doppler Primer: Statistical Analysis</td>\n",
       "      <td>3</td>\n",
       "      <td>Statistical Analysis</td>\n",
       "      <td>Monday Break-out: Barycentric Corrections</td>\n",
       "      <td>3</td>\n",
       "      <td>Barycentric Corrections</td>\n",
       "      <td>Tuesday Break-out: Line Bisectors and decorrel...</td>\n",
       "      <td>2</td>\n",
       "      <td>Line Bisectors and decorrelatio</td>\n",
       "    </tr>\n",
       "  </tbody>\n",
       "</table>\n",
       "</div>"
      ],
      "text/plain": [
       "      RegId   GroupId FirstName        LastName  \\\n",
       "0  79762584  79762584    Arthur           Adams   \n",
       "1  79809320  79809320   Guillem  Anglada-Escude   \n",
       "2  80253872  80253872      Ruth           Angus   \n",
       "3  78665380  78665380    Pamela       Arriagada   \n",
       "4  78665381  78665381   Mariona         Badenas   \n",
       "\n",
       "                                             Company  \\\n",
       "0                                    Yale University   \n",
       "1  Queen Mary University of London/University of ...   \n",
       "2  University of Oxford/Harvard-Smithsonian Cente...   \n",
       "3                                           DTM, CIW   \n",
       "4                                    Yale University   \n",
       "\n",
       "                                 AgendaItem_x  PrimerID  \\\n",
       "0  Doppler Primer: Instrumentation Challenges         0   \n",
       "1                Doppler Primer: Doppler code         1   \n",
       "2               Doppler Primer: Spot Modeling         2   \n",
       "3               Doppler Primer: Spot Modeling         2   \n",
       "4        Doppler Primer: Statistical Analysis         3   \n",
       "\n",
       "                       Primer                               AgendaItem_y  \\\n",
       "0  Instrumentation Challenges   Monday Break-out: Fiber Optic Scrambling   \n",
       "1                Doppler code   Monday Break-out: Fiber Optic Scrambling   \n",
       "2               Spot Modeling   Monday Break-out: Telluric Contamination   \n",
       "3               Spot Modeling  Monday Break-out: Barycentric Corrections   \n",
       "4        Statistical Analysis  Monday Break-out: Barycentric Corrections   \n",
       "\n",
       "   MonID                   Monday  \\\n",
       "0      0   Fiber Optic Scrambling   \n",
       "1      0   Fiber Optic Scrambling   \n",
       "2      2   Telluric Contamination   \n",
       "3      3  Barycentric Corrections   \n",
       "4      3  Barycentric Corrections   \n",
       "\n",
       "                                          AgendaItem  TueID  \\\n",
       "0          Tuesday Break-out: Statistical techniques      0   \n",
       "1    Tuesday Break-out: Detection Threshold Criteria      1   \n",
       "2    Tuesday Break-out: Detection Threshold Criteria      1   \n",
       "3  Tuesday Break-out: Line Bisectors and decorrel...      2   \n",
       "4  Tuesday Break-out: Line Bisectors and decorrel...      2   \n",
       "\n",
       "                           Tuesday  \n",
       "0           Statistical techniques  \n",
       "1     Detection Threshold Criteria  \n",
       "2     Detection Threshold Criteria  \n",
       "3  Line Bisectors and decorrelatio  \n",
       "4  Line Bisectors and decorrelatio  "
      ]
     },
     "execution_count": 138,
     "metadata": {},
     "output_type": "execute_result"
    }
   ],
   "source": [
    "newdf.head(5)"
   ]
  },
  {
   "cell_type": "code",
   "execution_count": 139,
   "metadata": {
    "collapsed": false
   },
   "outputs": [
    {
     "data": {
      "text/plain": [
       "Index([u'RegId', u'GroupId', u'FirstName', u'LastName', u'Company', u'AgendaItem_x', u'PrimerID', u'Primer', u'AgendaItem_y', u'MonID', u'Monday', u'AgendaItem', u'TueID', u'Tuesday'], dtype='object')"
      ]
     },
     "execution_count": 139,
     "metadata": {},
     "output_type": "execute_result"
    }
   ],
   "source": [
    "newdf.columns"
   ]
  },
  {
   "cell_type": "markdown",
   "metadata": {},
   "source": [
    "Now create a new DataFrame that is a subset of the `newdf` with only the columns of interest. Also, make sure the DataFrame is sorted by lastname, the index is reset, and it's a copy of `newdf` instead of a pointer to `newdf`."
   ]
  },
  {
   "cell_type": "code",
   "execution_count": 140,
   "metadata": {
    "collapsed": false
   },
   "outputs": [],
   "source": [
    "finaldf = newdf[['FirstName', 'LastName', 'Company', 'Primer', 'PrimerID', 'Monday', 'MonID', 'Tuesday', 'TueID']].sort('LastName').reset_index().copy()"
   ]
  },
  {
   "cell_type": "code",
   "execution_count": 141,
   "metadata": {
    "collapsed": false
   },
   "outputs": [
    {
     "data": {
      "text/html": [
       "<div style=\"max-height:1000px;max-width:1500px;overflow:auto;\">\n",
       "<table border=\"1\" class=\"dataframe\">\n",
       "  <thead>\n",
       "    <tr style=\"text-align: right;\">\n",
       "      <th></th>\n",
       "      <th>index</th>\n",
       "      <th>FirstName</th>\n",
       "      <th>LastName</th>\n",
       "      <th>Company</th>\n",
       "      <th>Primer</th>\n",
       "      <th>PrimerID</th>\n",
       "      <th>Monday</th>\n",
       "      <th>MonID</th>\n",
       "      <th>Tuesday</th>\n",
       "      <th>TueID</th>\n",
       "    </tr>\n",
       "  </thead>\n",
       "  <tbody>\n",
       "    <tr>\n",
       "      <th>0</th>\n",
       "      <td>0</td>\n",
       "      <td>Arthur</td>\n",
       "      <td>Adams</td>\n",
       "      <td>Yale University</td>\n",
       "      <td>Instrumentation Challenges</td>\n",
       "      <td>0</td>\n",
       "      <td>Fiber Optic Scrambling</td>\n",
       "      <td>0</td>\n",
       "      <td>Statistical techniques</td>\n",
       "      <td>0</td>\n",
       "    </tr>\n",
       "    <tr>\n",
       "      <th>1</th>\n",
       "      <td>126</td>\n",
       "      <td>Rachel</td>\n",
       "      <td>Akeson</td>\n",
       "      <td>NASA Exoplanet Science Institute</td>\n",
       "      <td>NaN</td>\n",
       "      <td>NaN</td>\n",
       "      <td>Not attending</td>\n",
       "      <td>1</td>\n",
       "      <td>Statistical techniques</td>\n",
       "      <td>0</td>\n",
       "    </tr>\n",
       "    <tr>\n",
       "      <th>2</th>\n",
       "      <td>1</td>\n",
       "      <td>Guillem</td>\n",
       "      <td>Anglada-Escude</td>\n",
       "      <td>Queen Mary University of London/University of ...</td>\n",
       "      <td>Doppler code</td>\n",
       "      <td>1</td>\n",
       "      <td>Fiber Optic Scrambling</td>\n",
       "      <td>0</td>\n",
       "      <td>Detection Threshold Criteria</td>\n",
       "      <td>1</td>\n",
       "    </tr>\n",
       "    <tr>\n",
       "      <th>3</th>\n",
       "      <td>2</td>\n",
       "      <td>Ruth</td>\n",
       "      <td>Angus</td>\n",
       "      <td>University of Oxford/Harvard-Smithsonian Cente...</td>\n",
       "      <td>Spot Modeling</td>\n",
       "      <td>2</td>\n",
       "      <td>Telluric Contamination</td>\n",
       "      <td>2</td>\n",
       "      <td>Detection Threshold Criteria</td>\n",
       "      <td>1</td>\n",
       "    </tr>\n",
       "    <tr>\n",
       "      <th>4</th>\n",
       "      <td>3</td>\n",
       "      <td>Pamela</td>\n",
       "      <td>Arriagada</td>\n",
       "      <td>DTM, CIW</td>\n",
       "      <td>Spot Modeling</td>\n",
       "      <td>2</td>\n",
       "      <td>Barycentric Corrections</td>\n",
       "      <td>3</td>\n",
       "      <td>Line Bisectors and decorrelatio</td>\n",
       "      <td>2</td>\n",
       "    </tr>\n",
       "  </tbody>\n",
       "</table>\n",
       "</div>"
      ],
      "text/plain": [
       "   index FirstName        LastName  \\\n",
       "0      0    Arthur           Adams   \n",
       "1    126    Rachel          Akeson   \n",
       "2      1   Guillem  Anglada-Escude   \n",
       "3      2      Ruth           Angus   \n",
       "4      3    Pamela       Arriagada   \n",
       "\n",
       "                                             Company  \\\n",
       "0                                    Yale University   \n",
       "1                   NASA Exoplanet Science Institute   \n",
       "2  Queen Mary University of London/University of ...   \n",
       "3  University of Oxford/Harvard-Smithsonian Cente...   \n",
       "4                                           DTM, CIW   \n",
       "\n",
       "                       Primer  PrimerID                   Monday  MonID  \\\n",
       "0  Instrumentation Challenges         0   Fiber Optic Scrambling      0   \n",
       "1                         NaN       NaN            Not attending      1   \n",
       "2                Doppler code         1   Fiber Optic Scrambling      0   \n",
       "3               Spot Modeling         2   Telluric Contamination      2   \n",
       "4               Spot Modeling         2  Barycentric Corrections      3   \n",
       "\n",
       "                           Tuesday  TueID  \n",
       "0           Statistical techniques      0  \n",
       "1           Statistical techniques      0  \n",
       "2     Detection Threshold Criteria      1  \n",
       "3     Detection Threshold Criteria      1  \n",
       "4  Line Bisectors and decorrelatio      2  "
      ]
     },
     "execution_count": 141,
     "metadata": {},
     "output_type": "execute_result"
    }
   ],
   "source": [
    "finaldf.head(5)"
   ]
  },
  {
   "cell_type": "code",
   "execution_count": 142,
   "metadata": {
    "collapsed": false
   },
   "outputs": [
    {
     "data": {
      "text/plain": [
       "137"
      ]
     },
     "execution_count": 142,
     "metadata": {},
     "output_type": "execute_result"
    }
   ],
   "source": [
    "len(finaldf)"
   ]
  },
  {
   "cell_type": "code",
   "execution_count": 143,
   "metadata": {
    "collapsed": false
   },
   "outputs": [
    {
     "data": {
      "text/plain": [
       "Index([u'index', u'FirstName', u'LastName', u'Company', u'Primer', u'PrimerID', u'Monday', u'MonID', u'Tuesday', u'TueID'], dtype='object')"
      ]
     },
     "execution_count": 143,
     "metadata": {},
     "output_type": "execute_result"
    }
   ],
   "source": [
    "finaldf.columns"
   ]
  },
  {
   "cell_type": "markdown",
   "metadata": {},
   "source": [
    "Now replace all empty cells for \"Company\" to a very general location:"
   ]
  },
  {
   "cell_type": "code",
   "execution_count": 144,
   "metadata": {
    "collapsed": false
   },
   "outputs": [],
   "source": [
    "finaldf.Company = ['Earth' if pd.isnull(company_el) else company_el for company_el in finaldf.Company]"
   ]
  },
  {
   "cell_type": "markdown",
   "metadata": {},
   "source": [
    "Replace NaNs for PrimerID with the \"Not Attending\" ID:"
   ]
  },
  {
   "cell_type": "code",
   "execution_count": 145,
   "metadata": {
    "collapsed": true
   },
   "outputs": [],
   "source": [
    "finaldf.PrimerID = [4 if pd.isnull(primerid_el) else primerid_el for primerid_el in finaldf.PrimerID]"
   ]
  },
  {
   "cell_type": "markdown",
   "metadata": {},
   "source": [
    "Check for NaNs in the Monday ID:"
   ]
  },
  {
   "cell_type": "code",
   "execution_count": 146,
   "metadata": {
    "collapsed": false
   },
   "outputs": [
    {
     "data": {
      "text/plain": [
       "2"
      ]
     },
     "execution_count": 146,
     "metadata": {},
     "output_type": "execute_result"
    }
   ],
   "source": [
    "len(finaldf[pd.isnull(finaldf['MonID'])])"
   ]
  },
  {
   "cell_type": "markdown",
   "metadata": {},
   "source": [
    "Replace NaNs for the MonID with the \"Not Attending\" ID:"
   ]
  },
  {
   "cell_type": "code",
   "execution_count": 147,
   "metadata": {
    "collapsed": true
   },
   "outputs": [],
   "source": [
    "finaldf.MonID = [4 if pd.isnull(monid_el) else monid_el for monid_el in finaldf.MonID]"
   ]
  },
  {
   "cell_type": "code",
   "execution_count": 148,
   "metadata": {
    "collapsed": false
   },
   "outputs": [
    {
     "data": {
      "text/plain": [
       "0"
      ]
     },
     "execution_count": 148,
     "metadata": {},
     "output_type": "execute_result"
    }
   ],
   "source": [
    "len(finaldf[pd.isnull(finaldf['MonID'])])"
   ]
  },
  {
   "cell_type": "markdown",
   "metadata": {},
   "source": [
    "Replace NaNs for the TueID with the \"Not Attending\" ID:"
   ]
  },
  {
   "cell_type": "code",
   "execution_count": 149,
   "metadata": {
    "collapsed": false
   },
   "outputs": [
    {
     "data": {
      "text/plain": [
       "2"
      ]
     },
     "execution_count": 149,
     "metadata": {},
     "output_type": "execute_result"
    }
   ],
   "source": [
    "len(finaldf[pd.isnull(finaldf['TueID'])])"
   ]
  },
  {
   "cell_type": "code",
   "execution_count": 150,
   "metadata": {
    "collapsed": true
   },
   "outputs": [],
   "source": [
    "finaldf.TueID = [4 if pd.isnull(tueid_el) else tueid_el for tueid_el in finaldf.TueID]"
   ]
  },
  {
   "cell_type": "code",
   "execution_count": 151,
   "metadata": {
    "collapsed": false
   },
   "outputs": [
    {
     "data": {
      "text/plain": [
       "0"
      ]
     },
     "execution_count": 151,
     "metadata": {},
     "output_type": "execute_result"
    }
   ],
   "source": [
    "len(finaldf[pd.isnull(finaldf['TueID'])])"
   ]
  },
  {
   "cell_type": "markdown",
   "metadata": {},
   "source": [
    "Test out the wrap-around text for institute for participants that have long institution names. This regular expression will look for institutions (or Companies, as RegOnline refers to them), and find items that have a '/', and if no '/', either a '-', ',', or 'at' in the text. If so, add a newline character to make the text wrap around to the next line.\n",
    "\n",
    "We'll first test the output on a participant's institution that contains both a '/' and a '-':"
   ]
  },
  {
   "cell_type": "code",
   "execution_count": 152,
   "metadata": {
    "collapsed": false
   },
   "outputs": [
    {
     "data": {
      "text/plain": [
       "u'Queen Mary University of London/\\nUniversity of Herfordshire'"
      ]
     },
     "execution_count": 152,
     "metadata": {},
     "output_type": "execute_result"
    }
   ],
   "source": [
    "p = re.compile ('(/|^(?!.*/).*-|^(?!.*/).*,|^(?!.*/).*\\sat\\s)')\n",
    "p.subn(r'\\1\\n', finaldf.loc[2].Company)[0]"
   ]
  },
  {
   "cell_type": "markdown",
   "metadata": {},
   "source": [
    "And test a cell that is long, contains `at`, but `at` is part of a longer word:"
   ]
  },
  {
   "cell_type": "code",
   "execution_count": 153,
   "metadata": {
    "collapsed": false
   },
   "outputs": [
    {
     "data": {
      "text/plain": [
       "u'The Ohio State University'"
      ]
     },
     "execution_count": 153,
     "metadata": {},
     "output_type": "execute_result"
    }
   ],
   "source": [
    "p.subn(r'\\1\\n', finaldf.loc[53].Company)[0]"
   ]
  },
  {
   "cell_type": "markdown",
   "metadata": {},
   "source": [
    "And a quick test on a few more institutions:"
   ]
  },
  {
   "cell_type": "code",
   "execution_count": 154,
   "metadata": {
    "collapsed": false,
    "scrolled": true
   },
   "outputs": [
    {
     "data": {
      "text/plain": [
       "[u'Yale University',\n",
       " u'NASA Exoplanet Science Institute',\n",
       " u'Queen Mary University of London/\\nUniversity of Herfordshire',\n",
       " u'University of Oxford/\\nHarvard-Smithsonian Center for Astrophysics',\n",
       " u'DTM, CIW']"
      ]
     },
     "execution_count": 154,
     "metadata": {},
     "output_type": "execute_result"
    }
   ],
   "source": [
    "[p.sub(r'\\1\\n', company_el) if len(company_el) > 30 else company_el for company_el in finaldf.head(5).Company.values]"
   ]
  },
  {
   "cell_type": "markdown",
   "metadata": {},
   "source": [
    "Now update the full `Company` column of the DataFrame:"
   ]
  },
  {
   "cell_type": "code",
   "execution_count": 155,
   "metadata": {
    "collapsed": false
   },
   "outputs": [],
   "source": [
    "finaldf.Company = [p.sub(r'\\1\\n', company_el) if len(company_el) > 30 else company_el for company_el in finaldf.Company.values]"
   ]
  },
  {
   "cell_type": "markdown",
   "metadata": {},
   "source": [
    "## Plot Labels\n",
    "\n",
    "Now that we have our DataFrame cleaned up the way we want it we can print the data to the Avery 5392 format. This format contains 6 4\"x3\" nametags per sheet."
   ]
  },
  {
   "cell_type": "code",
   "execution_count": 156,
   "metadata": {
    "collapsed": true
   },
   "outputs": [],
   "source": [
    "png = mpimg.imread('/Users/matt/projects/EPRV/images/NameTag2.png')"
   ]
  },
  {
   "cell_type": "code",
   "execution_count": 157,
   "metadata": {
    "collapsed": false
   },
   "outputs": [
    {
     "data": {
      "text/plain": [
       "(900, 1200, 4)"
      ]
     },
     "execution_count": 157,
     "metadata": {},
     "output_type": "execute_result"
    }
   ],
   "source": [
    "png.shape"
   ]
  },
  {
   "cell_type": "code",
   "execution_count": 158,
   "metadata": {
    "collapsed": false,
    "scrolled": true
   },
   "outputs": [],
   "source": [
    "import matplotlib.font_manager as mfm\n",
    "fontpaths = fontpaths=['/System/Library/Fonts/',\n",
    "                       '/Library/Fonts',\n",
    "                       '/Library/Fonts/Microsoft',\n",
    "                       '/usr/X11/lib/X11/fonts',\n",
    "                       '/opt/X11/share/fonts',\n",
    "                       '/Users/matt/Library/Fonts']\n",
    "\n",
    "blaa = mfm.findSystemFonts(fontpaths=fontpaths)"
   ]
  },
  {
   "cell_type": "code",
   "execution_count": 159,
   "metadata": {
    "collapsed": false,
    "scrolled": true
   },
   "outputs": [
    {
     "name": "stdout",
     "output_type": "stream",
     "text": [
      "Now on page: 0\n",
      "Now making name tag for: Arthur Adams\n",
      "Now making name tag for: Rachel Akeson\n",
      "Now making name tag for: Guillem Anglada-Escude\n",
      "Now making name tag for: Ruth Angus\n",
      "Now making name tag for: Pamela Arriagada\n",
      "Now making name tag for: Mariona Badenas\n",
      "Now on page: 1\n",
      "Now making name tag for: Roman Baluev\n",
      "Now making name tag for: Fabienne Bastien\n",
      "Now making name tag for: Ozgur Basturk\n",
      "Now making name tag for: Sarbani Basu\n",
      "Now making name tag for: Florian Bauer\n",
      "Now making name tag for: Jacob Bean\n",
      "Now on page: 2\n",
      "Now making name tag for: Thomas Beatty\n",
      "Now making name tag for: Eric Bechter\n",
      "Now making name tag for: Megan Bedell\n",
      "Now making name tag for: Sagi Ben-Ami\n",
      "Now making name tag for: Cullen Blake\n",
      "Now making name tag for: Andreas Boesch\n",
      "Now on page: 3\n",
      "Now making name tag for: Adam Bolton\n",
      "Now making name tag for: Francesco Borsa\n",
      "Now making name tag for: Francois Bouchy\n",
      "Now making name tag for: Brendan Bowler\n",
      "Now making name tag for: Tabetha Boyajian\n",
      "Now making name tag for: John Brewer\n",
      "Now on page: 4\n",
      "Now making name tag for: Lars A. Buchhave\n",
      "Now making name tag for: Jennifer Burt\n",
      "Now making name tag for: Richard Capps\n",
      "Now making name tag for: Maria Federica Cersullo\n",
      "Now making name tag for: Abhijit Chakraborty\n",
      "Now making name tag for: Jessi Cisewski\n",
      "Now on page: 5\n",
      "Now making name tag for: William Cochran\n",
      "Now making name tag for: Uriel Conod\n",
      "Now making name tag for: Matthew Cornachione\n",
      "Now making name tag for: Justin Crepp\n",
      "Now making name tag for: Mario Damasso\n",
      "Now making name tag for: Allen Davis\n",
      "Now on page: 6\n",
      "Now making name tag for: Rebekah Dawson\n",
      "Now making name tag for: Fabio Del Sordo\n",
      "Now making name tag for: Rodrigo Diaz\n",
      "Now making name tag for: Scott Diddams\n",
      "Now making name tag for: Courtney Dressing\n",
      "Now making name tag for: Xavier Dumusque\n",
      "Now on page: 7\n",
      "Now making name tag for: Jason Eastman\n",
      "Now making name tag for: Michael Endl\n",
      "Now making name tag for: João Faria\n",
      "Now making name tag for: Tobias Feger\n",
      "Now making name tag for: Pedro Figueira\n",
      "Now making name tag for: Debra Fischer\n",
      "Now on page: 8\n",
      "Now making name tag for: Eric Ford\n",
      "Now making name tag for: Daniel Foreman-Mackey\n",
      "Now making name tag for: BJ Fulton\n",
      "Now making name tag for: Gabor Furesz\n",
      "Now making name tag for: Peter Gao\n",
      "Now making name tag for: Bernard Gaudi\n",
      "Now on page: 9\n",
      "Now making name tag for: Matteo Genoni\n",
      "Now making name tag for: Paolo Giacobbe\n",
      "Now making name tag for: Matt Giguere\n",
      "Now making name tag for: Steve Girvin\n",
      "Now making name tag for: Erica Gonzales\n",
      "Now making name tag for: Frank Grundahl\n",
      "Now on page: 10\n",
      "Now making name tag for: Guillaume HEBRARD\n",
      "Now making name tag for: Sam Halverson\n",
      "Now making name tag for: Artie Hatzes\n",
      "Now making name tag for: Raphaelle Haywood\n",
      "Now making name tag for: Guillaume Hebrard\n",
      "Now making name tag for: Enrique Herrero\n",
      "Now on page: 11\n",
      "Now making name tag for: David Hogg\n",
      "Now making name tag for: Joshua Hopgood\n",
      "Now making name tag for: Andrew Howard\n",
      "Now making name tag for: John Johnson\n",
      "Now making name tag for: Paul Jorden\n",
      "Now making name tag for: Colby Jurgenson\n",
      "Now on page: 12\n",
      "Now making name tag for: Marco Landoni\n",
      "Now making name tag for: Antonino Francesco Lanza\n",
      "Now making name tag for: David Latham\n",
      "Now making name tag for: Gregory Laughlin\n",
      "Now making name tag for: Christophe Lovis\n",
      "Now making name tag for: Zaira M. Berdiñas\n",
      "Now on page: 13\n",
      "Now making name tag for: Bo Ma\n",
      "Now making name tag for: Gregory Mace\n",
      "Now making name tag for: Suvrath Mahadevan\n",
      "Now making name tag for: Luca Malavolta\n",
      "Now making name tag for: Rosemary Mardling\n",
      "Now making name tag for: Tyler McCracken\n",
      "Now on page: 14\n",
      "Now making name tag for: Nate McCrady\n",
      "Now making name tag for: Michael Mossman\n",
      "Now making name tag for: Ati Motalebi\n",
      "Now making name tag for: Claire Moutou\n",
      "Now making name tag for: Benjamin Nelson\n",
      "Now making name tag for: Grzegorz Nowak\n",
      "Now on page: 15\n",
      "Now making name tag for: Nikhil Padmanabhan\n",
      "Now making name tag for: Hannu Parviainen\n",
      "Now making name tag for: Francesco Pepe\n",
      "Now making name tag for: Mario Perez\n",
      "Now making name tag for: David Phillips\n",
      "Now making name tag for: Peter Plavchan\n",
      "Now on page: 16\n",
      "Now making name tag for: Lisa Prato\n",
      "Now making name tag for: Sam Quinn\n",
      "Now making name tag for: Andreas Quirrenbach\n",
      "Now making name tag for: Jayadev Rajagopal\n",
      "Now making name tag for: Vinesh Rajpaul\n",
      "Now making name tag for: Gert Raskin\n",
      "Now on page: 17\n",
      "Now making name tag for: Ansgar Reiners\n",
      "Now making name tag for: Paul Robertson\n",
      "Now making name tag for: Albert Rosich\n",
      "Now making name tag for: Arpita Roy\n",
      "Now making name tag for: Nuno Santos\n",
      "Now making name tag for: Luis Fernando Sarmiento\n",
      "Now on page: 18\n",
      "Now making name tag for: Bun'ei Sato\n",
      "Now making name tag for: David Sawyer\n",
      "Now making name tag for: Joseph Schmitt\n",
      "Now making name tag for: Christian Schwab\n",
      "Now making name tag for: Andreas Seifahrt\n",
      "Now making name tag for: Evan Sinukoff\n",
      "Now on page: 19\n",
      "Now making name tag for: David Sliski\n",
      "Now making name tag for: Scott Smith\n",
      "Now making name tag for: Alessandro Sozzetti\n",
      "Now making name tag for: Gudmundur Stefansson\n",
      "Now making name tag for: Klaus Strassmeier\n",
      "Now making name tag for: Julian Stuermer\n",
      "Now on page: 20\n",
      "Now making name tag for: Andrew Szentgyorgyi\n",
      "Now making name tag for: Damien Ségransan\n",
      "Now making name tag for: Angelle Tanner\n",
      "Now making name tag for: Ryan Terrien\n",
      "Now making name tag for: René Tronsgaard Rasmussen\n",
      "Now making name tag for: Stephane Udry\n",
      "Now on page: 21\n",
      "Now making name tag for: Jeffrey Valenti\n",
      "Now making name tag for: Sharon Xuesong Wang\n",
      "Now making name tag for: Ji Wang\n",
      "Now making name tag for: Michael Weber\n",
      "Now making name tag for: Lauren Weiss\n",
      "Now making name tag for: Robert Wittenmyer\n",
      "Now on page: 22\n",
      "Now making name tag for: Jason Wright\n",
      "Now making name tag for: Mesut YILMAZ\n",
      "Now making name tag for: Xu Yi\n",
      "Now making name tag for: Mesut Yilmaz\n",
      "Now making name tag for: Mathias Zechmeister\n"
     ]
    }
   ],
   "source": [
    "colors = ['#FFE2A9', '#4BA4D8', '#768085', '#BF5338', '#335B8F']\n",
    "colors2 = ['#335B8F', '#BF5338', '#768085',  '#4BA4D8', '#FFE2A9']\n",
    "colors3 = ['#4BA4D8', '#FFE2A9', '#BF5338', '#768085', '#335B8F']\n",
    "\n",
    "circ_ypos = 775\n",
    "name_dict = {'family': 'YaleNew-Roman',\n",
    "             'color': '#D6E8E1',\n",
    "             'weight': 'bold',\n",
    "             'size': 28\n",
    "             }\n",
    "\n",
    "company_dict = {'family': 'YaleNew-Roman',\n",
    "                'color': '#D6E8E1',\n",
    "                'weight': 'bold',\n",
    "                'size': 16\n",
    "                }\n",
    "\n",
    "circle_dict = {'family': 'YaleNew-Roman',\n",
    "               'color': '#1D2523',\n",
    "               'weight': 'normal',\n",
    "               'size': 20\n",
    "               }\n",
    "\n",
    "\n",
    "def change_name_size(name, name_dict):\n",
    "    if len(name) < 16:\n",
    "        name_dict['size'] = 28\n",
    "    elif ((len(name) >= 16) and (len(name) < 19)):\n",
    "        name_dict['size'] = 24\n",
    "    elif ((len(name) >= 19) and (len(name) < 24)):\n",
    "        name_dict['size'] = 20\n",
    "    elif ((len(name) >= 24) and (len(name) < 30)):\n",
    "        name_dict['size'] = 17\n",
    "    else:\n",
    "        name_dict['size'] = 16\n",
    "    return name_dict\n",
    "        \n",
    "\n",
    "def change_company_size(company, company_dict):\n",
    "    newlines = len(re.findall(r'\\n', finaldf.loc[0].Company))\n",
    "    if newlines == 0:\n",
    "        if len(company) < 15:\n",
    "            company_dict['size'] = 18\n",
    "        elif ((len(company) >= 15) and (len(company) < 30)):\n",
    "            company_dict['size'] = 14\n",
    "        elif ((len(company) >= 30) and (len(company) < 40)):\n",
    "            company_dict['size'] = 12\n",
    "        elif ((len(company) >= 40) and (len(company) < 50)):\n",
    "            company_dict['size'] = 10\n",
    "        else:\n",
    "            company_dict['size'] = 8\n",
    "    else:\n",
    "        if len(company) < 15:\n",
    "            company_dict['size'] = 18\n",
    "        elif ((len(company) >= 15) and (len(company) < 40)):\n",
    "            company_dict['size'] = 14\n",
    "        elif ((len(company) >= 40) and (len(company) < 50)):\n",
    "            company_dict['size'] = 12\n",
    "        else:\n",
    "            company_dict['size'] = 10\n",
    "    return company_dict\n",
    "    \n",
    "\n",
    "# The HP Color LaserJet CP4020 offsets things by 1/16th of an inch left-to-right.\n",
    "# This fudge factor should fix that:\n",
    "hrz_fdg = 1. / 16./ 8.5\n",
    "leftarr = np.array([0.0294, 0.5, 0.0294, 0.5, 0.0294, 0.5]) + hrz_fdg\n",
    "bottomarr = [0.091, 0.091, 0.364,  0.364, 0.637, 0.637]\n",
    "width = 0.4706\n",
    "height = 0.273\n",
    "\n",
    "# loop through the total number of pages:\n",
    "for page in range(int(np.ceil((len(finaldf))/6.))):\n",
    "    print('Now on page: {}'.format(page))\n",
    "    fig = plt.figure(figsize=(8.5, 11))\n",
    "    for indx in range(6):\n",
    "        # add an if statement to handle the last page if there are less than\n",
    "        # six participants remaining:\n",
    "        if ((page*6 + indx) < len(finaldf)):\n",
    "            rect = [leftarr[indx], bottomarr[indx], width, height]\n",
    "            ax = fig.add_axes(rect)\n",
    "            ax.imshow(png)\n",
    "            ax.get_xaxis().set_visible(False)\n",
    "            ax.get_yaxis().set_visible(False)\n",
    "\n",
    "            print(u'Now making name tag for: {} {}'.format(finaldf.loc[page*6 + indx].FirstName, finaldf.loc[page*6 + indx].LastName))\n",
    "            \n",
    "            #add name text:\n",
    "            name = finaldf.loc[page*6 + indx].FirstName + ' ' + finaldf.loc[page*6 + indx].LastName \n",
    "            this_name_dict = change_name_size(name, name_dict)\n",
    "            ax.text(600, 500, name, fontdict=this_name_dict, horizontalalignment='center')\n",
    "\n",
    "            #add company text:\n",
    "            company = finaldf.loc[page*6 + indx].Company\n",
    "            this_co_dict = change_company_size(company, company_dict)\n",
    "            ax.text(600, 625, company, fontdict=this_co_dict, horizontalalignment='center')\n",
    "\n",
    "            #add circles for sessions:\n",
    "            circ1 = plt.Circle((750, circ_ypos), 70, color=colors[int(finaldf.loc[page*6 + indx].PrimerID)])\n",
    "            fig.gca().add_artist(circ1)\n",
    "            ax.text(750, circ_ypos + 27.5, sun_ses[int(finaldf.loc[page*6 + indx].PrimerID)], fontdict=circle_dict, horizontalalignment='center')\n",
    "\n",
    "            circ2 = plt.Circle((925, circ_ypos), 70, color=colors2[int(finaldf.loc[page*6 + indx].MonID)])\n",
    "            fig.gca().add_artist(circ2)\n",
    "            ax.text(925, circ_ypos + 27.5, mon_ses[int(finaldf.loc[page*6 + indx].MonID)], fontdict=circle_dict, horizontalalignment='center')\n",
    "\n",
    "            circ3 = plt.Circle((1100, circ_ypos), 70, color=colors3[int(finaldf.loc[page*6 + indx].TueID)])\n",
    "            fig.gca().add_artist(circ3)\n",
    "            ax.text(1100, circ_ypos + 27.5, tue_ses[int(finaldf.loc[page*6 + indx].TueID)], fontdict=circle_dict, horizontalalignment='center')\n",
    "\n",
    "    plt.savefig('../nametags/nameTags_bold_p'+str(page)+'.png', dpi=300)\n"
   ]
  },
  {
   "cell_type": "code",
   "execution_count": 52,
   "metadata": {
    "collapsed": false
   },
   "outputs": [
    {
     "data": {
      "text/plain": [
       "Index([u'index', u'FirstName', u'LastName', u'Company', u'Primer', u'PrimerID', u'Monday', u'MonID', u'Tuesday', u'TueID'], dtype='object')"
      ]
     },
     "execution_count": 52,
     "metadata": {},
     "output_type": "execute_result"
    }
   ],
   "source": [
    "finaldf.columns"
   ]
  },
  {
   "cell_type": "code",
   "execution_count": 54,
   "metadata": {
    "collapsed": false
   },
   "outputs": [
    {
     "data": {
      "text/plain": [
       "array([u'Arthur', u'Rachel', u'Guillem', u'Ruth', u'Pamela', u'Mariona',\n",
       "       u'Roman', u'Fabienne', u'Ozgur', u'Sarbani', u'Florian', u'Jacob',\n",
       "       u'Thomas', u'Eric', u'Megan', u'Sagi', u'Cullen', u'Andreas',\n",
       "       u'Adam', u'Francesco', u'Francois', u'Brendan', u'Tabetha', u'John',\n",
       "       u'Lars A.', u'Jennifer', u'Richard', u'Maria Federica', u'Abhijit',\n",
       "       u'Jessi', u'William', u'Uriel', u'Matthew', u'Justin', u'Mario',\n",
       "       u'Allen', u'Rebekah', u'Fabio', u'Rodrigo', u'Scott', u'Courtney',\n",
       "       u'Xavier', u'Jason', u'Michael', u'Jo\\xe3o', u'Tobias', u'Pedro',\n",
       "       u'Debra', u'Eric', u'Daniel', u'BJ', u'Gabor', u'Peter', u'Bernard',\n",
       "       u'Matteo', u'Paolo', u'Matt', u'Steve', u'Steve', u'Erica',\n",
       "       u'Frank', u'Guillaume', u'Sam', u'Artie', u'Raphaelle',\n",
       "       u'Guillaume', u'Enrique', u'David', u'Joshua', u'Andrew', u'John',\n",
       "       u'Paul', u'Colby', u'Marco', u'Antonino Francesco', u'David',\n",
       "       u'Gregory', u'Christophe', u'Zaira', u'Bo', u'Gregory', u'Suvrath',\n",
       "       u'Luca', u'Rosemary', u'Tyler', u'Nate', u'Michael', u'Ati',\n",
       "       u'Claire', u'Benjamin', u'Grzegorz', u'Nikhil', u'Hannu',\n",
       "       u'Francesco', u'Mario', u'David', u'Peter', u'Lisa', u'Sam',\n",
       "       u'Andreas', u'Jayadev', u'Vinesh', u'Gert', u'Ansgar', u'Paul',\n",
       "       u'Albert', u'Arpita', u'Nuno', u'Luis Fernando', u\"Bun'ei\",\n",
       "       u'David', u'Joseph', u'Christian', u'Andreas', u'Evan', u'David',\n",
       "       u'Scott', u'Alessandro', u'Gudmundur', u'Klaus', u'Julian',\n",
       "       u'Andrew', u'Damien', u'Angelle', u'Ryan', u'Ren\\xe9', u'Stephane',\n",
       "       u'Jeffrey', u'Sharon Xuesong', u'Ji', u'Michael', u'Lauren',\n",
       "       u'Robert', u'Jason', u'Mesut', u'Xu', u'Mesut', u'Mathias'], dtype=object)"
      ]
     },
     "execution_count": 54,
     "metadata": {},
     "output_type": "execute_result"
    }
   ],
   "source": [
    "finaldf.FirstName.values"
   ]
  },
  {
   "cell_type": "code",
   "execution_count": 62,
   "metadata": {
    "collapsed": false
   },
   "outputs": [
    {
     "data": {
      "text/plain": [
       "array([u'Adams', u'Akeson', u'Anglada-Escude', u'Angus', u'Arriagada',\n",
       "       u'Badenas', u'Baluev', u'Bastien', u'Basturk', u'Basu', u'Bauer',\n",
       "       u'Bean', u'Beatty', u'Bechter', u'Bedell', u'Ben-Ami', u'Blake',\n",
       "       u'Boesch', u'Bolton', u'Borsa', u'Bouchy', u'Bowler', u'Boyajian',\n",
       "       u'Brewer', u'Buchhave', u'Burt', u'Capps', u'Cersullo',\n",
       "       u'Chakraborty', u'Cisewski', u'Cochran', u'Conod', u'Cornachione',\n",
       "       u'Crepp', u'Damasso', u'Davis', u'Dawson', u'Del Sordo', u'Diaz',\n",
       "       u'Diddams', u'Dressing', u'Dumusque', u'Eastman', u'Endl', u'Faria',\n",
       "       u'Feger', u'Figueira', u'Fischer', u'Ford', u'Foreman-Mackey',\n",
       "       u'Fulton', u'Furesz', u'Gao', u'Gaudi', u'Genoni', u'Giacobbe',\n",
       "       u'Giguere', u'Girvin', u'Girvin', u'Gonzales', u'Grundahl',\n",
       "       u'HEBRARD', u'Halverson', u'Hatzes', u'Haywood', u'Hebrard',\n",
       "       u'Herrero', u'Hogg', u'Hopgood', u'Howard', u'Johnson', u'Jorden',\n",
       "       u'Jurgenson', u'Landoni', u'Lanza', u'Latham', u'Laughlin',\n",
       "       u'Lovis', u'M. Berdi\\xf1as', u'Ma', u'Mace', u'Mahadevan',\n",
       "       u'Malavolta', u'Mardling', u'McCracken', u'McCrady', u'Mossman',\n",
       "       u'Motalebi', u'Moutou', u'Nelson', u'Nowak', u'Padmanabhan',\n",
       "       u'Parviainen', u'Pepe', u'Perez', u'Phillips', u'Plavchan',\n",
       "       u'Prato', u'Quinn', u'Quirrenbach', u'Rajagopal', u'Rajpaul',\n",
       "       u'Raskin', u'Reiners', u'Robertson', u'Rosich', u'Roy', u'Santos',\n",
       "       u'Sarmiento', u'Sato', u'Sawyer', u'Schmitt', u'Schwab',\n",
       "       u'Seifahrt', u'Sinukoff', u'Sliski', u'Smith', u'Sozzetti',\n",
       "       u'Stefansson', u'Strassmeier', u'Stuermer', u'Szentgyorgyi',\n",
       "       u'S\\xe9gransan', u'Tanner', u'Terrien', u'Tronsgaard Rasmussen',\n",
       "       u'Udry', u'Valenti', u'Wang', u'Wang', u'Weber', u'Weiss',\n",
       "       u'Wittenmyer', u'Wright', u'YILMAZ', u'Yi', u'Yilmaz',\n",
       "       u'Zechmeister'], dtype=object)"
      ]
     },
     "execution_count": 62,
     "metadata": {},
     "output_type": "execute_result"
    }
   ],
   "source": [
    "finaldf.LastName.values"
   ]
  },
  {
   "cell_type": "code",
   "execution_count": 59,
   "metadata": {
    "collapsed": false
   },
   "outputs": [],
   "source": [
    "hrz_fdg = 1. / 16./ 8.5\n",
    "leftarr = np.array([0.0294, 0.5, 0.0294, 0.5, 0.0294, 0.5])\n"
   ]
  },
  {
   "cell_type": "code",
   "execution_count": 60,
   "metadata": {
    "collapsed": false
   },
   "outputs": [
    {
     "data": {
      "text/plain": [
       "array([ 0.03675294,  0.50735294,  0.03675294,  0.50735294,  0.03675294,\n",
       "        0.50735294])"
      ]
     },
     "execution_count": 60,
     "metadata": {},
     "output_type": "execute_result"
    }
   ],
   "source": [
    "leftarr + hrz_fdg"
   ]
  },
  {
   "cell_type": "code",
   "execution_count": null,
   "metadata": {
    "collapsed": true
   },
   "outputs": [],
   "source": []
  }
 ],
 "metadata": {
  "kernelspec": {
   "display_name": "Python 2",
   "language": "python",
   "name": "python2"
  },
  "language_info": {
   "codemirror_mode": {
    "name": "ipython",
    "version": 2
   },
   "file_extension": ".py",
   "mimetype": "text/x-python",
   "name": "python",
   "nbconvert_exporter": "python",
   "pygments_lexer": "ipython2",
   "version": "2.7.9"
  }
 },
 "nbformat": 4,
 "nbformat_minor": 0
}
