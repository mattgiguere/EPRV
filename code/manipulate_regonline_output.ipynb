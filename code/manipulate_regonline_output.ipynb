{
 "cells": [
  {
   "cell_type": "markdown",
   "metadata": {},
   "source": [
    "#manipulate_regonline_output\n",
    "\n",
    "This notebook reads the RegOnline output into a pandas DataFrame and reworks it to have each row contain the attendee, the Doppler Primer Session, the Monday Breakout session, and the Tuesday breakout session in each row."
   ]
  },
  {
   "cell_type": "code",
   "execution_count": 73,
   "metadata": {
    "collapsed": true
   },
   "outputs": [],
   "source": [
    "import pandas as pd\n",
    "import re"
   ]
  },
  {
   "cell_type": "markdown",
   "metadata": {},
   "source": [
    "#### Read the RegOnline output into a pandas DataFrame"
   ]
  },
  {
   "cell_type": "code",
   "execution_count": 277,
   "metadata": {
    "collapsed": true
   },
   "outputs": [],
   "source": [
    "df = pd.read_excel('/Users/matt/projects/EPRV/data/AttendeeReportCrop.xls', encoding='utf-8')"
   ]
  },
  {
   "cell_type": "code",
   "execution_count": 278,
   "metadata": {
    "collapsed": false
   },
   "outputs": [
    {
     "data": {
      "text/plain": [
       "Index([u'AgendaItem', u'RegId', u'GroupId', u'FirstName', u'LastName', u'Company'], dtype='object')"
      ]
     },
     "execution_count": 278,
     "metadata": {},
     "output_type": "execute_result"
    }
   ],
   "source": [
    "df.columns"
   ]
  },
  {
   "cell_type": "code",
   "execution_count": 279,
   "metadata": {
    "collapsed": true
   },
   "outputs": [],
   "source": [
    "#use this if you want to encode the unicode values to ascii.\n",
    "#this is helpful for displaying non-roman characters within\n",
    "#the IPython notebook:\n",
    "df['FirstName'] = [el.encode('ascii', 'ignore') for el in df['FirstName'].values]"
   ]
  },
  {
   "cell_type": "code",
   "execution_count": 280,
   "metadata": {
    "collapsed": false
   },
   "outputs": [
    {
     "name": "stdout",
     "output_type": "stream",
     "text": [
      "Joo\n",
      "Joo\n",
      "Joo\n",
      "Joo\n",
      "Joo\n"
     ]
    }
   ],
   "source": [
    "joao = df.loc[38, 'FirstName']\n",
    "print(joao)\n",
    "print(joao.encode('ascii', 'replace'))\n",
    "print(joao.encode('ascii', 'ignore'))\n",
    "print(joao.encode('ascii', 'xmlcharrefreplace'))\n",
    "print(joao.encode('ascii', 'backslashreplace'))"
   ]
  },
  {
   "cell_type": "code",
   "execution_count": 281,
   "metadata": {
    "collapsed": false
   },
   "outputs": [
    {
     "data": {
      "text/html": [
       "<div style=\"max-height:1000px;max-width:1500px;overflow:auto;\">\n",
       "<table border=\"1\" class=\"dataframe\">\n",
       "  <thead>\n",
       "    <tr style=\"text-align: right;\">\n",
       "      <th></th>\n",
       "      <th>AgendaItem</th>\n",
       "      <th>RegId</th>\n",
       "      <th>GroupId</th>\n",
       "      <th>FirstName</th>\n",
       "      <th>LastName</th>\n",
       "      <th>Company</th>\n",
       "    </tr>\n",
       "  </thead>\n",
       "  <tbody>\n",
       "    <tr>\n",
       "      <th>36</th>\n",
       "      <td>Doppler Primer: Instrumentation Challenges</td>\n",
       "      <td>79809251</td>\n",
       "      <td>79809251</td>\n",
       "      <td>Jason</td>\n",
       "      <td>Eastman</td>\n",
       "      <td>CfA</td>\n",
       "    </tr>\n",
       "    <tr>\n",
       "      <th>37</th>\n",
       "      <td>Doppler Primer: Not Attending</td>\n",
       "      <td>79200819</td>\n",
       "      <td>79200819</td>\n",
       "      <td>Michael</td>\n",
       "      <td>Endl</td>\n",
       "      <td>McDonald Observatory / University of Texas</td>\n",
       "    </tr>\n",
       "  </tbody>\n",
       "</table>\n",
       "</div>"
      ],
      "text/plain": [
       "                                    AgendaItem     RegId   GroupId FirstName  \\\n",
       "36  Doppler Primer: Instrumentation Challenges  79809251  79809251     Jason   \n",
       "37               Doppler Primer: Not Attending  79200819  79200819   Michael   \n",
       "\n",
       "   LastName                                     Company  \n",
       "36  Eastman                                         CfA  \n",
       "37     Endl  McDonald Observatory / University of Texas  "
      ]
     },
     "execution_count": 281,
     "metadata": {},
     "output_type": "execute_result"
    }
   ],
   "source": [
    "df.loc[36:37]"
   ]
  },
  {
   "cell_type": "markdown",
   "metadata": {},
   "source": [
    "#### Extract the Sunday Sessions\n",
    "\n",
    "RegOnline outputs multiple entries for each person, and each entry differs by the `AgendaItem`. `AgendaItem`s exist for all sessions happening on all days. In this section, we extract the sessions happening on Sunday, which are all prefixed by \"Doppler Primer: \"."
   ]
  },
  {
   "cell_type": "code",
   "execution_count": 282,
   "metadata": {
    "collapsed": false
   },
   "outputs": [
    {
     "data": {
      "text/plain": [
       "110"
      ]
     },
     "execution_count": 282,
     "metadata": {},
     "output_type": "execute_result"
    }
   ],
   "source": [
    "sundf = df[df['AgendaItem'].str.contains('Doppler Primer:')].copy()\n",
    "len(sundf)"
   ]
  },
  {
   "cell_type": "markdown",
   "metadata": {},
   "source": [
    "Let's create two new columns in our DataFrame: the `Primer`, and the `PrimerID`. The `Primer` column will contain the name of the Doppler Primer session (minus the `Doppler Primer: ` prefix), and the `PrimerID` will be a session identifier that will later be used in plotting."
   ]
  },
  {
   "cell_type": "code",
   "execution_count": 283,
   "metadata": {
    "collapsed": false
   },
   "outputs": [],
   "source": [
    "sundf['PrimerID'] = 0"
   ]
  },
  {
   "cell_type": "code",
   "execution_count": 284,
   "metadata": {
    "collapsed": false
   },
   "outputs": [],
   "source": [
    "sundf['Primer'] = [re.search(r'(.*):\\s(.*)$', item).group(2) for item in sundf['AgendaItem']]"
   ]
  },
  {
   "cell_type": "code",
   "execution_count": 285,
   "metadata": {
    "collapsed": false
   },
   "outputs": [
    {
     "data": {
      "text/html": [
       "<div style=\"max-height:1000px;max-width:1500px;overflow:auto;\">\n",
       "<table border=\"1\" class=\"dataframe\">\n",
       "  <thead>\n",
       "    <tr style=\"text-align: right;\">\n",
       "      <th></th>\n",
       "      <th>AgendaItem</th>\n",
       "      <th>Primer</th>\n",
       "    </tr>\n",
       "  </thead>\n",
       "  <tbody>\n",
       "    <tr>\n",
       "      <th>0</th>\n",
       "      <td>Doppler Primer: Instrumentation Challenges</td>\n",
       "      <td>Instrumentation Challenges</td>\n",
       "    </tr>\n",
       "    <tr>\n",
       "      <th>1</th>\n",
       "      <td>Doppler Primer: Doppler code</td>\n",
       "      <td>Doppler code</td>\n",
       "    </tr>\n",
       "    <tr>\n",
       "      <th>2</th>\n",
       "      <td>Doppler Primer: Spot Modeling</td>\n",
       "      <td>Spot Modeling</td>\n",
       "    </tr>\n",
       "  </tbody>\n",
       "</table>\n",
       "</div>"
      ],
      "text/plain": [
       "                                   AgendaItem                      Primer\n",
       "0  Doppler Primer: Instrumentation Challenges  Instrumentation Challenges\n",
       "1                Doppler Primer: Doppler code                Doppler code\n",
       "2               Doppler Primer: Spot Modeling               Spot Modeling"
      ]
     },
     "execution_count": 285,
     "metadata": {},
     "output_type": "execute_result"
    }
   ],
   "source": [
    "sundf[['AgendaItem', 'Primer']].head(3)"
   ]
  },
  {
   "cell_type": "code",
   "execution_count": 286,
   "metadata": {
    "collapsed": false
   },
   "outputs": [
    {
     "data": {
      "text/plain": [
       "u'Instrumentation Challenges'"
      ]
     },
     "execution_count": 286,
     "metadata": {},
     "output_type": "execute_result"
    }
   ],
   "source": [
    "sundf['Primer'].unique()[0]"
   ]
  },
  {
   "cell_type": "code",
   "execution_count": 287,
   "metadata": {
    "collapsed": false
   },
   "outputs": [],
   "source": [
    "dopID = 0\n",
    "for agItem in sundf['Primer'].unique():\n",
    "    sundf.loc[sundf['Primer'] == agItem, 'PrimerID'] = dopID\n",
    "    dopID += 1"
   ]
  },
  {
   "cell_type": "code",
   "execution_count": 288,
   "metadata": {
    "collapsed": false
   },
   "outputs": [
    {
     "data": {
      "text/html": [
       "<div style=\"max-height:1000px;max-width:1500px;overflow:auto;\">\n",
       "<table border=\"1\" class=\"dataframe\">\n",
       "  <thead>\n",
       "    <tr style=\"text-align: right;\">\n",
       "      <th></th>\n",
       "      <th>AgendaItem</th>\n",
       "      <th>Primer</th>\n",
       "      <th>PrimerID</th>\n",
       "    </tr>\n",
       "  </thead>\n",
       "  <tbody>\n",
       "    <tr>\n",
       "      <th>0</th>\n",
       "      <td>Doppler Primer: Instrumentation Challenges</td>\n",
       "      <td>Instrumentation Challenges</td>\n",
       "      <td>0</td>\n",
       "    </tr>\n",
       "    <tr>\n",
       "      <th>1</th>\n",
       "      <td>Doppler Primer: Doppler code</td>\n",
       "      <td>Doppler code</td>\n",
       "      <td>1</td>\n",
       "    </tr>\n",
       "    <tr>\n",
       "      <th>2</th>\n",
       "      <td>Doppler Primer: Spot Modeling</td>\n",
       "      <td>Spot Modeling</td>\n",
       "      <td>2</td>\n",
       "    </tr>\n",
       "    <tr>\n",
       "      <th>3</th>\n",
       "      <td>Doppler Primer: Spot Modeling</td>\n",
       "      <td>Spot Modeling</td>\n",
       "      <td>2</td>\n",
       "    </tr>\n",
       "  </tbody>\n",
       "</table>\n",
       "</div>"
      ],
      "text/plain": [
       "                                   AgendaItem                      Primer  \\\n",
       "0  Doppler Primer: Instrumentation Challenges  Instrumentation Challenges   \n",
       "1                Doppler Primer: Doppler code                Doppler code   \n",
       "2               Doppler Primer: Spot Modeling               Spot Modeling   \n",
       "3               Doppler Primer: Spot Modeling               Spot Modeling   \n",
       "\n",
       "   PrimerID  \n",
       "0         0  \n",
       "1         1  \n",
       "2         2  \n",
       "3         2  "
      ]
     },
     "execution_count": 288,
     "metadata": {},
     "output_type": "execute_result"
    }
   ],
   "source": [
    "sundf[['AgendaItem', 'Primer', 'PrimerID']].head(4)"
   ]
  },
  {
   "cell_type": "markdown",
   "metadata": {},
   "source": [
    "#### Extract the Monday Sessions\n",
    "\n",
    "Now to do the same for the Monday sessions."
   ]
  },
  {
   "cell_type": "code",
   "execution_count": 289,
   "metadata": {
    "collapsed": false
   },
   "outputs": [
    {
     "data": {
      "text/plain": [
       "120"
      ]
     },
     "execution_count": 289,
     "metadata": {},
     "output_type": "execute_result"
    }
   ],
   "source": [
    "mondf = df[df['AgendaItem'].str.contains('Monday Break-out:')].copy()\n",
    "len(mondf)"
   ]
  },
  {
   "cell_type": "code",
   "execution_count": 290,
   "metadata": {
    "collapsed": false
   },
   "outputs": [],
   "source": [
    "mondf['MonID'] = 0\n",
    "\n",
    "mondf['Monday'] = [re.search(r'(.*):\\s(.*)$', item).group(2) for item in mondf['AgendaItem']]\n",
    "\n",
    "mondf['Monday'].unique()\n",
    "\n",
    "monID = 0\n",
    "for agItem in mondf['Monday'].unique():\n",
    "    mondf.loc[mondf['Monday'] == agItem, 'MonID'] = monID\n",
    "    monID += 1"
   ]
  },
  {
   "cell_type": "code",
   "execution_count": 291,
   "metadata": {
    "collapsed": false
   },
   "outputs": [
    {
     "data": {
      "text/html": [
       "<div style=\"max-height:1000px;max-width:1500px;overflow:auto;\">\n",
       "<table border=\"1\" class=\"dataframe\">\n",
       "  <thead>\n",
       "    <tr style=\"text-align: right;\">\n",
       "      <th></th>\n",
       "      <th>AgendaItem</th>\n",
       "      <th>Monday</th>\n",
       "      <th>MonID</th>\n",
       "    </tr>\n",
       "  </thead>\n",
       "  <tbody>\n",
       "    <tr>\n",
       "      <th>110</th>\n",
       "      <td>Monday Break-out: Fiber Optic Scrambling</td>\n",
       "      <td>Fiber Optic Scrambling</td>\n",
       "      <td>0</td>\n",
       "    </tr>\n",
       "    <tr>\n",
       "      <th>111</th>\n",
       "      <td>Monday Break-out: Not attending</td>\n",
       "      <td>Not attending</td>\n",
       "      <td>1</td>\n",
       "    </tr>\n",
       "    <tr>\n",
       "      <th>112</th>\n",
       "      <td>Monday Break-out: Fiber Optic Scrambling</td>\n",
       "      <td>Fiber Optic Scrambling</td>\n",
       "      <td>0</td>\n",
       "    </tr>\n",
       "    <tr>\n",
       "      <th>113</th>\n",
       "      <td>Monday Break-out: Telluric Contamination</td>\n",
       "      <td>Telluric Contamination</td>\n",
       "      <td>2</td>\n",
       "    </tr>\n",
       "  </tbody>\n",
       "</table>\n",
       "</div>"
      ],
      "text/plain": [
       "                                   AgendaItem                  Monday  MonID\n",
       "110  Monday Break-out: Fiber Optic Scrambling  Fiber Optic Scrambling      0\n",
       "111           Monday Break-out: Not attending           Not attending      1\n",
       "112  Monday Break-out: Fiber Optic Scrambling  Fiber Optic Scrambling      0\n",
       "113  Monday Break-out: Telluric Contamination  Telluric Contamination      2"
      ]
     },
     "execution_count": 291,
     "metadata": {},
     "output_type": "execute_result"
    }
   ],
   "source": [
    "mondf[['AgendaItem', 'Monday', 'MonID']].head(4)"
   ]
  },
  {
   "cell_type": "markdown",
   "metadata": {},
   "source": [
    "#### Extract Tuesday Sessions"
   ]
  },
  {
   "cell_type": "code",
   "execution_count": 292,
   "metadata": {
    "collapsed": false
   },
   "outputs": [
    {
     "data": {
      "text/plain": [
       "120"
      ]
     },
     "execution_count": 292,
     "metadata": {},
     "output_type": "execute_result"
    }
   ],
   "source": [
    "tuedf = df[df['AgendaItem'].str.contains('Tuesday Break-out:')].copy()\n",
    "len(tuedf)"
   ]
  },
  {
   "cell_type": "code",
   "execution_count": 293,
   "metadata": {
    "collapsed": true
   },
   "outputs": [],
   "source": [
    "tuedf['TueID'] = 0\n",
    "\n",
    "tuedf['Tuesday'] = [re.search(r'(.*):\\s(.*)$', item).group(2) for item in tuedf['AgendaItem']]\n",
    "\n",
    "tuedf['Tuesday'].unique()\n",
    "\n",
    "tuesID = 0\n",
    "for agItem in tuedf['Tuesday'].unique():\n",
    "    tuedf.loc[tuedf['Tuesday'] == agItem, 'TueID'] = tuesID\n",
    "    tuesID += 1"
   ]
  },
  {
   "cell_type": "code",
   "execution_count": 294,
   "metadata": {
    "collapsed": false
   },
   "outputs": [
    {
     "data": {
      "text/html": [
       "<div style=\"max-height:1000px;max-width:1500px;overflow:auto;\">\n",
       "<table border=\"1\" class=\"dataframe\">\n",
       "  <thead>\n",
       "    <tr style=\"text-align: right;\">\n",
       "      <th></th>\n",
       "      <th>AgendaItem</th>\n",
       "      <th>Tuesday</th>\n",
       "      <th>TueID</th>\n",
       "    </tr>\n",
       "  </thead>\n",
       "  <tbody>\n",
       "    <tr>\n",
       "      <th>230</th>\n",
       "      <td>Tuesday Break-out: Statistical techniques</td>\n",
       "      <td>Statistical techniques</td>\n",
       "      <td>0</td>\n",
       "    </tr>\n",
       "    <tr>\n",
       "      <th>231</th>\n",
       "      <td>Tuesday Break-out: Statistical techniques</td>\n",
       "      <td>Statistical techniques</td>\n",
       "      <td>0</td>\n",
       "    </tr>\n",
       "    <tr>\n",
       "      <th>232</th>\n",
       "      <td>Tuesday Break-out: Detection Threshold Criteria</td>\n",
       "      <td>Detection Threshold Criteria</td>\n",
       "      <td>1</td>\n",
       "    </tr>\n",
       "    <tr>\n",
       "      <th>233</th>\n",
       "      <td>Tuesday Break-out: Detection Threshold Criteria</td>\n",
       "      <td>Detection Threshold Criteria</td>\n",
       "      <td>1</td>\n",
       "    </tr>\n",
       "  </tbody>\n",
       "</table>\n",
       "</div>"
      ],
      "text/plain": [
       "                                          AgendaItem  \\\n",
       "230        Tuesday Break-out: Statistical techniques   \n",
       "231        Tuesday Break-out: Statistical techniques   \n",
       "232  Tuesday Break-out: Detection Threshold Criteria   \n",
       "233  Tuesday Break-out: Detection Threshold Criteria   \n",
       "\n",
       "                          Tuesday  TueID  \n",
       "230        Statistical techniques      0  \n",
       "231        Statistical techniques      0  \n",
       "232  Detection Threshold Criteria      1  \n",
       "233  Detection Threshold Criteria      1  "
      ]
     },
     "execution_count": 294,
     "metadata": {},
     "output_type": "execute_result"
    }
   ],
   "source": [
    "tuedf[['AgendaItem', 'Tuesday', 'TueID']].head(4)"
   ]
  },
  {
   "cell_type": "markdown",
   "metadata": {},
   "source": [
    "#### Combine the DataFrames"
   ]
  },
  {
   "cell_type": "code",
   "execution_count": 295,
   "metadata": {
    "collapsed": true
   },
   "outputs": [],
   "source": [
    "fulldf = df[['RegId', 'GroupId', 'FirstName', 'LastName', 'Company']]"
   ]
  },
  {
   "cell_type": "code",
   "execution_count": 296,
   "metadata": {
    "collapsed": false
   },
   "outputs": [
    {
     "name": "stdout",
     "output_type": "stream",
     "text": [
      "350\n",
      "120\n"
     ]
    }
   ],
   "source": [
    "print(len(fulldf))\n",
    "fulldf = fulldf.drop_duplicates()\n",
    "print(len(fulldf))"
   ]
  },
  {
   "cell_type": "code",
   "execution_count": 297,
   "metadata": {
    "collapsed": false
   },
   "outputs": [
    {
     "name": "stdout",
     "output_type": "stream",
     "text": [
      "110\n",
      "120\n",
      "120\n"
     ]
    }
   ],
   "source": [
    "print(len(sundf))\n",
    "print(len(mondf))\n",
    "print(len(tuedf))"
   ]
  },
  {
   "cell_type": "code",
   "execution_count": 298,
   "metadata": {
    "collapsed": false
   },
   "outputs": [
    {
     "data": {
      "text/plain": [
       "Index([u'RegId', u'GroupId', u'FirstName', u'LastName', u'Company'], dtype='object')"
      ]
     },
     "execution_count": 298,
     "metadata": {},
     "output_type": "execute_result"
    }
   ],
   "source": [
    "fulldf.columns"
   ]
  },
  {
   "cell_type": "code",
   "execution_count": 299,
   "metadata": {
    "collapsed": false
   },
   "outputs": [
    {
     "name": "stdout",
     "output_type": "stream",
     "text": [
      "120\n",
      "120\n",
      "120\n"
     ]
    }
   ],
   "source": [
    "newdf = pd.merge(fulldf, sundf, on='RegId', how='left')\n",
    "print(len(newdf))\n",
    "\n",
    "newdf = pd.merge(newdf, mondf, on='RegId', how='left')\n",
    "print(len(newdf))\n",
    "\n",
    "newdf = pd.merge(newdf, tuedf, on='RegId', how='left')\n",
    "print(len(newdf))"
   ]
  },
  {
   "cell_type": "code",
   "execution_count": 301,
   "metadata": {
    "collapsed": false
   },
   "outputs": [
    {
     "data": {
      "text/html": [
       "<div style=\"max-height:1000px;max-width:1500px;overflow:auto;\">\n",
       "<table border=\"1\" class=\"dataframe\">\n",
       "  <thead>\n",
       "    <tr style=\"text-align: right;\">\n",
       "      <th></th>\n",
       "      <th>RegId</th>\n",
       "      <th>GroupId_x</th>\n",
       "      <th>FirstName_x</th>\n",
       "      <th>LastName_x</th>\n",
       "      <th>Company_x</th>\n",
       "      <th>AgendaItem_x</th>\n",
       "      <th>GroupId_y</th>\n",
       "      <th>FirstName_y</th>\n",
       "      <th>LastName_y</th>\n",
       "      <th>Company_y</th>\n",
       "      <th>...</th>\n",
       "      <th>Company_x</th>\n",
       "      <th>MonID</th>\n",
       "      <th>Monday</th>\n",
       "      <th>AgendaItem</th>\n",
       "      <th>GroupId_y</th>\n",
       "      <th>FirstName_y</th>\n",
       "      <th>LastName_y</th>\n",
       "      <th>Company_y</th>\n",
       "      <th>TueID</th>\n",
       "      <th>Tuesday</th>\n",
       "    </tr>\n",
       "  </thead>\n",
       "  <tbody>\n",
       "    <tr>\n",
       "      <th>0</th>\n",
       "      <td>79762584</td>\n",
       "      <td>79762584</td>\n",
       "      <td>Arthur</td>\n",
       "      <td>Adams</td>\n",
       "      <td>Yale University</td>\n",
       "      <td>Doppler Primer: Instrumentation Challenges</td>\n",
       "      <td>79762584</td>\n",
       "      <td>Arthur</td>\n",
       "      <td>Adams</td>\n",
       "      <td>Yale University</td>\n",
       "      <td>...</td>\n",
       "      <td>Yale University</td>\n",
       "      <td>0</td>\n",
       "      <td>Fiber Optic Scrambling</td>\n",
       "      <td>Tuesday Break-out: Statistical techniques</td>\n",
       "      <td>79762584</td>\n",
       "      <td>Arthur</td>\n",
       "      <td>Adams</td>\n",
       "      <td>Yale University</td>\n",
       "      <td>0</td>\n",
       "      <td>Statistical techniques</td>\n",
       "    </tr>\n",
       "    <tr>\n",
       "      <th>1</th>\n",
       "      <td>79809320</td>\n",
       "      <td>79809320</td>\n",
       "      <td>Guillem</td>\n",
       "      <td>Anglada-Escude</td>\n",
       "      <td>Queen Mary University of London/University of ...</td>\n",
       "      <td>Doppler Primer: Doppler code</td>\n",
       "      <td>79809320</td>\n",
       "      <td>Guillem</td>\n",
       "      <td>Anglada-Escude</td>\n",
       "      <td>Queen Mary University of London/University of ...</td>\n",
       "      <td>...</td>\n",
       "      <td>Queen Mary University of London/University of ...</td>\n",
       "      <td>0</td>\n",
       "      <td>Fiber Optic Scrambling</td>\n",
       "      <td>Tuesday Break-out: Detection Threshold Criteria</td>\n",
       "      <td>79809320</td>\n",
       "      <td>Guillem</td>\n",
       "      <td>Anglada-Escude</td>\n",
       "      <td>Queen Mary University of London/University of ...</td>\n",
       "      <td>1</td>\n",
       "      <td>Detection Threshold Criteria</td>\n",
       "    </tr>\n",
       "    <tr>\n",
       "      <th>2</th>\n",
       "      <td>80253872</td>\n",
       "      <td>80253872</td>\n",
       "      <td>Ruth</td>\n",
       "      <td>Angus</td>\n",
       "      <td>University of Oxford/Harvard-Smithsonian Cente...</td>\n",
       "      <td>Doppler Primer: Spot Modeling</td>\n",
       "      <td>80253872</td>\n",
       "      <td>Ruth</td>\n",
       "      <td>Angus</td>\n",
       "      <td>University of Oxford/Harvard-Smithsonian Cente...</td>\n",
       "      <td>...</td>\n",
       "      <td>University of Oxford/Harvard-Smithsonian Cente...</td>\n",
       "      <td>2</td>\n",
       "      <td>Telluric Contamination</td>\n",
       "      <td>Tuesday Break-out: Detection Threshold Criteria</td>\n",
       "      <td>80253872</td>\n",
       "      <td>Ruth</td>\n",
       "      <td>Angus</td>\n",
       "      <td>University of Oxford/Harvard-Smithsonian Cente...</td>\n",
       "      <td>1</td>\n",
       "      <td>Detection Threshold Criteria</td>\n",
       "    </tr>\n",
       "    <tr>\n",
       "      <th>3</th>\n",
       "      <td>78665380</td>\n",
       "      <td>78665380</td>\n",
       "      <td>Pamela</td>\n",
       "      <td>Arriagada</td>\n",
       "      <td>DTM, CIW</td>\n",
       "      <td>Doppler Primer: Spot Modeling</td>\n",
       "      <td>78665380</td>\n",
       "      <td>Pamela</td>\n",
       "      <td>Arriagada</td>\n",
       "      <td>DTM, CIW</td>\n",
       "      <td>...</td>\n",
       "      <td>DTM, CIW</td>\n",
       "      <td>3</td>\n",
       "      <td>Barycentric Corrections</td>\n",
       "      <td>Tuesday Break-out: Line Bisectors and decorrel...</td>\n",
       "      <td>78665380</td>\n",
       "      <td>Pamela</td>\n",
       "      <td>Arriagada</td>\n",
       "      <td>DTM, CIW</td>\n",
       "      <td>2</td>\n",
       "      <td>Line Bisectors and decorrelatio</td>\n",
       "    </tr>\n",
       "    <tr>\n",
       "      <th>4</th>\n",
       "      <td>78757182</td>\n",
       "      <td>78757182</td>\n",
       "      <td>Roman</td>\n",
       "      <td>Baluev</td>\n",
       "      <td>Central Astronomical Observatory at Pulkovo of...</td>\n",
       "      <td>Doppler Primer: Spot Modeling</td>\n",
       "      <td>78757182</td>\n",
       "      <td>Roman</td>\n",
       "      <td>Baluev</td>\n",
       "      <td>Central Astronomical Observatory at Pulkovo of...</td>\n",
       "      <td>...</td>\n",
       "      <td>Central Astronomical Observatory at Pulkovo of...</td>\n",
       "      <td>3</td>\n",
       "      <td>Barycentric Corrections</td>\n",
       "      <td>Tuesday Break-out: Detection Threshold Criteria</td>\n",
       "      <td>78757182</td>\n",
       "      <td>Roman</td>\n",
       "      <td>Baluev</td>\n",
       "      <td>Central Astronomical Observatory at Pulkovo of...</td>\n",
       "      <td>1</td>\n",
       "      <td>Detection Threshold Criteria</td>\n",
       "    </tr>\n",
       "  </tbody>\n",
       "</table>\n",
       "<p>5 rows × 26 columns</p>\n",
       "</div>"
      ],
      "text/plain": [
       "      RegId  GroupId_x FirstName_x      LastName_x  \\\n",
       "0  79762584   79762584      Arthur           Adams   \n",
       "1  79809320   79809320     Guillem  Anglada-Escude   \n",
       "2  80253872   80253872        Ruth           Angus   \n",
       "3  78665380   78665380      Pamela       Arriagada   \n",
       "4  78757182   78757182       Roman          Baluev   \n",
       "\n",
       "                                           Company_x  \\\n",
       "0                                    Yale University   \n",
       "1  Queen Mary University of London/University of ...   \n",
       "2  University of Oxford/Harvard-Smithsonian Cente...   \n",
       "3                                           DTM, CIW   \n",
       "4  Central Astronomical Observatory at Pulkovo of...   \n",
       "\n",
       "                                 AgendaItem_x GroupId_y FirstName_y  \\\n",
       "0  Doppler Primer: Instrumentation Challenges  79762584      Arthur   \n",
       "1                Doppler Primer: Doppler code  79809320     Guillem   \n",
       "2               Doppler Primer: Spot Modeling  80253872        Ruth   \n",
       "3               Doppler Primer: Spot Modeling  78665380      Pamela   \n",
       "4               Doppler Primer: Spot Modeling  78757182       Roman   \n",
       "\n",
       "       LastName_y                                          Company_y  \\\n",
       "0           Adams                                    Yale University   \n",
       "1  Anglada-Escude  Queen Mary University of London/University of ...   \n",
       "2           Angus  University of Oxford/Harvard-Smithsonian Cente...   \n",
       "3       Arriagada                                           DTM, CIW   \n",
       "4          Baluev  Central Astronomical Observatory at Pulkovo of...   \n",
       "\n",
       "                ...                 \\\n",
       "0               ...                  \n",
       "1               ...                  \n",
       "2               ...                  \n",
       "3               ...                  \n",
       "4               ...                  \n",
       "\n",
       "                                           Company_x MonID  \\\n",
       "0                                    Yale University     0   \n",
       "1  Queen Mary University of London/University of ...     0   \n",
       "2  University of Oxford/Harvard-Smithsonian Cente...     2   \n",
       "3                                           DTM, CIW     3   \n",
       "4  Central Astronomical Observatory at Pulkovo of...     3   \n",
       "\n",
       "                    Monday                                         AgendaItem  \\\n",
       "0   Fiber Optic Scrambling          Tuesday Break-out: Statistical techniques   \n",
       "1   Fiber Optic Scrambling    Tuesday Break-out: Detection Threshold Criteria   \n",
       "2   Telluric Contamination    Tuesday Break-out: Detection Threshold Criteria   \n",
       "3  Barycentric Corrections  Tuesday Break-out: Line Bisectors and decorrel...   \n",
       "4  Barycentric Corrections    Tuesday Break-out: Detection Threshold Criteria   \n",
       "\n",
       "  GroupId_y FirstName_y      LastName_y  \\\n",
       "0  79762584      Arthur           Adams   \n",
       "1  79809320     Guillem  Anglada-Escude   \n",
       "2  80253872        Ruth           Angus   \n",
       "3  78665380      Pamela       Arriagada   \n",
       "4  78757182       Roman          Baluev   \n",
       "\n",
       "                                           Company_y TueID  \\\n",
       "0                                    Yale University     0   \n",
       "1  Queen Mary University of London/University of ...     1   \n",
       "2  University of Oxford/Harvard-Smithsonian Cente...     1   \n",
       "3                                           DTM, CIW     2   \n",
       "4  Central Astronomical Observatory at Pulkovo of...     1   \n",
       "\n",
       "                           Tuesday  \n",
       "0           Statistical techniques  \n",
       "1     Detection Threshold Criteria  \n",
       "2     Detection Threshold Criteria  \n",
       "3  Line Bisectors and decorrelatio  \n",
       "4     Detection Threshold Criteria  \n",
       "\n",
       "[5 rows x 26 columns]"
      ]
     },
     "execution_count": 301,
     "metadata": {},
     "output_type": "execute_result"
    }
   ],
   "source": [
    "newdf.head(5)"
   ]
  },
  {
   "cell_type": "code",
   "execution_count": 302,
   "metadata": {
    "collapsed": false
   },
   "outputs": [
    {
     "data": {
      "text/plain": [
       "Index([u'AgendaItem', u'RegId', u'GroupId', u'FirstName', u'LastName', u'Company', u'PrimerID', u'Primer'], dtype='object')"
      ]
     },
     "execution_count": 302,
     "metadata": {},
     "output_type": "execute_result"
    }
   ],
   "source": [
    "sundf.columns"
   ]
  },
  {
   "cell_type": "code",
   "execution_count": 303,
   "metadata": {
    "collapsed": false
   },
   "outputs": [
    {
     "data": {
      "text/plain": [
       "Index([u'RegId', u'GroupId_x', u'FirstName_x', u'LastName_x', u'Company_x', u'AgendaItem_x', u'GroupId_y', u'FirstName_y', u'LastName_y', u'Company_y', u'PrimerID', u'Primer', u'AgendaItem_y', u'GroupId_x', u'FirstName_x', u'LastName_x', u'Company_x', u'MonID', u'Monday', u'AgendaItem', u'GroupId_y', u'FirstName_y', u'LastName_y', u'Company_y', u'TueID', u'Tuesday'], dtype='object')"
      ]
     },
     "execution_count": 303,
     "metadata": {},
     "output_type": "execute_result"
    }
   ],
   "source": [
    "newdf.columns"
   ]
  },
  {
   "cell_type": "code",
   "execution_count": 307,
   "metadata": {
    "collapsed": true
   },
   "outputs": [],
   "source": [
    "finaldf = 0"
   ]
  },
  {
   "cell_type": "code",
   "execution_count": 308,
   "metadata": {
    "collapsed": false
   },
   "outputs": [],
   "source": [
    "finaldf = newdf[['FirstName_x', 'LastName_x', 'Company_x', 'Primer', 'PrimerID', 'Monday', 'MonID', 'Tuesday', 'TueID']]"
   ]
  },
  {
   "cell_type": "code",
   "execution_count": 309,
   "metadata": {
    "collapsed": false
   },
   "outputs": [
    {
     "data": {
      "text/html": [
       "<div style=\"max-height:1000px;max-width:1500px;overflow:auto;\">\n",
       "<table border=\"1\" class=\"dataframe\">\n",
       "  <thead>\n",
       "    <tr style=\"text-align: right;\">\n",
       "      <th></th>\n",
       "      <th>FirstName_x</th>\n",
       "      <th>FirstName_x</th>\n",
       "      <th>LastName_x</th>\n",
       "      <th>LastName_x</th>\n",
       "      <th>Company_x</th>\n",
       "      <th>Company_x</th>\n",
       "      <th>Primer</th>\n",
       "      <th>PrimerID</th>\n",
       "      <th>Monday</th>\n",
       "      <th>MonID</th>\n",
       "      <th>Tuesday</th>\n",
       "      <th>TueID</th>\n",
       "    </tr>\n",
       "  </thead>\n",
       "  <tbody>\n",
       "    <tr>\n",
       "      <th>0</th>\n",
       "      <td>Arthur</td>\n",
       "      <td>Arthur</td>\n",
       "      <td>Adams</td>\n",
       "      <td>Adams</td>\n",
       "      <td>Yale University</td>\n",
       "      <td>Yale University</td>\n",
       "      <td>Instrumentation Challenges</td>\n",
       "      <td>0</td>\n",
       "      <td>Fiber Optic Scrambling</td>\n",
       "      <td>0</td>\n",
       "      <td>Statistical techniques</td>\n",
       "      <td>0</td>\n",
       "    </tr>\n",
       "    <tr>\n",
       "      <th>1</th>\n",
       "      <td>Guillem</td>\n",
       "      <td>Guillem</td>\n",
       "      <td>Anglada-Escude</td>\n",
       "      <td>Anglada-Escude</td>\n",
       "      <td>Queen Mary University of London/University of ...</td>\n",
       "      <td>Queen Mary University of London/University of ...</td>\n",
       "      <td>Doppler code</td>\n",
       "      <td>1</td>\n",
       "      <td>Fiber Optic Scrambling</td>\n",
       "      <td>0</td>\n",
       "      <td>Detection Threshold Criteria</td>\n",
       "      <td>1</td>\n",
       "    </tr>\n",
       "    <tr>\n",
       "      <th>2</th>\n",
       "      <td>Ruth</td>\n",
       "      <td>Ruth</td>\n",
       "      <td>Angus</td>\n",
       "      <td>Angus</td>\n",
       "      <td>University of Oxford/Harvard-Smithsonian Cente...</td>\n",
       "      <td>University of Oxford/Harvard-Smithsonian Cente...</td>\n",
       "      <td>Spot Modeling</td>\n",
       "      <td>2</td>\n",
       "      <td>Telluric Contamination</td>\n",
       "      <td>2</td>\n",
       "      <td>Detection Threshold Criteria</td>\n",
       "      <td>1</td>\n",
       "    </tr>\n",
       "    <tr>\n",
       "      <th>3</th>\n",
       "      <td>Pamela</td>\n",
       "      <td>Pamela</td>\n",
       "      <td>Arriagada</td>\n",
       "      <td>Arriagada</td>\n",
       "      <td>DTM, CIW</td>\n",
       "      <td>DTM, CIW</td>\n",
       "      <td>Spot Modeling</td>\n",
       "      <td>2</td>\n",
       "      <td>Barycentric Corrections</td>\n",
       "      <td>3</td>\n",
       "      <td>Line Bisectors and decorrelatio</td>\n",
       "      <td>2</td>\n",
       "    </tr>\n",
       "    <tr>\n",
       "      <th>4</th>\n",
       "      <td>Roman</td>\n",
       "      <td>Roman</td>\n",
       "      <td>Baluev</td>\n",
       "      <td>Baluev</td>\n",
       "      <td>Central Astronomical Observatory at Pulkovo of...</td>\n",
       "      <td>Central Astronomical Observatory at Pulkovo of...</td>\n",
       "      <td>Spot Modeling</td>\n",
       "      <td>2</td>\n",
       "      <td>Barycentric Corrections</td>\n",
       "      <td>3</td>\n",
       "      <td>Detection Threshold Criteria</td>\n",
       "      <td>1</td>\n",
       "    </tr>\n",
       "  </tbody>\n",
       "</table>\n",
       "</div>"
      ],
      "text/plain": [
       "  FirstName_x FirstName_x      LastName_x      LastName_x  \\\n",
       "0      Arthur      Arthur           Adams           Adams   \n",
       "1     Guillem     Guillem  Anglada-Escude  Anglada-Escude   \n",
       "2        Ruth        Ruth           Angus           Angus   \n",
       "3      Pamela      Pamela       Arriagada       Arriagada   \n",
       "4       Roman       Roman          Baluev          Baluev   \n",
       "\n",
       "                                           Company_x  \\\n",
       "0                                    Yale University   \n",
       "1  Queen Mary University of London/University of ...   \n",
       "2  University of Oxford/Harvard-Smithsonian Cente...   \n",
       "3                                           DTM, CIW   \n",
       "4  Central Astronomical Observatory at Pulkovo of...   \n",
       "\n",
       "                                           Company_x  \\\n",
       "0                                    Yale University   \n",
       "1  Queen Mary University of London/University of ...   \n",
       "2  University of Oxford/Harvard-Smithsonian Cente...   \n",
       "3                                           DTM, CIW   \n",
       "4  Central Astronomical Observatory at Pulkovo of...   \n",
       "\n",
       "                       Primer  PrimerID                   Monday  MonID  \\\n",
       "0  Instrumentation Challenges         0   Fiber Optic Scrambling      0   \n",
       "1                Doppler code         1   Fiber Optic Scrambling      0   \n",
       "2               Spot Modeling         2   Telluric Contamination      2   \n",
       "3               Spot Modeling         2  Barycentric Corrections      3   \n",
       "4               Spot Modeling         2  Barycentric Corrections      3   \n",
       "\n",
       "                           Tuesday  TueID  \n",
       "0           Statistical techniques      0  \n",
       "1     Detection Threshold Criteria      1  \n",
       "2     Detection Threshold Criteria      1  \n",
       "3  Line Bisectors and decorrelatio      2  \n",
       "4     Detection Threshold Criteria      1  "
      ]
     },
     "execution_count": 309,
     "metadata": {},
     "output_type": "execute_result"
    }
   ],
   "source": [
    "finaldf.head(5)"
   ]
  },
  {
   "cell_type": "code",
   "execution_count": 312,
   "metadata": {
    "collapsed": false
   },
   "outputs": [
    {
     "data": {
      "text/plain": [
       "120"
      ]
     },
     "execution_count": 312,
     "metadata": {},
     "output_type": "execute_result"
    }
   ],
   "source": [
    "len(finaldf)"
   ]
  },
  {
   "cell_type": "code",
   "execution_count": 313,
   "metadata": {
    "collapsed": false
   },
   "outputs": [
    {
     "data": {
      "text/plain": [
       "Index([u'FirstName_x', u'FirstName_x', u'LastName_x', u'LastName_x', u'Company_x', u'Company_x', u'Primer', u'PrimerID', u'Monday', u'MonID', u'Tuesday', u'TueID'], dtype='object')"
      ]
     },
     "execution_count": 313,
     "metadata": {},
     "output_type": "execute_result"
    }
   ],
   "source": [
    "finaldf.columns"
   ]
  },
  {
   "cell_type": "code",
   "execution_count": null,
   "metadata": {
    "collapsed": true
   },
   "outputs": [],
   "source": []
  }
 ],
 "metadata": {
  "kernelspec": {
   "display_name": "Python 2",
   "language": "python",
   "name": "python2"
  },
  "language_info": {
   "codemirror_mode": {
    "name": "ipython",
    "version": 2
   },
   "file_extension": ".py",
   "mimetype": "text/x-python",
   "name": "python",
   "nbconvert_exporter": "python",
   "pygments_lexer": "ipython2",
   "version": "2.7.9"
  }
 },
 "nbformat": 4,
 "nbformat_minor": 0
}
