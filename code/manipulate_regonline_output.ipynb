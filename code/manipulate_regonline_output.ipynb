{
 "cells": [
  {
   "cell_type": "markdown",
   "metadata": {},
   "source": [
    "#manipulate_regonline_output\n",
    "\n",
    "This notebook reads the RegOnline output into a pandas DataFrame and reworks it to have each row contain the attendee, the Doppler Primer Session, the Monday Breakout session, and the Tuesday breakout session in each row."
   ]
  },
  {
   "cell_type": "code",
   "execution_count": 73,
   "metadata": {
    "collapsed": true
   },
   "outputs": [],
   "source": [
    "import pandas as pd\n",
    "import re"
   ]
  },
  {
   "cell_type": "markdown",
   "metadata": {},
   "source": [
    "#### Read the RegOnline output into a pandas DataFrame"
   ]
  },
  {
   "cell_type": "code",
   "execution_count": 213,
   "metadata": {
    "collapsed": true
   },
   "outputs": [],
   "source": [
    "df = pd.read_excel('/Users/matt/projects/EPRV/data/AttendeeReportCrop.xls', encoding='utf-8')"
   ]
  },
  {
   "cell_type": "code",
   "execution_count": 214,
   "metadata": {
    "collapsed": false
   },
   "outputs": [
    {
     "data": {
      "text/plain": [
       "Index([u'AgendaItem', u'RegId', u'GroupId', u'FirstName', u'LastName', u'Company'], dtype='object')"
      ]
     },
     "execution_count": 214,
     "metadata": {},
     "output_type": "execute_result"
    }
   ],
   "source": [
    "df.columns"
   ]
  },
  {
   "cell_type": "code",
   "execution_count": 215,
   "metadata": {
    "collapsed": true
   },
   "outputs": [],
   "source": [
    "#use this if you want to encode the unicode values to ascii.\n",
    "#this is helpful for displaying non-roman characters within\n",
    "#the IPython notebook:\n",
    "df['FirstName'] = [el.encode('ascii', 'ignore') for el in df['FirstName'].values]"
   ]
  },
  {
   "cell_type": "code",
   "execution_count": 216,
   "metadata": {
    "collapsed": false
   },
   "outputs": [
    {
     "name": "stdout",
     "output_type": "stream",
     "text": [
      "Joo\n",
      "Joo\n",
      "Joo\n",
      "Joo\n",
      "Joo\n"
     ]
    }
   ],
   "source": [
    "joao = df.loc[38, 'FirstName']\n",
    "print(joao)\n",
    "print(joao.encode('ascii', 'replace'))\n",
    "print(joao.encode('ascii', 'ignore'))\n",
    "print(joao.encode('ascii', 'xmlcharrefreplace'))\n",
    "print(joao.encode('ascii', 'backslashreplace'))"
   ]
  },
  {
   "cell_type": "code",
   "execution_count": 217,
   "metadata": {
    "collapsed": false
   },
   "outputs": [
    {
     "data": {
      "text/html": [
       "<div style=\"max-height:1000px;max-width:1500px;overflow:auto;\">\n",
       "<table border=\"1\" class=\"dataframe\">\n",
       "  <thead>\n",
       "    <tr style=\"text-align: right;\">\n",
       "      <th></th>\n",
       "      <th>AgendaItem</th>\n",
       "      <th>RegId</th>\n",
       "      <th>GroupId</th>\n",
       "      <th>FirstName</th>\n",
       "      <th>LastName</th>\n",
       "      <th>Company</th>\n",
       "    </tr>\n",
       "  </thead>\n",
       "  <tbody>\n",
       "    <tr>\n",
       "      <th>36</th>\n",
       "      <td>Doppler Primer: Instrumentation Challenges</td>\n",
       "      <td>79809251</td>\n",
       "      <td>79809251</td>\n",
       "      <td>Jason</td>\n",
       "      <td>Eastman</td>\n",
       "      <td>CfA</td>\n",
       "    </tr>\n",
       "    <tr>\n",
       "      <th>37</th>\n",
       "      <td>Doppler Primer: Not Attending</td>\n",
       "      <td>79200819</td>\n",
       "      <td>79200819</td>\n",
       "      <td>Michael</td>\n",
       "      <td>Endl</td>\n",
       "      <td>McDonald Observatory / University of Texas</td>\n",
       "    </tr>\n",
       "  </tbody>\n",
       "</table>\n",
       "</div>"
      ],
      "text/plain": [
       "                                    AgendaItem     RegId   GroupId FirstName  \\\n",
       "36  Doppler Primer: Instrumentation Challenges  79809251  79809251     Jason   \n",
       "37               Doppler Primer: Not Attending  79200819  79200819   Michael   \n",
       "\n",
       "   LastName                                     Company  \n",
       "36  Eastman                                         CfA  \n",
       "37     Endl  McDonald Observatory / University of Texas  "
      ]
     },
     "execution_count": 217,
     "metadata": {},
     "output_type": "execute_result"
    }
   ],
   "source": [
    "df.loc[36:37]"
   ]
  },
  {
   "cell_type": "markdown",
   "metadata": {},
   "source": [
    "#### Extract the Sunday Sessions\n",
    "\n",
    "RegOnline outputs multiple entries for each person, and each entry differs by the `AgendaItem`. `AgendaItem`s exist for all sessions happening on all days. In this section, we extract the sessions happening on Sunday, which are all prefixed by \"Doppler Primer: \"."
   ]
  },
  {
   "cell_type": "code",
   "execution_count": 197,
   "metadata": {
    "collapsed": false
   },
   "outputs": [
    {
     "data": {
      "text/plain": [
       "110"
      ]
     },
     "execution_count": 197,
     "metadata": {},
     "output_type": "execute_result"
    }
   ],
   "source": [
    "sundf = df[df['AgendaItem'].str.contains('Doppler Primer:')].copy()\n",
    "len(sundf)"
   ]
  },
  {
   "cell_type": "markdown",
   "metadata": {},
   "source": [
    "Let's create two new columns in our DataFrame: the `Primer`, and the `PrimerID`. The `Primer` column will contain the name of the Doppler Primer session (minus the `Doppler Primer: ` prefix), and the `PrimerID` will be a session identifier that will later be used in plotting."
   ]
  },
  {
   "cell_type": "code",
   "execution_count": 186,
   "metadata": {
    "collapsed": false
   },
   "outputs": [],
   "source": [
    "sundf['PrimerID'] = 0"
   ]
  },
  {
   "cell_type": "code",
   "execution_count": 187,
   "metadata": {
    "collapsed": false
   },
   "outputs": [],
   "source": [
    "sundf['Primer'] = [re.search(r'(.*):\\s(.*)$', item).group(2) for item in sundf['AgendaItem']]"
   ]
  },
  {
   "cell_type": "code",
   "execution_count": 188,
   "metadata": {
    "collapsed": false
   },
   "outputs": [
    {
     "data": {
      "text/html": [
       "<div style=\"max-height:1000px;max-width:1500px;overflow:auto;\">\n",
       "<table border=\"1\" class=\"dataframe\">\n",
       "  <thead>\n",
       "    <tr style=\"text-align: right;\">\n",
       "      <th></th>\n",
       "      <th>AgendaItem</th>\n",
       "      <th>Primer</th>\n",
       "    </tr>\n",
       "  </thead>\n",
       "  <tbody>\n",
       "    <tr>\n",
       "      <th>0</th>\n",
       "      <td>Doppler Primer: Instrumentation Challenges</td>\n",
       "      <td>Instrumentation Challenges</td>\n",
       "    </tr>\n",
       "    <tr>\n",
       "      <th>1</th>\n",
       "      <td>Doppler Primer: Doppler code</td>\n",
       "      <td>Doppler code</td>\n",
       "    </tr>\n",
       "    <tr>\n",
       "      <th>2</th>\n",
       "      <td>Doppler Primer: Spot Modeling</td>\n",
       "      <td>Spot Modeling</td>\n",
       "    </tr>\n",
       "  </tbody>\n",
       "</table>\n",
       "</div>"
      ],
      "text/plain": [
       "                                   AgendaItem                      Primer\n",
       "0  Doppler Primer: Instrumentation Challenges  Instrumentation Challenges\n",
       "1                Doppler Primer: Doppler code                Doppler code\n",
       "2               Doppler Primer: Spot Modeling               Spot Modeling"
      ]
     },
     "execution_count": 188,
     "metadata": {},
     "output_type": "execute_result"
    }
   ],
   "source": [
    "sundf[['AgendaItem', 'Primer']].head(3)"
   ]
  },
  {
   "cell_type": "code",
   "execution_count": 189,
   "metadata": {
    "collapsed": false
   },
   "outputs": [
    {
     "data": {
      "text/plain": [
       "u'Instrumentation Challenges'"
      ]
     },
     "execution_count": 189,
     "metadata": {},
     "output_type": "execute_result"
    }
   ],
   "source": [
    "sundf['Primer'].unique()[0]"
   ]
  },
  {
   "cell_type": "code",
   "execution_count": 191,
   "metadata": {
    "collapsed": false
   },
   "outputs": [],
   "source": [
    "dopID = 0\n",
    "for agItem in sundf['Primer'].unique():\n",
    "    sundf.loc[sundf['Primer'] == agItem, 'PrimerID'] = dopID\n",
    "    dopID += 1"
   ]
  },
  {
   "cell_type": "code",
   "execution_count": 194,
   "metadata": {
    "collapsed": false
   },
   "outputs": [
    {
     "data": {
      "text/html": [
       "<div style=\"max-height:1000px;max-width:1500px;overflow:auto;\">\n",
       "<table border=\"1\" class=\"dataframe\">\n",
       "  <thead>\n",
       "    <tr style=\"text-align: right;\">\n",
       "      <th></th>\n",
       "      <th>AgendaItem</th>\n",
       "      <th>Primer</th>\n",
       "      <th>PrimerID</th>\n",
       "    </tr>\n",
       "  </thead>\n",
       "  <tbody>\n",
       "    <tr>\n",
       "      <th>0</th>\n",
       "      <td>Doppler Primer: Instrumentation Challenges</td>\n",
       "      <td>Instrumentation Challenges</td>\n",
       "      <td>0</td>\n",
       "    </tr>\n",
       "    <tr>\n",
       "      <th>1</th>\n",
       "      <td>Doppler Primer: Doppler code</td>\n",
       "      <td>Doppler code</td>\n",
       "      <td>1</td>\n",
       "    </tr>\n",
       "    <tr>\n",
       "      <th>2</th>\n",
       "      <td>Doppler Primer: Spot Modeling</td>\n",
       "      <td>Spot Modeling</td>\n",
       "      <td>2</td>\n",
       "    </tr>\n",
       "    <tr>\n",
       "      <th>3</th>\n",
       "      <td>Doppler Primer: Spot Modeling</td>\n",
       "      <td>Spot Modeling</td>\n",
       "      <td>2</td>\n",
       "    </tr>\n",
       "  </tbody>\n",
       "</table>\n",
       "</div>"
      ],
      "text/plain": [
       "                                   AgendaItem                      Primer  \\\n",
       "0  Doppler Primer: Instrumentation Challenges  Instrumentation Challenges   \n",
       "1                Doppler Primer: Doppler code                Doppler code   \n",
       "2               Doppler Primer: Spot Modeling               Spot Modeling   \n",
       "3               Doppler Primer: Spot Modeling               Spot Modeling   \n",
       "\n",
       "   PrimerID  \n",
       "0         0  \n",
       "1         1  \n",
       "2         2  \n",
       "3         2  "
      ]
     },
     "execution_count": 194,
     "metadata": {},
     "output_type": "execute_result"
    }
   ],
   "source": [
    "sundf[['AgendaItem', 'Primer', 'PrimerID']].head(4)"
   ]
  },
  {
   "cell_type": "markdown",
   "metadata": {},
   "source": [
    "#### Extract the Monday Sessions\n",
    "\n",
    "Now to do the same for the Monday sessions."
   ]
  },
  {
   "cell_type": "code",
   "execution_count": 208,
   "metadata": {
    "collapsed": false
   },
   "outputs": [
    {
     "data": {
      "text/plain": [
       "120"
      ]
     },
     "execution_count": 208,
     "metadata": {},
     "output_type": "execute_result"
    }
   ],
   "source": [
    "mondf = df[df['AgendaItem'].str.contains('Monday Break-out:')].copy()\n",
    "len(mondf)"
   ]
  },
  {
   "cell_type": "code",
   "execution_count": 209,
   "metadata": {
    "collapsed": false
   },
   "outputs": [],
   "source": [
    "mondf['MonID'] = 0\n",
    "\n",
    "mondf['Monday'] = [re.search(r'(.*):\\s(.*)$', item).group(2) for item in mondf['AgendaItem']]\n",
    "\n",
    "mondf['Monday'].unique()\n",
    "\n",
    "monID = 0\n",
    "for agItem in mondf['Monday'].unique():\n",
    "    mondf.loc[mondf['Monday'] == agItem, 'MonID'] = monID\n",
    "    monID += 1"
   ]
  },
  {
   "cell_type": "code",
   "execution_count": 210,
   "metadata": {
    "collapsed": false
   },
   "outputs": [
    {
     "data": {
      "text/html": [
       "<div style=\"max-height:1000px;max-width:1500px;overflow:auto;\">\n",
       "<table border=\"1\" class=\"dataframe\">\n",
       "  <thead>\n",
       "    <tr style=\"text-align: right;\">\n",
       "      <th></th>\n",
       "      <th>AgendaItem</th>\n",
       "      <th>Monday</th>\n",
       "      <th>MonID</th>\n",
       "    </tr>\n",
       "  </thead>\n",
       "  <tbody>\n",
       "    <tr>\n",
       "      <th>110</th>\n",
       "      <td>Monday Break-out: Fiber Optic Scrambling</td>\n",
       "      <td>Fiber Optic Scrambling</td>\n",
       "      <td>0</td>\n",
       "    </tr>\n",
       "    <tr>\n",
       "      <th>111</th>\n",
       "      <td>Monday Break-out: Not attending</td>\n",
       "      <td>Not attending</td>\n",
       "      <td>1</td>\n",
       "    </tr>\n",
       "    <tr>\n",
       "      <th>112</th>\n",
       "      <td>Monday Break-out: Fiber Optic Scrambling</td>\n",
       "      <td>Fiber Optic Scrambling</td>\n",
       "      <td>0</td>\n",
       "    </tr>\n",
       "    <tr>\n",
       "      <th>113</th>\n",
       "      <td>Monday Break-out: Telluric Contamination</td>\n",
       "      <td>Telluric Contamination</td>\n",
       "      <td>2</td>\n",
       "    </tr>\n",
       "  </tbody>\n",
       "</table>\n",
       "</div>"
      ],
      "text/plain": [
       "                                   AgendaItem                  Monday  MonID\n",
       "110  Monday Break-out: Fiber Optic Scrambling  Fiber Optic Scrambling      0\n",
       "111           Monday Break-out: Not attending           Not attending      1\n",
       "112  Monday Break-out: Fiber Optic Scrambling  Fiber Optic Scrambling      0\n",
       "113  Monday Break-out: Telluric Contamination  Telluric Contamination      2"
      ]
     },
     "execution_count": 210,
     "metadata": {},
     "output_type": "execute_result"
    }
   ],
   "source": [
    "mondf[['AgendaItem', 'Monday', 'MonID']].head(4)"
   ]
  },
  {
   "cell_type": "markdown",
   "metadata": {},
   "source": [
    "#### Extract Tuesday Sessions"
   ]
  },
  {
   "cell_type": "code",
   "execution_count": 206,
   "metadata": {
    "collapsed": false
   },
   "outputs": [
    {
     "data": {
      "text/plain": [
       "120"
      ]
     },
     "execution_count": 206,
     "metadata": {},
     "output_type": "execute_result"
    }
   ],
   "source": [
    "tuedf = df[df['AgendaItem'].str.contains('Tuesday Break-out:')].copy()\n",
    "len(tuedf)"
   ]
  },
  {
   "cell_type": "code",
   "execution_count": 211,
   "metadata": {
    "collapsed": true
   },
   "outputs": [],
   "source": [
    "tuedf['TueID'] = 0\n",
    "\n",
    "tuedf['Tuesday'] = [re.search(r'(.*):\\s(.*)$', item).group(2) for item in tuedf['AgendaItem']]\n",
    "\n",
    "tuedf['Tuesday'].unique()\n",
    "\n",
    "tuesID = 0\n",
    "for agItem in tuedf['Tuesday'].unique():\n",
    "    tuedf.loc[tuedf['Tuesday'] == agItem, 'TueID'] = tuesID\n",
    "    tuesID += 1"
   ]
  },
  {
   "cell_type": "code",
   "execution_count": 212,
   "metadata": {
    "collapsed": false
   },
   "outputs": [
    {
     "data": {
      "text/html": [
       "<div style=\"max-height:1000px;max-width:1500px;overflow:auto;\">\n",
       "<table border=\"1\" class=\"dataframe\">\n",
       "  <thead>\n",
       "    <tr style=\"text-align: right;\">\n",
       "      <th></th>\n",
       "      <th>AgendaItem</th>\n",
       "      <th>Tuesday</th>\n",
       "      <th>TueID</th>\n",
       "    </tr>\n",
       "  </thead>\n",
       "  <tbody>\n",
       "    <tr>\n",
       "      <th>230</th>\n",
       "      <td>Tuesday Break-out: Statistical techniques</td>\n",
       "      <td>Statistical techniques</td>\n",
       "      <td>0</td>\n",
       "    </tr>\n",
       "    <tr>\n",
       "      <th>231</th>\n",
       "      <td>Tuesday Break-out: Statistical techniques</td>\n",
       "      <td>Statistical techniques</td>\n",
       "      <td>0</td>\n",
       "    </tr>\n",
       "    <tr>\n",
       "      <th>232</th>\n",
       "      <td>Tuesday Break-out: Detection Threshold Criteria</td>\n",
       "      <td>Detection Threshold Criteria</td>\n",
       "      <td>1</td>\n",
       "    </tr>\n",
       "    <tr>\n",
       "      <th>233</th>\n",
       "      <td>Tuesday Break-out: Detection Threshold Criteria</td>\n",
       "      <td>Detection Threshold Criteria</td>\n",
       "      <td>1</td>\n",
       "    </tr>\n",
       "  </tbody>\n",
       "</table>\n",
       "</div>"
      ],
      "text/plain": [
       "                                          AgendaItem  \\\n",
       "230        Tuesday Break-out: Statistical techniques   \n",
       "231        Tuesday Break-out: Statistical techniques   \n",
       "232  Tuesday Break-out: Detection Threshold Criteria   \n",
       "233  Tuesday Break-out: Detection Threshold Criteria   \n",
       "\n",
       "                          Tuesday  TueID  \n",
       "230        Statistical techniques      0  \n",
       "231        Statistical techniques      0  \n",
       "232  Detection Threshold Criteria      1  \n",
       "233  Detection Threshold Criteria      1  "
      ]
     },
     "execution_count": 212,
     "metadata": {},
     "output_type": "execute_result"
    }
   ],
   "source": [
    "tuedf[['AgendaItem', 'Tuesday', 'TueID']].head(4)"
   ]
  },
  {
   "cell_type": "markdown",
   "metadata": {},
   "source": [
    "#### Combine the DataFrames"
   ]
  },
  {
   "cell_type": "code",
   "execution_count": 225,
   "metadata": {
    "collapsed": true
   },
   "outputs": [],
   "source": [
    "fulldf = df[['RegId', 'GroupId', 'FirstName', 'LastName', 'Company']]"
   ]
  },
  {
   "cell_type": "code",
   "execution_count": 226,
   "metadata": {
    "collapsed": false
   },
   "outputs": [
    {
     "name": "stdout",
     "output_type": "stream",
     "text": [
      "350\n",
      "120\n"
     ]
    }
   ],
   "source": [
    "print(len(fulldf))\n",
    "fulldf = fulldf.drop_duplicates()\n",
    "print(len(fulldf))"
   ]
  },
  {
   "cell_type": "code",
   "execution_count": null,
   "metadata": {
    "collapsed": true
   },
   "outputs": [],
   "source": []
  }
 ],
 "metadata": {
  "kernelspec": {
   "display_name": "Python 2",
   "language": "python",
   "name": "python2"
  },
  "language_info": {
   "codemirror_mode": {
    "name": "ipython",
    "version": 2
   },
   "file_extension": ".py",
   "mimetype": "text/x-python",
   "name": "python",
   "nbconvert_exporter": "python",
   "pygments_lexer": "ipython2",
   "version": "2.7.9"
  }
 },
 "nbformat": 4,
 "nbformat_minor": 0
}
